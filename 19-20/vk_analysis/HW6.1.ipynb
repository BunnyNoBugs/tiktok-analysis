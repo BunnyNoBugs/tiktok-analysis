{
 "cells": [
  {
   "cell_type": "markdown",
   "metadata": {},
   "source": [
    "Арцишевский Антон, 183"
   ]
  },
  {
   "cell_type": "code",
   "execution_count": 12,
   "metadata": {},
   "outputs": [],
   "source": [
    "import requests\n",
    "import json\n",
    "from tqdm.auto import tqdm\n",
    "import vk\n",
    "from datetime import datetime\n",
    "from time import sleep\n",
    "import nltk\n",
    "import random\n",
    "from wordcloud import WordCloud\n",
    "from tqdm.auto import tqdm\n",
    "from random import randint"
   ]
  },
  {
   "cell_type": "code",
   "execution_count": 6,
   "metadata": {},
   "outputs": [],
   "source": [
    "token = '13d415902acc6eea2ab951337fb4c078d720c1b5efef13f799671c15227e0d3ff1a500fef4644e5699e11'\n",
    "version = '5.92'"
   ]
  },
  {
   "cell_type": "code",
   "execution_count": 7,
   "metadata": {},
   "outputs": [],
   "source": [
    "session = vk.Session(access_token=token)\n",
    "vk_api = vk.API(session)"
   ]
  },
  {
   "cell_type": "markdown",
   "metadata": {},
   "source": [
    "Качаем 1000 комментов"
   ]
  },
  {
   "cell_type": "code",
   "execution_count": 14,
   "metadata": {},
   "outputs": [],
   "source": [
    "offsets = [0, 100, 2000, 300, 400, 500, 600, 700, 800, 900]\n",
    "comments = []\n",
    "for off in offsets:\n",
    "    comments_100 = requests.get(\n",
    "                                'https://api.vk.com/method/wall.get',\n",
    "                                   params={\n",
    "                                       'domain': 'prostudium', \n",
    "                                       'v': version,\n",
    "                                       'access_token': token,\n",
    "                                       'count': 100,\n",
    "                                       'filter': 'others',\n",
    "                                       'offset': off\n",
    "                                       }\n",
    "                               ).json()\n",
    "    comments.append(comments_100['response']['items'])\n",
    "                                \n",
    "    sleep(randint(0, 1))"
   ]
  },
  {
   "cell_type": "markdown",
   "metadata": {},
   "source": [
    "Функция под доставанию пола и города юзера"
   ]
  },
  {
   "cell_type": "code",
   "execution_count": 15,
   "metadata": {},
   "outputs": [],
   "source": [
    "    def get_user_info(user_id):\n",
    "        #sleep(random.random())\n",
    "        sleep(random.uniform(0.2, 0.4))\n",
    "        data = requests.get(\n",
    "            'https://api.vk.com/method/users.get',\n",
    "            params={\n",
    "                'user_ids': user_id,\n",
    "                'fields': 'sex, city',\n",
    "                'access_token': token,\n",
    "                'v': version\n",
    "            }\n",
    "        ).json()\n",
    "\n",
    "\n",
    "        u = data.get('response')[0]\n",
    "        if 'sex' in u:\n",
    "            if u['sex'] == 1:\n",
    "                u['sex'] = 'female'\n",
    "            if u['sex'] == 2:\n",
    "                u['sex'] = 'male'\n",
    "            if u['sex'] == 0:\n",
    "                u['sex'] = 'no gender'\n",
    "            sex = u['sex']\n",
    "        else:\n",
    "            sex = 'None'\n",
    "        if 'city' in u:\n",
    "            city = u['city']['title']\n",
    "        else:\n",
    "            city = 'None'\n",
    "        \n",
    "\n",
    "        return sex, city"
   ]
  },
  {
   "cell_type": "code",
   "execution_count": 16,
   "metadata": {},
   "outputs": [],
   "source": [
    "from pymorphy2 import MorphAnalyzer\n",
    "import time\n",
    "from string import punctuation\n",
    "from nltk.corpus import stopwords\n",
    "from nltk.tokenize import word_tokenize\n",
    "morph = MorphAnalyzer()"
   ]
  },
  {
   "cell_type": "markdown",
   "metadata": {},
   "source": [
    "Лемматизация текста поста на пайморфи. Отчищена от стоп слов, знаков препинания и приведена к нижнему регистру."
   ]
  },
  {
   "cell_type": "code",
   "execution_count": 17,
   "metadata": {},
   "outputs": [],
   "source": [
    "def lemmatize(text):\n",
    "    words = [w.lower() for w in word_tokenize(text) if w.isalpha()]\n",
    "    # text = [word for word in text if word != '']\n",
    "\n",
    "    lemmas = []\n",
    "\n",
    "    for word in text:\n",
    "        lemmas.append(morph.parse(word)[0].normal_form)\n",
    "\n",
    "    sw = stopwords.words('russian')\n",
    "    sw.append('всем, привет, вопрос, спасибо, здравствуйте, пожалуйста, просто, добрый, подскажите, пока, ещё, буду, могу, это, очень, нужно')\n",
    "    words = [w.lower() for w in word_tokenize(text) if w.isalpha()]\n",
    "    \n",
    "    cleared_words = []\n",
    "    for word in words:\n",
    "        if word in sw:\n",
    "            continue\n",
    "        else:\n",
    "            cleared_words.append(word)\n",
    "        \n",
    "    return cleared_words"
   ]
  },
  {
   "cell_type": "code",
   "execution_count": null,
   "metadata": {},
   "outputs": [],
   "source": []
  },
  {
   "cell_type": "markdown",
   "metadata": {},
   "source": [
    "Сосбсна основная махина. Распаковывает комменты, достает оттудова айди юзера, текст (потом лемматизирует его), лайки, время поста, пол и город юзера.\n",
    "В конце добавляет получившийся словарик в списочек."
   ]
  },
  {
   "cell_type": "code",
   "execution_count": 18,
   "metadata": {},
   "outputs": [
    {
     "data": {
      "application/vnd.jupyter.widget-view+json": {
       "model_id": "c2cb3501320747c89e1ce8581be87872",
       "version_major": 2,
       "version_minor": 0
      },
      "text/plain": [
       "HBox(children=(FloatProgress(value=0.0, max=10.0), HTML(value='')))"
      ]
     },
     "metadata": {},
     "output_type": "display_data"
    },
    {
     "data": {
      "application/vnd.jupyter.widget-view+json": {
       "model_id": "d40c33e0b2c947bdb32ce9a7c7d09a9a",
       "version_major": 2,
       "version_minor": 0
      },
      "text/plain": [
       "HBox(children=(FloatProgress(value=0.0), HTML(value='')))"
      ]
     },
     "metadata": {},
     "output_type": "display_data"
    },
    {
     "name": "stdout",
     "output_type": "stream",
     "text": [
      "\n"
     ]
    },
    {
     "data": {
      "application/vnd.jupyter.widget-view+json": {
       "model_id": "b695935995e941d2939dcd95af9fb3b8",
       "version_major": 2,
       "version_minor": 0
      },
      "text/plain": [
       "HBox(children=(FloatProgress(value=0.0), HTML(value='')))"
      ]
     },
     "metadata": {},
     "output_type": "display_data"
    },
    {
     "name": "stdout",
     "output_type": "stream",
     "text": [
      "\n"
     ]
    },
    {
     "data": {
      "application/vnd.jupyter.widget-view+json": {
       "model_id": "25ef4a770825427f926bb67410a90788",
       "version_major": 2,
       "version_minor": 0
      },
      "text/plain": [
       "HBox(children=(FloatProgress(value=0.0), HTML(value='')))"
      ]
     },
     "metadata": {},
     "output_type": "display_data"
    },
    {
     "name": "stdout",
     "output_type": "stream",
     "text": [
      "\n"
     ]
    },
    {
     "data": {
      "application/vnd.jupyter.widget-view+json": {
       "model_id": "517b16860f2d4562b81e2f7c9474f5ef",
       "version_major": 2,
       "version_minor": 0
      },
      "text/plain": [
       "HBox(children=(FloatProgress(value=0.0), HTML(value='')))"
      ]
     },
     "metadata": {},
     "output_type": "display_data"
    },
    {
     "name": "stdout",
     "output_type": "stream",
     "text": [
      "\n"
     ]
    },
    {
     "data": {
      "application/vnd.jupyter.widget-view+json": {
       "model_id": "fe6221f325f7483398a24ff89ae2bb71",
       "version_major": 2,
       "version_minor": 0
      },
      "text/plain": [
       "HBox(children=(FloatProgress(value=0.0), HTML(value='')))"
      ]
     },
     "metadata": {},
     "output_type": "display_data"
    },
    {
     "name": "stdout",
     "output_type": "stream",
     "text": [
      "\n"
     ]
    },
    {
     "data": {
      "application/vnd.jupyter.widget-view+json": {
       "model_id": "ffd16092ed4b4050bd3c64809f6c64d3",
       "version_major": 2,
       "version_minor": 0
      },
      "text/plain": [
       "HBox(children=(FloatProgress(value=0.0), HTML(value='')))"
      ]
     },
     "metadata": {},
     "output_type": "display_data"
    },
    {
     "name": "stdout",
     "output_type": "stream",
     "text": [
      "\n"
     ]
    },
    {
     "data": {
      "application/vnd.jupyter.widget-view+json": {
       "model_id": "5ba384fe0c394b12a1fd3d0e9f4252df",
       "version_major": 2,
       "version_minor": 0
      },
      "text/plain": [
       "HBox(children=(FloatProgress(value=0.0), HTML(value='')))"
      ]
     },
     "metadata": {},
     "output_type": "display_data"
    },
    {
     "name": "stdout",
     "output_type": "stream",
     "text": [
      "\n"
     ]
    },
    {
     "data": {
      "application/vnd.jupyter.widget-view+json": {
       "model_id": "8f16c18a764a4593af2ece78cd2687ac",
       "version_major": 2,
       "version_minor": 0
      },
      "text/plain": [
       "HBox(children=(FloatProgress(value=0.0), HTML(value='')))"
      ]
     },
     "metadata": {},
     "output_type": "display_data"
    },
    {
     "name": "stdout",
     "output_type": "stream",
     "text": [
      "\n"
     ]
    },
    {
     "data": {
      "application/vnd.jupyter.widget-view+json": {
       "model_id": "0cb3a93afeb54b27bc58c5e482ba4706",
       "version_major": 2,
       "version_minor": 0
      },
      "text/plain": [
       "HBox(children=(FloatProgress(value=0.0), HTML(value='')))"
      ]
     },
     "metadata": {},
     "output_type": "display_data"
    },
    {
     "name": "stdout",
     "output_type": "stream",
     "text": [
      "\n"
     ]
    },
    {
     "data": {
      "application/vnd.jupyter.widget-view+json": {
       "model_id": "8a811e2c2c624b5083d8e6dca130753c",
       "version_major": 2,
       "version_minor": 0
      },
      "text/plain": [
       "HBox(children=(FloatProgress(value=0.0), HTML(value='')))"
      ]
     },
     "metadata": {},
     "output_type": "display_data"
    },
    {
     "name": "stdout",
     "output_type": "stream",
     "text": [
      "\n",
      "\n"
     ]
    }
   ],
   "source": [
    "data1 = []\n",
    "\n",
    "\n",
    "for comments_100 in tqdm(comments):\n",
    "    for comment in tqdm(comments_100):\n",
    "        d = {'user_id': int, 'text': str, 'lemmas': str, 'likes': int, \"hour\": int, 'sex': str, 'city': str, 'len_text': int}\n",
    "        user_id = comment['from_id'] # user id\n",
    "    \n",
    "        text = comment['text'] # text\n",
    "    \n",
    "        lemmas = lemmatize(text)\n",
    "    \n",
    "        likes = comment['likes']['count']\n",
    "    \n",
    "        hour = comment['date'] # text\n",
    "        hour = datetime.fromtimestamp(hour) # converting unixtime into utc\n",
    "        hour = hour.hour\n",
    "    \n",
    "        d['user_id'] = user_id\n",
    "        d['text'] = text\n",
    "        d['lemmas'] = lemmas\n",
    "        d['likes'] = likes\n",
    "        d['hour'] = hour\n",
    "        d['len_text'] = len(text)\n",
    "    \n",
    "        user_info = get_user_info(user_id)\n",
    "        user_info = list(user_info)\n",
    "        d['sex'] = user_info[0]\n",
    "        d['city'] = user_info[1]\n",
    "        data1.append(d)"
   ]
  },
  {
   "cell_type": "markdown",
   "metadata": {},
   "source": [
    "Рисуем. Сначала оформлю дф и запихну его в файл с разделением по табуляции (так красивше)"
   ]
  },
  {
   "cell_type": "code",
   "execution_count": 19,
   "metadata": {},
   "outputs": [],
   "source": [
    "import matplotlib.pyplot as plt\n",
    "%matplotlib inline\n",
    "import seaborn as sns\n",
    "import random\n",
    "import pandas as pd\n",
    "random.seed = 23"
   ]
  },
  {
   "cell_type": "code",
   "execution_count": 20,
   "metadata": {},
   "outputs": [],
   "source": [
    "df = pd.DataFrame(data1)"
   ]
  },
  {
   "cell_type": "code",
   "execution_count": 21,
   "metadata": {},
   "outputs": [
    {
     "data": {
      "text/html": [
       "<div>\n",
       "<style scoped>\n",
       "    .dataframe tbody tr th:only-of-type {\n",
       "        vertical-align: middle;\n",
       "    }\n",
       "\n",
       "    .dataframe tbody tr th {\n",
       "        vertical-align: top;\n",
       "    }\n",
       "\n",
       "    .dataframe thead th {\n",
       "        text-align: right;\n",
       "    }\n",
       "</style>\n",
       "<table border=\"1\" class=\"dataframe\">\n",
       "  <thead>\n",
       "    <tr style=\"text-align: right;\">\n",
       "      <th></th>\n",
       "      <th>user_id</th>\n",
       "      <th>text</th>\n",
       "      <th>lemmas</th>\n",
       "      <th>likes</th>\n",
       "      <th>hour</th>\n",
       "      <th>sex</th>\n",
       "      <th>city</th>\n",
       "      <th>len_text</th>\n",
       "    </tr>\n",
       "  </thead>\n",
       "  <tbody>\n",
       "    <tr>\n",
       "      <th>0</th>\n",
       "      <td>156262017</td>\n",
       "      <td>Всем привет! Надеюсь кто-то сможет проконсульт...</td>\n",
       "      <td>[всем, привет, надеюсь, сможет, проконсультиро...</td>\n",
       "      <td>2</td>\n",
       "      <td>21</td>\n",
       "      <td>female</td>\n",
       "      <td>München</td>\n",
       "      <td>389</td>\n",
       "    </tr>\n",
       "    <tr>\n",
       "      <th>1</th>\n",
       "      <td>167827070</td>\n",
       "      <td>Всем привет! \\nВопрос к студентам медикам.\\nЧт...</td>\n",
       "      <td>[всем, привет, вопрос, студентам, медикам, так...</td>\n",
       "      <td>3</td>\n",
       "      <td>21</td>\n",
       "      <td>male</td>\n",
       "      <td>Сызрань</td>\n",
       "      <td>258</td>\n",
       "    </tr>\n",
       "    <tr>\n",
       "      <th>2</th>\n",
       "      <td>351349690</td>\n",
       "      <td>Добрый вечер! Те кто учился/учиться в штк Лейп...</td>\n",
       "      <td>[добрый, вечер, те, штк, лейпциг, расскажите, ...</td>\n",
       "      <td>5</td>\n",
       "      <td>18</td>\n",
       "      <td>male</td>\n",
       "      <td>Гомель</td>\n",
       "      <td>257</td>\n",
       "    </tr>\n",
       "    <tr>\n",
       "      <th>3</th>\n",
       "      <td>170352709</td>\n",
       "      <td>Привет! Получил по почте присяжный перевод от ...</td>\n",
       "      <td>[привет, получил, почте, присяжный, перевод, п...</td>\n",
       "      <td>4</td>\n",
       "      <td>18</td>\n",
       "      <td>male</td>\n",
       "      <td>Алматы</td>\n",
       "      <td>271</td>\n",
       "    </tr>\n",
       "    <tr>\n",
       "      <th>4</th>\n",
       "      <td>561775493</td>\n",
       "      <td>AБХ Бонна \\nЗначит-ли это что АБХ всех или бол...</td>\n",
       "      <td>[aбх, бонна, это, абх, большинства, земель, бу...</td>\n",
       "      <td>5</td>\n",
       "      <td>15</td>\n",
       "      <td>female</td>\n",
       "      <td>Москва</td>\n",
       "      <td>102</td>\n",
       "    </tr>\n",
       "    <tr>\n",
       "      <th>...</th>\n",
       "      <td>...</td>\n",
       "      <td>...</td>\n",
       "      <td>...</td>\n",
       "      <td>...</td>\n",
       "      <td>...</td>\n",
       "      <td>...</td>\n",
       "      <td>...</td>\n",
       "      <td>...</td>\n",
       "    </tr>\n",
       "    <tr>\n",
       "      <th>995</th>\n",
       "      <td>189509916</td>\n",
       "      <td>Несколькими постами ниже вопрос про прилёт в Г...</td>\n",
       "      <td>[несколькими, постами, ниже, вопрос, прилёт, г...</td>\n",
       "      <td>8</td>\n",
       "      <td>16</td>\n",
       "      <td>female</td>\n",
       "      <td>None</td>\n",
       "      <td>375</td>\n",
       "    </tr>\n",
       "    <tr>\n",
       "      <th>996</th>\n",
       "      <td>13336576</td>\n",
       "      <td>А кто-нибудь знает, это правда, что студентам ...</td>\n",
       "      <td>[знает, это, правда, студентам, работать, часо...</td>\n",
       "      <td>7</td>\n",
       "      <td>14</td>\n",
       "      <td>female</td>\n",
       "      <td>Москва</td>\n",
       "      <td>255</td>\n",
       "    </tr>\n",
       "    <tr>\n",
       "      <th>997</th>\n",
       "      <td>327993335</td>\n",
       "      <td>Добрый день, у меня такой вопрос \\nПосле 9 кла...</td>\n",
       "      <td>[добрый, день, вопрос, класса, семьей, перееха...</td>\n",
       "      <td>8</td>\n",
       "      <td>14</td>\n",
       "      <td>female</td>\n",
       "      <td>None</td>\n",
       "      <td>669</td>\n",
       "    </tr>\n",
       "    <tr>\n",
       "      <th>998</th>\n",
       "      <td>31728406</td>\n",
       "      <td>Ребят, вопрос совсем не по теме сообщества, но...</td>\n",
       "      <td>[ребят, вопрос, теме, сообщества, думаю, смогу...</td>\n",
       "      <td>12</td>\n",
       "      <td>13</td>\n",
       "      <td>female</td>\n",
       "      <td>None</td>\n",
       "      <td>199</td>\n",
       "    </tr>\n",
       "    <tr>\n",
       "      <th>999</th>\n",
       "      <td>71200244</td>\n",
       "      <td>Здравствуйте) Вопрос немного не по теме, не по...</td>\n",
       "      <td>[здравствуйте, вопрос, немного, теме, учебе, п...</td>\n",
       "      <td>8</td>\n",
       "      <td>13</td>\n",
       "      <td>female</td>\n",
       "      <td>Москва</td>\n",
       "      <td>374</td>\n",
       "    </tr>\n",
       "  </tbody>\n",
       "</table>\n",
       "<p>1000 rows × 8 columns</p>\n",
       "</div>"
      ],
      "text/plain": [
       "       user_id                                               text  \\\n",
       "0    156262017  Всем привет! Надеюсь кто-то сможет проконсульт...   \n",
       "1    167827070  Всем привет! \\nВопрос к студентам медикам.\\nЧт...   \n",
       "2    351349690  Добрый вечер! Те кто учился/учиться в штк Лейп...   \n",
       "3    170352709  Привет! Получил по почте присяжный перевод от ...   \n",
       "4    561775493  AБХ Бонна \\nЗначит-ли это что АБХ всех или бол...   \n",
       "..         ...                                                ...   \n",
       "995  189509916  Несколькими постами ниже вопрос про прилёт в Г...   \n",
       "996   13336576  А кто-нибудь знает, это правда, что студентам ...   \n",
       "997  327993335  Добрый день, у меня такой вопрос \\nПосле 9 кла...   \n",
       "998   31728406  Ребят, вопрос совсем не по теме сообщества, но...   \n",
       "999   71200244  Здравствуйте) Вопрос немного не по теме, не по...   \n",
       "\n",
       "                                                lemmas  likes  hour     sex  \\\n",
       "0    [всем, привет, надеюсь, сможет, проконсультиро...      2    21  female   \n",
       "1    [всем, привет, вопрос, студентам, медикам, так...      3    21    male   \n",
       "2    [добрый, вечер, те, штк, лейпциг, расскажите, ...      5    18    male   \n",
       "3    [привет, получил, почте, присяжный, перевод, п...      4    18    male   \n",
       "4    [aбх, бонна, это, абх, большинства, земель, бу...      5    15  female   \n",
       "..                                                 ...    ...   ...     ...   \n",
       "995  [несколькими, постами, ниже, вопрос, прилёт, г...      8    16  female   \n",
       "996  [знает, это, правда, студентам, работать, часо...      7    14  female   \n",
       "997  [добрый, день, вопрос, класса, семьей, перееха...      8    14  female   \n",
       "998  [ребят, вопрос, теме, сообщества, думаю, смогу...     12    13  female   \n",
       "999  [здравствуйте, вопрос, немного, теме, учебе, п...      8    13  female   \n",
       "\n",
       "        city  len_text  \n",
       "0    München       389  \n",
       "1    Сызрань       258  \n",
       "2     Гомель       257  \n",
       "3     Алматы       271  \n",
       "4     Москва       102  \n",
       "..       ...       ...  \n",
       "995     None       375  \n",
       "996   Москва       255  \n",
       "997     None       669  \n",
       "998     None       199  \n",
       "999   Москва       374  \n",
       "\n",
       "[1000 rows x 8 columns]"
      ]
     },
     "execution_count": 21,
     "metadata": {},
     "output_type": "execute_result"
    }
   ],
   "source": [
    "df"
   ]
  },
  {
   "cell_type": "code",
   "execution_count": 22,
   "metadata": {},
   "outputs": [],
   "source": [
    "df.to_csv('some_file.csv', sep='\\t', index=False)"
   ]
  },
  {
   "cell_type": "markdown",
   "metadata": {},
   "source": [
    "Пора строить зависимости. Выбирал графики исходя из своих метапараметров (могло быть конечно и лучше)<br>\n",
    "## График зависимости лайков от пола. Что он говорит? <br>\n",
    "1) Мужчины получаеют меньше лайков <br>\n",
    "2) Основное кол-во лайков колеблеться от 0 до 20 (50+ лайков скорее всего посты админа или конкурсы)<br>"
   ]
  },
  {
   "cell_type": "code",
   "execution_count": 23,
   "metadata": {},
   "outputs": [
    {
     "data": {
      "text/plain": [
       "Text(0, 0.5, 'sex')"
      ]
     },
     "execution_count": 23,
     "metadata": {},
     "output_type": "execute_result"
    },
    {
     "data": {
      "image/png": "[encoded data removed]",
      "text/plain": [
       "<Figure size 432x288 with 1 Axes>"
      ]
     },
     "metadata": {
      "needs_background": "light"
     },
     "output_type": "display_data"
    }
   ],
   "source": [
    "df_sl = df[(df['sex'] != 0)][['likes', 'sex']]\n",
    "\n",
    "fig, ax = plt.subplots()\n",
    "\n",
    "ax.scatter(df_sl['likes'], df_sl['sex'])\n",
    "ax.set_title('Зависимость лайков от пола')\n",
    "ax.set_xlabel('likes')\n",
    "ax.set_ylabel('sex')"
   ]
  },
  {
   "cell_type": "markdown",
   "metadata": {},
   "source": [
    "## Зависимость кол-ва лайков от часа публикации. Показывает активность сообщества."
   ]
  },
  {
   "cell_type": "code",
   "execution_count": 24,
   "metadata": {},
   "outputs": [
    {
     "data": {
      "text/plain": [
       "<matplotlib.axes._subplots.AxesSubplot at 0x1ea616d0c70>"
      ]
     },
     "execution_count": 24,
     "metadata": {},
     "output_type": "execute_result"
    },
    {
     "data": {
      "image/png": "[encoded data removed]",
      "text/plain": [
       "<Figure size 432x288 with 1 Axes>"
      ]
     },
     "metadata": {
      "needs_background": "light"
     },
     "output_type": "display_data"
    }
   ],
   "source": [
    "df4 = df[['hour', 'likes']]\n",
    "dff = df4.groupby('hour')\n",
    "dff.sum().plot.bar()"
   ]
  },
  {
   "cell_type": "code",
   "execution_count": 40,
   "metadata": {},
   "outputs": [
    {
     "data": {
      "text/html": [
       "<div>\n",
       "<style scoped>\n",
       "    .dataframe tbody tr th:only-of-type {\n",
       "        vertical-align: middle;\n",
       "    }\n",
       "\n",
       "    .dataframe tbody tr th {\n",
       "        vertical-align: top;\n",
       "    }\n",
       "\n",
       "    .dataframe thead th {\n",
       "        text-align: right;\n",
       "    }\n",
       "</style>\n",
       "<table border=\"1\" class=\"dataframe\">\n",
       "  <thead>\n",
       "    <tr style=\"text-align: right;\">\n",
       "      <th></th>\n",
       "      <th>likes</th>\n",
       "    </tr>\n",
       "    <tr>\n",
       "      <th>hour</th>\n",
       "      <th></th>\n",
       "    </tr>\n",
       "  </thead>\n",
       "  <tbody>\n",
       "    <tr>\n",
       "      <th>0</th>\n",
       "      <td>369</td>\n",
       "    </tr>\n",
       "    <tr>\n",
       "      <th>1</th>\n",
       "      <td>222</td>\n",
       "    </tr>\n",
       "    <tr>\n",
       "      <th>2</th>\n",
       "      <td>176</td>\n",
       "    </tr>\n",
       "    <tr>\n",
       "      <th>3</th>\n",
       "      <td>43</td>\n",
       "    </tr>\n",
       "    <tr>\n",
       "      <th>4</th>\n",
       "      <td>14</td>\n",
       "    </tr>\n",
       "    <tr>\n",
       "      <th>5</th>\n",
       "      <td>28</td>\n",
       "    </tr>\n",
       "    <tr>\n",
       "      <th>6</th>\n",
       "      <td>54</td>\n",
       "    </tr>\n",
       "    <tr>\n",
       "      <th>7</th>\n",
       "      <td>40</td>\n",
       "    </tr>\n",
       "    <tr>\n",
       "      <th>8</th>\n",
       "      <td>122</td>\n",
       "    </tr>\n",
       "    <tr>\n",
       "      <th>9</th>\n",
       "      <td>355</td>\n",
       "    </tr>\n",
       "    <tr>\n",
       "      <th>10</th>\n",
       "      <td>300</td>\n",
       "    </tr>\n",
       "    <tr>\n",
       "      <th>11</th>\n",
       "      <td>677</td>\n",
       "    </tr>\n",
       "    <tr>\n",
       "      <th>12</th>\n",
       "      <td>603</td>\n",
       "    </tr>\n",
       "    <tr>\n",
       "      <th>13</th>\n",
       "      <td>738</td>\n",
       "    </tr>\n",
       "    <tr>\n",
       "      <th>14</th>\n",
       "      <td>572</td>\n",
       "    </tr>\n",
       "    <tr>\n",
       "      <th>15</th>\n",
       "      <td>521</td>\n",
       "    </tr>\n",
       "    <tr>\n",
       "      <th>16</th>\n",
       "      <td>713</td>\n",
       "    </tr>\n",
       "    <tr>\n",
       "      <th>17</th>\n",
       "      <td>543</td>\n",
       "    </tr>\n",
       "    <tr>\n",
       "      <th>18</th>\n",
       "      <td>598</td>\n",
       "    </tr>\n",
       "    <tr>\n",
       "      <th>19</th>\n",
       "      <td>708</td>\n",
       "    </tr>\n",
       "    <tr>\n",
       "      <th>20</th>\n",
       "      <td>607</td>\n",
       "    </tr>\n",
       "    <tr>\n",
       "      <th>21</th>\n",
       "      <td>670</td>\n",
       "    </tr>\n",
       "    <tr>\n",
       "      <th>22</th>\n",
       "      <td>483</td>\n",
       "    </tr>\n",
       "    <tr>\n",
       "      <th>23</th>\n",
       "      <td>428</td>\n",
       "    </tr>\n",
       "  </tbody>\n",
       "</table>\n",
       "</div>"
      ],
      "text/plain": [
       "      likes\n",
       "hour       \n",
       "0       369\n",
       "1       222\n",
       "2       176\n",
       "3        43\n",
       "4        14\n",
       "5        28\n",
       "6        54\n",
       "7        40\n",
       "8       122\n",
       "9       355\n",
       "10      300\n",
       "11      677\n",
       "12      603\n",
       "13      738\n",
       "14      572\n",
       "15      521\n",
       "16      713\n",
       "17      543\n",
       "18      598\n",
       "19      708\n",
       "20      607\n",
       "21      670\n",
       "22      483\n",
       "23      428"
      ]
     },
     "execution_count": 40,
     "metadata": {},
     "output_type": "execute_result"
    }
   ],
   "source": [
    "df4 = df[['hour', 'likes']]\n",
    "dff = df4.groupby('hour')\n",
    "dff.sum()"
   ]
  },
  {
   "cell_type": "markdown",
   "metadata": {},
   "source": [
    "## График зависимости пола и часа публикации (может конечно лучше было бы сделать в процентах, но мне так тоже нравиться).\n",
    "О чём он нам говорит?<br>\n",
    "*1) Мужчины пишут меньше постов <br>\n",
    "2) Высокая активность продолжается с 11 до 23 часов (что много) <br>\n",
    "3) Активность просидает у м и ж в 15 и 17 часов (можно поискать причины) <br>\n",
    "4) В целом мужчины и женщины проявляют общую тенденцию (за исключением 12 и 15 часов)*"
   ]
  },
  {
   "cell_type": "code",
   "execution_count": 25,
   "metadata": {},
   "outputs": [
    {
     "data": {
      "image/png": "[encoded data removed]",
      "text/plain": [
       "<Figure size 432x288 with 1 Axes>"
      ]
     },
     "metadata": {
      "needs_background": "light"
     },
     "output_type": "display_data"
    }
   ],
   "source": [
    "df_sh = df[\n",
    "    (df['sex'] != 'no gender')\n",
    "][\n",
    "    ['hour', 'sex', 'user_id']\n",
    "].groupby(['hour', 'sex'], as_index=False).count()\n",
    "df_sh.columns = ['hour', 'sex', 'total']\n",
    "sns.barplot(x=\"hour\", y=\"total\", hue='sex', data=df_sh)\n",
    "plt.title('sex by hour')\n",
    "plt.xlabel('hour')\n",
    "plt.ylabel('number of entries');"
   ]
  },
  {
   "cell_type": "markdown",
   "metadata": {},
   "source": [
    "## Wordclouds"
   ]
  },
  {
   "cell_type": "code",
   "execution_count": 26,
   "metadata": {},
   "outputs": [],
   "source": [
    "import operator\n",
    "manly_lemmas = []\n",
    "for user in data1:\n",
    "    if user['sex'] == 'male':\n",
    "        for lemma in user['lemmas']:\n",
    "            manly_lemmas.append(lemma)\n",
    "\n",
    "ml = {}            \n",
    "for lemma in manly_lemmas:\n",
    "    if lemma not in ml:\n",
    "        ml.update({lemma: 1})\n",
    "    else:\n",
    "        #ml.update({lemma: +=1})\n",
    "        ml[lemma] += 1\n",
    "        #ml.update\n",
    "sorted_ml = sorted(ml.items(), key=operator.itemgetter(1), reverse=True)\n",
    "#sorted_ml[0:29]"
   ]
  },
  {
   "cell_type": "code",
   "execution_count": 27,
   "metadata": {},
   "outputs": [],
   "source": [
    "df_ml = pd.DataFrame(sorted_ml)\n",
    "x = df_ml.head(30)"
   ]
  },
  {
   "cell_type": "code",
   "execution_count": 28,
   "metadata": {},
   "outputs": [
    {
     "data": {
      "image/png": "[encoded data removed]",
      "text/plain": [
       "<Figure size 576x576 with 1 Axes>"
      ]
     },
     "metadata": {
      "needs_background": "light"
     },
     "output_type": "display_data"
    }
   ],
   "source": [
    "wordcloud = WordCloud(\n",
    "    background_color ='white',\n",
    "    width = 800,\n",
    "    height = 800, \n",
    ").generate(' '.join(x[0]))\n",
    "\n",
    "plt.figure(figsize = (8, 8), facecolor = None) \n",
    "plt.imshow(wordcloud)\n",
    "plt.axis(\"off\") \n",
    "plt.title('Облако слов (мужчины)')\n",
    "plt.show()"
   ]
  },
  {
   "cell_type": "code",
   "execution_count": 29,
   "metadata": {},
   "outputs": [
    {
     "ename": "NameError",
     "evalue": "name 'sw' is not defined",
     "output_type": "error",
     "traceback": [
      "\u001b[1;31m---------------------------------------------------------------------------\u001b[0m",
      "\u001b[1;31mNameError\u001b[0m                                 Traceback (most recent call last)",
      "\u001b[1;32m<ipython-input-29-8608c2475e32>\u001b[0m in \u001b[0;36m<module>\u001b[1;34m\u001b[0m\n\u001b[1;32m----> 1\u001b[1;33m \u001b[0msw\u001b[0m\u001b[1;33m\u001b[0m\u001b[1;33m\u001b[0m\u001b[0m\n\u001b[0m",
      "\u001b[1;31mNameError\u001b[0m: name 'sw' is not defined"
     ]
    }
   ],
   "source": [
    "sw"
   ]
  },
  {
   "cell_type": "code",
   "execution_count": null,
   "metadata": {},
   "outputs": [],
   "source": [
    "women_lemmas = []\n",
    "for user in data1:\n",
    "    if user['sex'] == 'female':\n",
    "        for lemma in user['lemmas']:\n",
    "            women_lemmas.append(lemma)            \n",
    "\n",
    "wl = {}         \n",
    "for lemma in women_lemmas:\n",
    "    if lemma not in wl:\n",
    "        wl.update({lemma: 1})\n",
    "    else:\n",
    "        #ml.update({lemma: +=1})\n",
    "        wl[lemma] += 1\n",
    "        #ml.update\n",
    "        \n",
    "sorted_wl = sorted(wl.items(), key=operator.itemgetter(1), reverse=True)"
   ]
  },
  {
   "cell_type": "code",
   "execution_count": null,
   "metadata": {},
   "outputs": [],
   "source": [
    "df_wl = pd.DataFrame(sorted_wl)\n",
    "y = df_wl.head(30)"
   ]
  },
  {
   "cell_type": "code",
   "execution_count": null,
   "metadata": {},
   "outputs": [],
   "source": [
    "wordcloud = WordCloud(\n",
    "    background_color ='white',\n",
    "    width = 800,\n",
    "    height = 800, \n",
    ").generate(' '.join(y[0]))\n",
    "\n",
    "plt.figure(figsize = (8, 8), facecolor = None) \n",
    "plt.imshow(wordcloud)\n",
    "plt.axis(\"off\") \n",
    "plt.title('Облако слов (женщины)')\n",
    "plt.show()"
   ]
  },
  {
   "cell_type": "markdown",
   "metadata": {},
   "source": [
    "## Попытка создать временную активность в зависимости от города (пытаюсь пофиксить, но это как доп график).\n",
    "## <br>График зависимости часа от города"
   ]
  },
  {
   "cell_type": "code",
   "execution_count": null,
   "metadata": {},
   "outputs": [],
   "source": [
    "    x_label=\"hour\"\n",
    "    y_label=\"city\"\n",
    "    title=\"hour by city\"\n",
    "    color = \"r\"\n",
    "    yscale_log=False\n",
    "    _, ax = plt.subplots()\n",
    "\n",
    "    # Plot the data, set the size (s), color and transparency (alpha)\n",
    "    # of the points\n",
    "    x_data = df['hour']\n",
    "    y_data = df['city']\n",
    "    ax.scatter(x_data, y_data, s = 10, color = color, alpha = 0.75)\n",
    "\n",
    "    if yscale_log == True:\n",
    "        ax.set_yscale('log')\n",
    "\n",
    "    # Label the axes and provide a title\n",
    "    ax.set_title(title)\n",
    "    ax.set_xlabel(x_label)\n",
    "    ax.set_ylabel(y_label)"
   ]
  },
  {
   "cell_type": "code",
   "execution_count": null,
   "metadata": {},
   "outputs": [],
   "source": [
    "df_sh = df[\n",
    "    ['hour', 'city', 'user_id']\n",
    "].groupby(['hour', 'city'], as_index=False).count()\n",
    "df_sh.columns = ['hour', 'city', 'total']\n",
    "sns.barplot(x=\"hour\", y=\"total\", hue='city', data=df_sh)\n",
    "plt.title('city by hour')\n",
    "plt.xlabel('hour')\n",
    "plt.ylabel('number of entries');"
   ]
  },
  {
   "cell_type": "markdown",
   "metadata": {},
   "source": []
  },
  {
   "cell_type": "code",
   "execution_count": null,
   "metadata": {},
   "outputs": [],
   "source": []
  },
  {
   "cell_type": "code",
   "execution_count": null,
   "metadata": {},
   "outputs": [],
   "source": []
  },
  {
   "cell_type": "code",
   "execution_count": null,
   "metadata": {},
   "outputs": [],
   "source": [
    "df_ch = df[\n",
    "    (df['sex'] != 0)\n",
    "][\n",
    "    ['city', 'sex', 'user_id']\n",
    "].groupby(['city', 'sex'], as_index=False).count()\n",
    "df_ch.columns = ['city', 'sex', 'total']\n",
    "sns.barplot(x=\"city\", y=\"total\", hue='sex', data=df_ch)\n",
    "plt.title('city by hour')\n",
    "plt.xlabel('hour')\n",
    "plt.ylabel('number of entries');"
   ]
  },
  {
   "cell_type": "markdown",
   "metadata": {},
   "source": [
    "Смотрим top-30 лемм у мужчин"
   ]
  },
  {
   "cell_type": "markdown",
   "metadata": {},
   "source": [
    "Смотрим top-30 лемм у женщин"
   ]
  },
  {
   "cell_type": "markdown",
   "metadata": {},
   "source": [
    "О чём говорят эти облака? Что люди вежливые :D И кому-то что-то нужно"
   ]
  },
  {
   "cell_type": "markdown",
   "metadata": {},
   "source": [
    "# ЕЩЁ ГРАФИК ЕСЛИ В ПРОШЛЫХ ЧТО-ТО НЕ ТАК <BR>\n",
    "    \n",
    "## Теперь график зависимости длины текста и кол-ва лайков"
   ]
  },
  {
   "cell_type": "markdown",
   "metadata": {},
   "source": [
    "Показывает, что чем длинее посты, тем больше лайков"
   ]
  },
  {
   "cell_type": "code",
   "execution_count": null,
   "metadata": {},
   "outputs": [],
   "source": [
    "df5 = df[['len_text', 'likes']]\n",
    "df6 = df5.groupby('likes')\n",
    "df6.sum().plot.bar()"
   ]
  },
  {
   "cell_type": "markdown",
   "metadata": {},
   "source": [
    "Попытка создать город/час"
   ]
  },
  {
   "cell_type": "code",
   "execution_count": null,
   "metadata": {},
   "outputs": [],
   "source": [
    "res = df.sort_index().sort_values('city', kind='mergesort')"
   ]
  },
  {
   "cell_type": "code",
   "execution_count": null,
   "metadata": {},
   "outputs": [],
   "source": [
    "cities = {}\n",
    "for city in res['city']:\n",
    "    if city in cities:\n",
    "        n = cities[city]\n",
    "        cities[city] += 1\n",
    "    else:\n",
    "        cities.update({city: 1})\n",
    "\n",
    "cities = sorted(cities.items(), key=lambda x: x[1], reverse=True)\n",
    "#cities"
   ]
  },
  {
   "cell_type": "code",
   "execution_count": null,
   "metadata": {},
   "outputs": [],
   "source": []
  },
  {
   "cell_type": "code",
   "execution_count": null,
   "metadata": {},
   "outputs": [],
   "source": []
  },
  {
   "cell_type": "code",
   "execution_count": null,
   "metadata": {},
   "outputs": [],
   "source": []
  }
 ],
 "metadata": {
  "kernelspec": {
   "display_name": "Python 3",
   "language": "python",
   "name": "python3"
  },
  "language_info": {
   "codemirror_mode": {
    "name": "ipython",
    "version": 3
   },
   "file_extension": ".py",
   "mimetype": "text/x-python",
   "name": "python",
   "nbconvert_exporter": "python",
   "pygments_lexer": "ipython3",
   "version": "3.8.2"
  }
 },
 "nbformat": 4,
 "nbformat_minor": 4
}
