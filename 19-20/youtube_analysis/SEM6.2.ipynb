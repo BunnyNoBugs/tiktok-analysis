{
 "cells": [
  {
   "cell_type": "code",
   "execution_count": 24,
   "metadata": {},
   "outputs": [],
   "source": [
    "import os\n",
    "from pprint import pprint\n",
    "import google_auth_oauthlib.flow\n",
    "import googleapiclient.discovery\n",
    "import googleapiclient.errors"
   ]
  },
  {
   "cell_type": "code",
   "execution_count": 25,
   "metadata": {},
   "outputs": [],
   "source": [
    "scopes = [\"https://www.googleapis.com/auth/youtube.readonly\", 'https://www.googleapis.com/auth/youtube.force-ssl']"
   ]
  },
  {
   "cell_type": "code",
   "execution_count": 26,
   "metadata": {},
   "outputs": [],
   "source": [
    "os.environ[\"OAUTHLIB_INSECURE_TRANSPORT\"] = \"1\""
   ]
  },
  {
   "cell_type": "code",
   "execution_count": 27,
   "metadata": {},
   "outputs": [
    {
     "name": "stdout",
     "output_type": "stream",
     "text": [
      "Please visit this URL to authorize this application: https://accounts.google.com/o/oauth2/auth?response_type=code&client_id=530928313617-ffrofsmqsa5iv9o3clc6te4qutj0ph5f.apps.googleusercontent.com&redirect_uri=urn%3Aietf%3Awg%3Aoauth%3A2.0%3Aoob&scope=https%3A%2F%2Fwww.googleapis.com%2Fauth%2Fyoutube.readonly+https%3A%2F%2Fwww.googleapis.com%2Fauth%2Fyoutube.force-ssl&state=0SnXlgXdKK4olvZKrkQvNUrUSWc6C9&prompt=consent&access_type=offline\n",
      "Enter the authorization code: 4/zAHVAoVmdOP3oQFCuT-17esiYStiZYrJfC8drPMwaVR8XysIV0Ay5PA\n"
     ]
    }
   ],
   "source": [
    "api_service_name = \"youtube\"\n",
    "api_version = \"v3\"\n",
    "client_secrets_file = \"client_secret.json\"\n",
    "\n",
    "flow = google_auth_oauthlib.flow.InstalledAppFlow.from_client_secrets_file(client_secrets_file, scopes)\n",
    "credentials = flow.run_console()"
   ]
  },
  {
   "cell_type": "code",
   "execution_count": 28,
   "metadata": {},
   "outputs": [],
   "source": [
    "youtube = googleapiclient.discovery.build(api_service_name, api_version, credentials=credentials)"
   ]
  },
  {
   "cell_type": "code",
   "execution_count": 29,
   "metadata": {},
   "outputs": [],
   "source": [
    "request = youtube.channels().list(\n",
    "    part=\"contentDetails\",\n",
    "    id=\"UCfbKC4afdT60qQxs0-TxhDA\"\n",
    ")\n",
    "response = request.execute()"
   ]
  },
  {
   "cell_type": "code",
   "execution_count": 30,
   "metadata": {},
   "outputs": [
    {
     "name": "stdout",
     "output_type": "stream",
     "text": [
      "{'etag': 'jI0CEZXv_hNRODOp1rfaICcXQ2s',\n",
      " 'items': [{'contentDetails': {'relatedPlaylists': {'favorites': '',\n",
      "                                                    'likes': 'LLfbKC4afdT60qQxs0-TxhDA',\n",
      "                                                    'uploads': 'UUfbKC4afdT60qQxs0-TxhDA',\n",
      "                                                    'watchHistory': 'HL',\n",
      "                                                    'watchLater': 'WL'}},\n",
      "            'etag': 'UL1TkJYlphxMlJYOUkimVPfyTxo',\n",
      "            'id': 'UCfbKC4afdT60qQxs0-TxhDA',\n",
      "            'kind': 'youtube#channel'}],\n",
      " 'kind': 'youtube#channelListResponse',\n",
      " 'pageInfo': {'resultsPerPage': 1, 'totalResults': 1}}\n"
     ]
    }
   ],
   "source": [
    "pprint(response)"
   ]
  },
  {
   "cell_type": "code",
   "execution_count": 31,
   "metadata": {},
   "outputs": [
    {
     "name": "stdout",
     "output_type": "stream",
     "text": [
      "{'etag': '\"nxOHAKTVB7baOKsQgTtJIyGxcs8/zb8T8RVzRVg0U6kcuzK-9IslQ4s\"',\n",
      " 'items': [{'etag': '\"nxOHAKTVB7baOKsQgTtJIyGxcs8/CVIzxfhVGMQg3zdtB84m_XIPWrA\"',\n",
      "            'id': 'UCfbKC4afdT60qQxs0-TxhDA',\n",
      "            'kind': 'youtube#channel',\n",
      "            'statistics': {'commentCount': '0',\n",
      "                           'hiddenSubscriberCount': False,\n",
      "                           'subscriberCount': '572000',\n",
      "                           'videoCount': '635',\n",
      "                           'viewCount': '102338373'}}],\n",
      " 'kind': 'youtube#channelListResponse',\n",
      " 'pageInfo': {'resultsPerPage': 1, 'totalResults': 1}}\n"
     ]
    }
   ],
   "source": [
    "request = youtube.channels().list(\n",
    "    part=\"statistics\",\n",
    "    id=\"UCfbKC4afdT60qQxs0-TxhDA\"\n",
    ")\n",
    "response = request.execute()\n",
    "pprint(response)"
   ]
  },
  {
   "cell_type": "code",
   "execution_count": 32,
   "metadata": {},
   "outputs": [],
   "source": [
    "import sqlite3"
   ]
  },
  {
   "cell_type": "code",
   "execution_count": 33,
   "metadata": {},
   "outputs": [],
   "source": [
    "db = sqlite3.connect('youtube_db.db')\n",
    "cur = db.cursor()"
   ]
  },
  {
   "cell_type": "code",
   "execution_count": 34,
   "metadata": {},
   "outputs": [
    {
     "ename": "OperationalError",
     "evalue": "table authors already exists",
     "output_type": "error",
     "traceback": [
      "\u001b[1;31m---------------------------------------------------------------------------\u001b[0m",
      "\u001b[1;31mOperationalError\u001b[0m                          Traceback (most recent call last)",
      "\u001b[1;32m<ipython-input-34-7268a2abdcd3>\u001b[0m in \u001b[0;36m<module>\u001b[1;34m\u001b[0m\n\u001b[1;32m----> 1\u001b[1;33m cur.execute(\"\"\"\n\u001b[0m\u001b[0;32m      2\u001b[0m CREATE TABLE authors (\n\u001b[0;32m      3\u001b[0m     \u001b[0mid\u001b[0m \u001b[0mINTEGER\u001b[0m \u001b[0mPRIMARY\u001b[0m \u001b[0mKEY\u001b[0m \u001b[0mAUTOINCREMENT\u001b[0m\u001b[1;33m,\u001b[0m\u001b[1;33m\u001b[0m\u001b[1;33m\u001b[0m\u001b[0m\n\u001b[0;32m      4\u001b[0m     \u001b[0myoutube_id\u001b[0m    \u001b[0mTEXT\u001b[0m\u001b[1;33m,\u001b[0m\u001b[1;33m\u001b[0m\u001b[1;33m\u001b[0m\u001b[0m\n\u001b[0;32m      5\u001b[0m     \u001b[0mname\u001b[0m    \u001b[0mTEXT\u001b[0m\u001b[1;33m,\u001b[0m\u001b[1;33m\u001b[0m\u001b[1;33m\u001b[0m\u001b[0m\n",
      "\u001b[1;31mOperationalError\u001b[0m: table authors already exists"
     ]
    }
   ],
   "source": [
    "cur.execute(\"\"\"\n",
    "CREATE TABLE authors (\n",
    "    id INTEGER PRIMARY KEY AUTOINCREMENT,\n",
    "    youtube_id    TEXT,\n",
    "    name    TEXT,\n",
    "    country TEXT,\n",
    "    subscriberCount INT,\n",
    "    videoCount INT,\n",
    "    viewCOunt INT\n",
    ");\n",
    "\"\"\")\n",
    "\n",
    "cur.execute(\"\"\"\n",
    "CREATE TABLE tags (\n",
    "    id INTEGER PRIMARY KEY AUTOINCREMENT,\n",
    "    tag    TEXT\n",
    ");\n",
    "\"\"\")\n",
    "\n",
    "cur.execute(\"\"\"\n",
    "CREATE TABLE video_to_tags (\n",
    "    id_video    INTEGER,\n",
    "    id_tag    INTEGER\n",
    ");\n",
    "\"\"\")\n",
    "\n",
    "cur.execute(\"\"\"\n",
    "CREATE TABLE video_meta (\n",
    "    id INTEGER PRIMARY KEY AUTOINCREMENT,\n",
    "    youtube_id    TEXT,\n",
    "    likeCount INT,\n",
    "    dislikeCount INT,\n",
    "    commentCount INT,\n",
    "    favoriteCount INT,\n",
    "    viewCount INT,\n",
    "    defaultLanguage TEXT,\n",
    "    publishedAt TEXT,\n",
    "    title TEXT,\n",
    "    description TEXT,\n",
    "    duration TEXT\n",
    ");\n",
    "\"\"\")\n",
    "\n",
    "cur.execute(\"\"\"\n",
    "CREATE TABLE comments (\n",
    "    id INTEGER PRIMARY KEY AUTOINCREMENT,\n",
    "    youtube_id TEXT,\n",
    "    id_video    INTEGER,\n",
    "    id_author INT,\n",
    "    textOriginal TEXT,\n",
    "    totalReplyCount INT,\n",
    "    publishedAt TEXT,\n",
    "    likeCount INT\n",
    "    is_reply_to INT\n",
    ");\n",
    "\"\"\")\n",
    "\n",
    "db.commit()"
   ]
  },
  {
   "cell_type": "code",
   "execution_count": 35,
   "metadata": {},
   "outputs": [],
   "source": [
    "request = youtube.playlistItems().list(\n",
    "    part=\"contentDetails\",\n",
    "    playlistId=\"PLmWYEDTNOGUL69D2wj9m2onBKV2s3uT5Y\",\n",
    "    maxResults=50\n",
    ")\n",
    "response = request.execute()"
   ]
  },
  {
   "cell_type": "code",
   "execution_count": 36,
   "metadata": {},
   "outputs": [],
   "source": [
    "video_ids = [v.get('contentDetails', {}).get('videoId') for v in response['items']]"
   ]
  },
  {
   "cell_type": "code",
   "execution_count": 37,
   "metadata": {},
   "outputs": [
    {
     "data": {
      "text/plain": [
       "{'kind': 'youtube#playlistItemListResponse',\n",
       " 'etag': '\"nxOHAKTVB7baOKsQgTtJIyGxcs8/pjySobqByUCGsP2dyNUOgMkQhtY\"',\n",
       " 'pageInfo': {'totalResults': 41, 'resultsPerPage': 50},\n",
       " 'items': [{'kind': 'youtube#playlistItem',\n",
       "   'etag': '\"nxOHAKTVB7baOKsQgTtJIyGxcs8/fxt4dJil5661519sAB99oeutG3E\"',\n",
       "   'id': 'UExtV1lFRFROT0dVTDY5RDJ3ajltMm9uQktWMnMzdVQ1WS40QzRDOEU0QUYwNUIxN0M1',\n",
       "   'contentDetails': {'videoId': 'J5SOdhXjYko',\n",
       "    'videoPublishedAt': '2020-04-03T13:11:37.000Z'}},\n",
       "  {'kind': 'youtube#playlistItem',\n",
       "   'etag': '\"nxOHAKTVB7baOKsQgTtJIyGxcs8/fqkdKxd21G65ZLUL9xZajUBpO3o\"',\n",
       "   'id': 'UExtV1lFRFROT0dVTDY5RDJ3ajltMm9uQktWMnMzdVQ1WS4yQUJFNUVCMzVDNjcxRTlF',\n",
       "   'contentDetails': {'videoId': 'wROqCHLnbko',\n",
       "    'videoPublishedAt': '2020-03-16T13:30:10.000Z'}},\n",
       "  {'kind': 'youtube#playlistItem',\n",
       "   'etag': '\"nxOHAKTVB7baOKsQgTtJIyGxcs8/oJ8HMkm3M51P40pHnlTc5nZZSyk\"',\n",
       "   'id': 'UExtV1lFRFROT0dVTDY5RDJ3ajltMm9uQktWMnMzdVQ1WS41MzY4MzcwOUFFRUU3QzEx',\n",
       "   'contentDetails': {'videoId': 'XpQHGMM8c5U',\n",
       "    'videoPublishedAt': '2020-03-13T17:58:11.000Z'}},\n",
       "  {'kind': 'youtube#playlistItem',\n",
       "   'etag': '\"nxOHAKTVB7baOKsQgTtJIyGxcs8/zN7UtC-72dtTFlkTerLT60qgbIY\"',\n",
       "   'id': 'UExtV1lFRFROT0dVTDY5RDJ3ajltMm9uQktWMnMzdVQ1WS5DRUQwODMxQzUyRTlGRkY3',\n",
       "   'contentDetails': {'videoId': 'TA57rugucwk',\n",
       "    'videoPublishedAt': '2020-03-13T07:00:04.000Z'}},\n",
       "  {'kind': 'youtube#playlistItem',\n",
       "   'etag': '\"nxOHAKTVB7baOKsQgTtJIyGxcs8/8Ea4eZtU70gPBfwZd-0YBWTN2oI\"',\n",
       "   'id': 'UExtV1lFRFROT0dVTDY5RDJ3ajltMm9uQktWMnMzdVQ1WS5DNkMwRUI2MkI4QkI4NDFG',\n",
       "   'contentDetails': {'videoId': 'L_dWvTCdDQ4',\n",
       "    'videoPublishedAt': '2020-03-12T22:00:03.000Z'}},\n",
       "  {'kind': 'youtube#playlistItem',\n",
       "   'etag': '\"nxOHAKTVB7baOKsQgTtJIyGxcs8/6U9kpKj_cc0Qqc42KJ8DDXPNp_Q\"',\n",
       "   'id': 'UExtV1lFRFROT0dVTDY5RDJ3ajltMm9uQktWMnMzdVQ1WS45NkVENTkxRDdCQUFBMDY4',\n",
       "   'contentDetails': {'videoId': 'XQ5tMhQIp1E',\n",
       "    'videoPublishedAt': '2020-03-12T07:00:04.000Z'}},\n",
       "  {'kind': 'youtube#playlistItem',\n",
       "   'etag': '\"nxOHAKTVB7baOKsQgTtJIyGxcs8/fTuvnVb5BSjlUC-HKpDO_pkXwsg\"',\n",
       "   'id': 'UExtV1lFRFROT0dVTDY5RDJ3ajltMm9uQktWMnMzdVQ1WS5BRjJDODk5REM0NjkzMUIy',\n",
       "   'contentDetails': {'videoId': '3EIQ6U039ms',\n",
       "    'videoPublishedAt': '2020-03-10T14:00:00.000Z'}},\n",
       "  {'kind': 'youtube#playlistItem',\n",
       "   'etag': '\"nxOHAKTVB7baOKsQgTtJIyGxcs8/9HLssNCt80kXtEpt0QBMIWfR--E\"',\n",
       "   'id': 'UExtV1lFRFROT0dVTDY5RDJ3ajltMm9uQktWMnMzdVQ1WS40QTA3NTU2RkM1QzlCMzYx',\n",
       "   'contentDetails': {'videoId': 'TmqSU3v_Mtw',\n",
       "    'videoPublishedAt': '2020-03-10T12:00:05.000Z'}},\n",
       "  {'kind': 'youtube#playlistItem',\n",
       "   'etag': '\"nxOHAKTVB7baOKsQgTtJIyGxcs8/AzMJi5X5umx2kb1G1eq02cuE2is\"',\n",
       "   'id': 'UExtV1lFRFROT0dVTDY5RDJ3ajltMm9uQktWMnMzdVQ1WS45RjNFMDhGQ0Q2RkFCQTc1',\n",
       "   'contentDetails': {'videoId': 'I0VzBCvO1Wk',\n",
       "    'videoPublishedAt': '2020-03-10T10:00:05.000Z'}},\n",
       "  {'kind': 'youtube#playlistItem',\n",
       "   'etag': '\"nxOHAKTVB7baOKsQgTtJIyGxcs8/Zf860Y6VHlj6UPcEQH0OtKqYAKI\"',\n",
       "   'id': 'UExtV1lFRFROT0dVTDY5RDJ3ajltMm9uQktWMnMzdVQ1WS42MTI4Njc2QjM1RjU1MjlG',\n",
       "   'contentDetails': {'videoId': 'p-E-kIFPrsY',\n",
       "    'videoPublishedAt': '2020-03-10T09:00:10.000Z'}},\n",
       "  {'kind': 'youtube#playlistItem',\n",
       "   'etag': '\"nxOHAKTVB7baOKsQgTtJIyGxcs8/reNxh5qZA77r5ACBdmik5zfyfes\"',\n",
       "   'id': 'UExtV1lFRFROT0dVTDY5RDJ3ajltMm9uQktWMnMzdVQ1WS4xOTEzQzhBQzU3MDNDNjcz',\n",
       "   'contentDetails': {'videoId': 'dJxCINWp_j0',\n",
       "    'videoPublishedAt': '2020-03-10T07:00:59.000Z'}},\n",
       "  {'kind': 'youtube#playlistItem',\n",
       "   'etag': '\"nxOHAKTVB7baOKsQgTtJIyGxcs8/HS41CPnO6q_msGM9E1tjSIFRPKo\"',\n",
       "   'id': 'UExtV1lFRFROT0dVTDY5RDJ3ajltMm9uQktWMnMzdVQ1WS5CMEQ2Mjk5NTc3NDZFRUNB',\n",
       "   'contentDetails': {'videoId': 'eIZ48w4epng',\n",
       "    'videoPublishedAt': '2020-03-09T19:00:04.000Z'}},\n",
       "  {'kind': 'youtube#playlistItem',\n",
       "   'etag': '\"nxOHAKTVB7baOKsQgTtJIyGxcs8/yx3k4u76yeHUaXFrhDQ9Ksg6uWs\"',\n",
       "   'id': 'UExtV1lFRFROT0dVTDY5RDJ3ajltMm9uQktWMnMzdVQ1WS4zRDBDOEZDOUM0MDY5NEEz',\n",
       "   'contentDetails': {'videoId': 'RnD1ApDo5_k',\n",
       "    'videoPublishedAt': '2020-03-09T18:00:05.000Z'}},\n",
       "  {'kind': 'youtube#playlistItem',\n",
       "   'etag': '\"nxOHAKTVB7baOKsQgTtJIyGxcs8/NRxTlvlR-_byTRhVq8zgfUTKTIk\"',\n",
       "   'id': 'UExtV1lFRFROT0dVTDY5RDJ3ajltMm9uQktWMnMzdVQ1WS43NDhFRTgwOTRERTU4Rjg3',\n",
       "   'contentDetails': {'videoId': 'CFCn_8oViRw',\n",
       "    'videoPublishedAt': '2020-03-09T17:00:03.000Z'}},\n",
       "  {'kind': 'youtube#playlistItem',\n",
       "   'etag': '\"nxOHAKTVB7baOKsQgTtJIyGxcs8/lqFBZqjipzAqjHqjhDNEHQgm9IY\"',\n",
       "   'id': 'UExtV1lFRFROT0dVTDY5RDJ3ajltMm9uQktWMnMzdVQ1WS44Mjc5REFBRUE2MTdFRDU0',\n",
       "   'contentDetails': {'videoId': '7fqZevYLUMs',\n",
       "    'videoPublishedAt': '2020-03-09T16:00:00.000Z'}},\n",
       "  {'kind': 'youtube#playlistItem',\n",
       "   'etag': '\"nxOHAKTVB7baOKsQgTtJIyGxcs8/jXX1sYH_KBGitBlh0pTNQAkPG4w\"',\n",
       "   'id': 'UExtV1lFRFROT0dVTDY5RDJ3ajltMm9uQktWMnMzdVQ1WS4yQjZFRkExQjFGODk3RUFD',\n",
       "   'contentDetails': {'videoId': 's_Y7mMka4SQ',\n",
       "    'videoPublishedAt': '2020-03-09T14:00:14.000Z'}},\n",
       "  {'kind': 'youtube#playlistItem',\n",
       "   'etag': '\"nxOHAKTVB7baOKsQgTtJIyGxcs8/QB5QtsyPVkqaCItdf_Ltu_w3We0\"',\n",
       "   'id': 'UExtV1lFRFROT0dVTDY5RDJ3ajltMm9uQktWMnMzdVQ1WS5DMkU4NTY1QUFGQTYwMDE3',\n",
       "   'contentDetails': {'videoId': 'c6ZNo_hVA6E',\n",
       "    'videoPublishedAt': '2020-03-09T12:00:36.000Z'}},\n",
       "  {'kind': 'youtube#playlistItem',\n",
       "   'etag': '\"nxOHAKTVB7baOKsQgTtJIyGxcs8/TCdNFUVR_bMy1esJ70IkSHkJTyc\"',\n",
       "   'id': 'UExtV1lFRFROT0dVTDY5RDJ3ajltMm9uQktWMnMzdVQ1WS5GNDg1Njc1QzZERjlFRjE5',\n",
       "   'contentDetails': {'videoId': 'xPZumQQExQc',\n",
       "    'videoPublishedAt': '2020-03-08T19:00:13.000Z'}},\n",
       "  {'kind': 'youtube#playlistItem',\n",
       "   'etag': '\"nxOHAKTVB7baOKsQgTtJIyGxcs8/0Db_T10hS5OqPrZkI8Dw7iqNmcg\"',\n",
       "   'id': 'UExtV1lFRFROT0dVTDY5RDJ3ajltMm9uQktWMnMzdVQ1WS4yQUE2Q0JEMTk4NTM3RTZC',\n",
       "   'contentDetails': {'videoId': '1HU7ocv3S2o',\n",
       "    'videoPublishedAt': '2020-03-08T17:00:00.000Z'}},\n",
       "  {'kind': 'youtube#playlistItem',\n",
       "   'etag': '\"nxOHAKTVB7baOKsQgTtJIyGxcs8/r0Zo5H59PvwtNfHjrZSW05NKjaA\"',\n",
       "   'id': 'UExtV1lFRFROT0dVTDY5RDJ3ajltMm9uQktWMnMzdVQ1WS5DQ0MyQ0Y4Mzg0M0VGOEYw',\n",
       "   'contentDetails': {'videoId': 'EgONBKFQpxE',\n",
       "    'videoPublishedAt': '2020-03-08T15:00:02.000Z'}},\n",
       "  {'kind': 'youtube#playlistItem',\n",
       "   'etag': '\"nxOHAKTVB7baOKsQgTtJIyGxcs8/hwjR7jT0oZbv6wSfxMfTspK8YSM\"',\n",
       "   'id': 'UExtV1lFRFROT0dVTDY5RDJ3ajltMm9uQktWMnMzdVQ1WS43MTI1NDIwOTMwQjIxMzNG',\n",
       "   'contentDetails': {'videoId': '7EpSBDPlZn4',\n",
       "    'videoPublishedAt': '2020-03-07T22:04:42.000Z'}},\n",
       "  {'kind': 'youtube#playlistItem',\n",
       "   'etag': '\"nxOHAKTVB7baOKsQgTtJIyGxcs8/EDkMDIeYtpq8lj1Asj9N4UtCD9w\"',\n",
       "   'id': 'UExtV1lFRFROT0dVTDY5RDJ3ajltMm9uQktWMnMzdVQ1WS5DNzE1RjZEMUZCMjA0RDBB',\n",
       "   'contentDetails': {'videoId': 'Jl_qEw_4OK0',\n",
       "    'videoPublishedAt': '2020-03-07T18:30:01.000Z'}},\n",
       "  {'kind': 'youtube#playlistItem',\n",
       "   'etag': '\"nxOHAKTVB7baOKsQgTtJIyGxcs8/XrYXP2f193XxM0aa1hUhmvflKOM\"',\n",
       "   'id': 'UExtV1lFRFROT0dVTDY5RDJ3ajltMm9uQktWMnMzdVQ1WS45NzUwQkI1M0UxNThBMkU0',\n",
       "   'contentDetails': {'videoId': 'weLeotNwexg',\n",
       "    'videoPublishedAt': '2020-03-07T10:30:00.000Z'}},\n",
       "  {'kind': 'youtube#playlistItem',\n",
       "   'etag': '\"nxOHAKTVB7baOKsQgTtJIyGxcs8/LhBr57GZ-lP313_tOt8yzrEgELc\"',\n",
       "   'id': 'UExtV1lFRFROT0dVTDY5RDJ3ajltMm9uQktWMnMzdVQ1WS4zRjM0MkVCRTg0MkYyQTM0',\n",
       "   'contentDetails': {'videoId': 'V_hgYnwZR8I',\n",
       "    'videoPublishedAt': '2020-03-07T08:18:11.000Z'}},\n",
       "  {'kind': 'youtube#playlistItem',\n",
       "   'etag': '\"nxOHAKTVB7baOKsQgTtJIyGxcs8/31CP_cyBWOyGRgt45txckkzsNAk\"',\n",
       "   'id': 'UExtV1lFRFROT0dVTDY5RDJ3ajltMm9uQktWMnMzdVQ1WS4yMDhBMkNBNjRDMjQxQTg1',\n",
       "   'contentDetails': {'videoId': 'HLgE0Ayl5Hc',\n",
       "    'videoPublishedAt': '2020-03-05T09:15:00.000Z'}},\n",
       "  {'kind': 'youtube#playlistItem',\n",
       "   'etag': '\"nxOHAKTVB7baOKsQgTtJIyGxcs8/dN6C4WNK9MIn9Y062zLdepnj4J0\"',\n",
       "   'id': 'UExtV1lFRFROT0dVTDY5RDJ3ajltMm9uQktWMnMzdVQ1WS5ENDU4Q0M4RDExNzM1Mjcy',\n",
       "   'contentDetails': {'videoId': 'cOuiTJlBC50',\n",
       "    'videoPublishedAt': '2020-03-05T06:45:02.000Z'}},\n",
       "  {'kind': 'youtube#playlistItem',\n",
       "   'etag': '\"nxOHAKTVB7baOKsQgTtJIyGxcs8/5VVTFCBuemd8wequY6cNvpb87A8\"',\n",
       "   'id': 'UExtV1lFRFROT0dVTDY5RDJ3ajltMm9uQktWMnMzdVQ1WS45RTgxNDRBMzUwRjQ0MDhC',\n",
       "   'contentDetails': {'videoId': 'YjzyZZ-oidc',\n",
       "    'videoPublishedAt': '2020-03-04T19:30:01.000Z'}},\n",
       "  {'kind': 'youtube#playlistItem',\n",
       "   'etag': '\"nxOHAKTVB7baOKsQgTtJIyGxcs8/OJeLpVai1ONh4XfqbZ3HLTQCvoI\"',\n",
       "   'id': 'UExtV1lFRFROT0dVTDY5RDJ3ajltMm9uQktWMnMzdVQ1WS41QTY1Q0UxMTVCODczNThE',\n",
       "   'contentDetails': {'videoId': 'sMcxWB90TTY',\n",
       "    'videoPublishedAt': '2020-03-04T18:15:11.000Z'}},\n",
       "  {'kind': 'youtube#playlistItem',\n",
       "   'etag': '\"nxOHAKTVB7baOKsQgTtJIyGxcs8/hTuMW2fhqmP0R8SoVTe-5rA9StE\"',\n",
       "   'id': 'UExtV1lFRFROT0dVTDY5RDJ3ajltMm9uQktWMnMzdVQ1WS4yMUQyQTQzMjRDNzMyQTMy',\n",
       "   'contentDetails': {'videoId': 'O9GAfFHZE-E',\n",
       "    'videoPublishedAt': '2020-03-04T13:13:42.000Z'}},\n",
       "  {'kind': 'youtube#playlistItem',\n",
       "   'etag': '\"nxOHAKTVB7baOKsQgTtJIyGxcs8/C9BYmArNB3JG9cl2IEdIwwTnOsA\"',\n",
       "   'id': 'UExtV1lFRFROT0dVTDY5RDJ3ajltMm9uQktWMnMzdVQ1WS5EQUE1NTFDRjcwMDg0NEMz',\n",
       "   'contentDetails': {'videoId': 'ELr6U2fOrnE',\n",
       "    'videoPublishedAt': '2020-03-03T14:00:02.000Z'}},\n",
       "  {'kind': 'youtube#playlistItem',\n",
       "   'etag': '\"nxOHAKTVB7baOKsQgTtJIyGxcs8/XD1B7KPkdFb-PsHXtzEgETcRyUQ\"',\n",
       "   'id': 'UExtV1lFRFROT0dVTDY5RDJ3ajltMm9uQktWMnMzdVQ1WS41Mzk2QTAxMTkzNDk4MDhF',\n",
       "   'contentDetails': {'videoId': 'LjNK4Xywjc4',\n",
       "    'videoPublishedAt': '2020-03-03T05:50:00.000Z'}},\n",
       "  {'kind': 'youtube#playlistItem',\n",
       "   'etag': '\"nxOHAKTVB7baOKsQgTtJIyGxcs8/_8DKWMVNgqqZGIYAVPSy7ofwGB4\"',\n",
       "   'id': 'UExtV1lFRFROT0dVTDY5RDJ3ajltMm9uQktWMnMzdVQ1WS4zMDg5MkQ5MEVDMEM1NTg2',\n",
       "   'contentDetails': {'videoId': 'hAobDQ9GbT4',\n",
       "    'videoPublishedAt': '2020-03-02T19:31:10.000Z'}},\n",
       "  {'kind': 'youtube#playlistItem',\n",
       "   'etag': '\"nxOHAKTVB7baOKsQgTtJIyGxcs8/Vn2bIXDRU19I0_c212Jc8kdVVHg\"',\n",
       "   'id': 'UExtV1lFRFROT0dVTDY5RDJ3ajltMm9uQktWMnMzdVQ1WS45ODRDNTg0QjA4NkFBNkQy',\n",
       "   'contentDetails': {'videoId': 'F0wfxz5zq04',\n",
       "    'videoPublishedAt': '2020-03-02T14:45:01.000Z'}},\n",
       "  {'kind': 'youtube#playlistItem',\n",
       "   'etag': '\"nxOHAKTVB7baOKsQgTtJIyGxcs8/lRHB6Ftz4IGeYDycAPfs2k4hW2E\"',\n",
       "   'id': 'UExtV1lFRFROT0dVTDY5RDJ3ajltMm9uQktWMnMzdVQ1WS41MjE1MkI0OTQ2QzJGNzNG',\n",
       "   'contentDetails': {'videoId': 'FxPm-Wz8qpY',\n",
       "    'videoPublishedAt': '2020-03-01T16:00:02.000Z'}},\n",
       "  {'kind': 'youtube#playlistItem',\n",
       "   'etag': '\"nxOHAKTVB7baOKsQgTtJIyGxcs8/uGp0kSu4omAcSJgWN9dKVMT9vuM\"',\n",
       "   'id': 'UExtV1lFRFROT0dVTDY5RDJ3ajltMm9uQktWMnMzdVQ1WS4yODlGNEE0NkRGMEEzMEQy',\n",
       "   'contentDetails': {'videoId': '2rOwScdxjJU',\n",
       "    'videoPublishedAt': '2020-03-01T11:00:00.000Z'}},\n",
       "  {'kind': 'youtube#playlistItem',\n",
       "   'etag': '\"nxOHAKTVB7baOKsQgTtJIyGxcs8/EaY5Qs46OxkkiCBFmHtsdLetzuw\"',\n",
       "   'id': 'UExtV1lFRFROT0dVTDY5RDJ3ajltMm9uQktWMnMzdVQ1WS4wOTA3OTZBNzVEMTUzOTMy',\n",
       "   'contentDetails': {'videoId': '6iS-lV909T4',\n",
       "    'videoPublishedAt': '2020-02-27T10:00:09.000Z'}},\n",
       "  {'kind': 'youtube#playlistItem',\n",
       "   'etag': '\"nxOHAKTVB7baOKsQgTtJIyGxcs8/so742QxG5z0wOJEUQAdQIpATKiw\"',\n",
       "   'id': 'UExtV1lFRFROT0dVTDY5RDJ3ajltMm9uQktWMnMzdVQ1WS5DQUNERDQ2NkIzRUQxNTY1',\n",
       "   'contentDetails': {'videoId': 'zNetXPSld50',\n",
       "    'videoPublishedAt': '2020-02-22T21:28:44.000Z'}},\n",
       "  {'kind': 'youtube#playlistItem',\n",
       "   'etag': '\"nxOHAKTVB7baOKsQgTtJIyGxcs8/r_HP0BAz5XB26Wy1wEnNT9IQ9N0\"',\n",
       "   'id': 'UExtV1lFRFROT0dVTDY5RDJ3ajltMm9uQktWMnMzdVQ1WS45NDk1REZENzhEMzU5MDQz',\n",
       "   'contentDetails': {'videoId': 'zuDdex1st-Y',\n",
       "    'videoPublishedAt': '2020-02-18T14:00:09.000Z'}},\n",
       "  {'kind': 'youtube#playlistItem',\n",
       "   'etag': '\"nxOHAKTVB7baOKsQgTtJIyGxcs8/I94n5gWssQioIXizTkkH32fELWo\"',\n",
       "   'id': 'UExtV1lFRFROT0dVTDY5RDJ3ajltMm9uQktWMnMzdVQ1WS5GNjNDRDREMDQxOThCMDQ2',\n",
       "   'contentDetails': {'videoId': 'lAqjksxc4iA',\n",
       "    'videoPublishedAt': '2020-02-17T10:30:04.000Z'}},\n",
       "  {'kind': 'youtube#playlistItem',\n",
       "   'etag': '\"nxOHAKTVB7baOKsQgTtJIyGxcs8/nfOS49f2BWZI69hw4TAgEjASIXs\"',\n",
       "   'id': 'UExtV1lFRFROT0dVTDY5RDJ3ajltMm9uQktWMnMzdVQ1WS40NzZCMERDMjVEN0RFRThB',\n",
       "   'contentDetails': {'videoId': 'o9atJbnqhJU',\n",
       "    'videoPublishedAt': '2020-02-16T12:10:40.000Z'}},\n",
       "  {'kind': 'youtube#playlistItem',\n",
       "   'etag': '\"nxOHAKTVB7baOKsQgTtJIyGxcs8/-XUHok4BTJBUl8TGW90mqKLi-dM\"',\n",
       "   'id': 'UExtV1lFRFROT0dVTDY5RDJ3ajltMm9uQktWMnMzdVQ1WS5EMEEwRUY5M0RDRTU3NDJC',\n",
       "   'contentDetails': {'videoId': 'gr-wWxu4974',\n",
       "    'videoPublishedAt': '2020-02-08T15:10:25.000Z'}}]}"
      ]
     },
     "execution_count": 37,
     "metadata": {},
     "output_type": "execute_result"
    }
   ],
   "source": [
    "response"
   ]
  },
  {
   "cell_type": "code",
   "execution_count": 38,
   "metadata": {},
   "outputs": [
    {
     "data": {
      "text/plain": [
       "['J5SOdhXjYko', 'wROqCHLnbko', 'XpQHGMM8c5U', 'TA57rugucwk', 'L_dWvTCdDQ4']"
      ]
     },
     "execution_count": 38,
     "metadata": {},
     "output_type": "execute_result"
    }
   ],
   "source": [
    "video_ids[:5]"
   ]
  },
  {
   "cell_type": "code",
   "execution_count": 39,
   "metadata": {},
   "outputs": [],
   "source": [
    "cur.executemany('INSERT INTO video_meta (youtube_id) VALUES (?)', [(v, ) for v in video_ids])\n",
    "db.commit()"
   ]
  },
  {
   "cell_type": "code",
   "execution_count": 40,
   "metadata": {},
   "outputs": [],
   "source": [
    "for vid in video_ids[1:]:\n",
    "    request = youtube.videos().list(\n",
    "        part=\"contentDetails\",\n",
    "        id=vid\n",
    "    )\n",
    "    response = request.execute()\n",
    "    cur.execute('UPDATE video_meta SET duration = ? WHERE youtube_id = ?', (\n",
    "        response.get('items', [0])[0].get('contentDetails', {}).get('duration'),\n",
    "        response.get('items', [0])[0].get('id', {}),\n",
    "    ))\n",
    "db.commit()"
   ]
  },
  {
   "cell_type": "code",
   "execution_count": 41,
   "metadata": {},
   "outputs": [],
   "source": [
    "cur.execute('SELECT youtube_id, id FROM video_meta')\n",
    "videos = {key: val for key, val in cur.fetchall()}"
   ]
  },
  {
   "cell_type": "code",
   "execution_count": 42,
   "metadata": {},
   "outputs": [],
   "source": [
    "cur.execute('SELECT tag, id FROM tags')\n",
    "tags = {key: val for key, val in cur.fetchall()}\n",
    "t_idx = 0 if len(tags) == 0 else max(tags.values())\n",
    "\n",
    "tags_to_insert = []\n",
    "for vid in video_ids:\n",
    "    request = youtube.videos().list(\n",
    "        part=\"snippet\",\n",
    "        id=vid\n",
    "    )\n",
    "    response = request.execute()\n",
    "    snippet = response.get('items', [0])[0].get('snippet', {})\n",
    "    these_tags = snippet.get('tags')\n",
    "    save_tags = []\n",
    "    for t in these_tags:\n",
    "        if t not in tags:\n",
    "            tags[t] = t_idx + 1\n",
    "            t_idx = t_idx + 1\n",
    "            tags_to_insert.append((t_idx, t))\n",
    "        save_tags.append((videos[vid], tags[t]))\n",
    "    cur.execute(\"\"\"\n",
    "        UPDATE video_meta SET \n",
    "        defaultLanguage = ?,\n",
    "        description = ?,\n",
    "        title = ?,\n",
    "        publishedAt = ?\n",
    "        WHERE youtube_id = ?\n",
    "        \"\"\", (\n",
    "        snippet.get('defaultLanguage'),\n",
    "        snippet.get('description'),\n",
    "        snippet.get('title'),\n",
    "        snippet.get('publishedAt'),\n",
    "        vid\n",
    "    ))\n",
    "    cur.executemany(\"INSERT INTO video_to_tags VALUES (?, ?)\", save_tags)\n",
    "cur.executemany(\"INSERT INTO tags VALUES (?, ?)\", tags_to_insert)\n",
    "db.commit()"
   ]
  },
  {
   "cell_type": "code",
   "execution_count": 45,
   "metadata": {},
   "outputs": [],
   "source": [
    "request = youtube.videos().list(\n",
    "        part=\"statistics\",\n",
    "        id=video_ids[0]\n",
    "    )\n",
    "response = request.execute()"
   ]
  },
  {
   "cell_type": "code",
   "execution_count": 46,
   "metadata": {},
   "outputs": [],
   "source": [
    "for vid in video_ids[1:]:\n",
    "    request = youtube.videos().list(\n",
    "        part=\"statistics\",\n",
    "        id=vid\n",
    "    )\n",
    "    response = request.execute()\n",
    "    data = response.get('items', [0])[0].get('statistics', {})\n",
    "    cur.execute(\"\"\"\n",
    "        UPDATE video_meta SET \n",
    "        commentCount = ?,\n",
    "        dislikeCount = ?,\n",
    "        favoriteCount = ?,\n",
    "        likeCount = ?,\n",
    "        viewCount = ?\n",
    "        WHERE youtube_id = ?\n",
    "        \"\"\", (\n",
    "        data.get('commentCount'),\n",
    "        data.get('dislikeCount'),\n",
    "        data.get('favoriteCount'),\n",
    "        data.get('likeCount'),\n",
    "        data.get('viewCount'),\n",
    "        vid\n",
    "    ))\n",
    "db.commit()"
   ]
  },
  {
   "cell_type": "code",
   "execution_count": null,
   "metadata": {},
   "outputs": [],
   "source": []
  },
  {
   "cell_type": "code",
   "execution_count": 47,
   "metadata": {},
   "outputs": [],
   "source": [
    "cur.execute('SELECT youtube_id FROM video_meta')\n",
    "video_ids = [i[0] for i in cur.fetchall()]"
   ]
  },
  {
   "cell_type": "code",
   "execution_count": 48,
   "metadata": {},
   "outputs": [],
   "source": [
    "def parse_one(response, vidx, a_idx, authors_to_insert, authors):\n",
    "    items = response.get('items', [])\n",
    "#     print(len(items))\n",
    "    nextPageToken = response.get('nextPageToken')\n",
    "    data = []\n",
    "    for item in items:\n",
    "        snippet = item.get('snippet')\n",
    "        snippet2 = snippet.get('topLevelComment', {}).get('snippet', {})\n",
    "        idx = item.get('id')\n",
    "#         print(idx)\n",
    "        author = snippet2.get('authorChannelId', {}).get('value')\n",
    "        if author not in authors:\n",
    "            a_idx = a_idx + 1\n",
    "            authors[author] = a_idx\n",
    "            authorDisplayName = snippet2.get('authorDisplayName')\n",
    "            authors_to_insert.append((a_idx, author, authorDisplayName))\n",
    "        autidx = authors[author]\n",
    "        likeCount = snippet2.get('likeCount')\n",
    "        publishedAt = snippet2.get('publishedAt')\n",
    "        textOriginal = snippet2.get('textOriginal')\n",
    "        totalReplyCount = snippet.get('totalReplyCount')\n",
    "        data.append((idx, vidx, autidx, textOriginal, totalReplyCount, publishedAt, likeCount))\n",
    "    cur.executemany(\"\"\"\n",
    "    INSERT INTO comments \n",
    "    (youtube_id, id_video, id_author, textOriginal, totalReplyCount, publishedAt, likeCount)\n",
    "    VALUES (?, ?, ?, ?, ?, ?, ?)\"\"\", data)\n",
    "    return nextPageToken, authors, a_idx, authors_to_insert, authors"
   ]
  },
  {
   "cell_type": "code",
   "execution_count": 49,
   "metadata": {},
   "outputs": [
    {
     "name": "stdout",
     "output_type": "stream",
     "text": [
      "0\n",
      "zNetXPSld50\n",
      "zuDdex1st-Y\n",
      "lAqjksxc4iA\n",
      "o9atJbnqhJU\n",
      "gr-wWxu4974\n"
     ]
    }
   ],
   "source": [
    "db.rollback()\n",
    "cur.execute('SELECT youtube_id, id FROM authors')\n",
    "authors = {key: val for key, val in cur.fetchall()}\n",
    "a_idx = 0 if len(authors) == 0 else max(authors.values())\n",
    "print(len(authors))\n",
    "\n",
    "# это я просто запускал по частям, потому что закончился лимит\n",
    "start = 19 + 8 + 8 + 1 \n",
    "n = 8\n",
    "\n",
    "for vid in video_ids[start:start+n]:\n",
    "    authors_to_insert = []\n",
    "    vidx = videos[vid]\n",
    "    request = youtube.commentThreads().list(\n",
    "        part=\"snippet\",\n",
    "        videoId=vid,\n",
    "        maxResults=100\n",
    "    )\n",
    "    response = request.execute()\n",
    "    nextPageToken, authors, a_idx, authors_to_insert, authors = parse_one(\n",
    "        response, vidx, a_idx, authors_to_insert, authors)\n",
    "    while nextPageToken:\n",
    "#         print('='*120, '\\n', nextPageToken)\n",
    "        request = youtube.commentThreads().list(\n",
    "            part=\"snippet\",\n",
    "            videoId=vid,\n",
    "            pageToken=nextPageToken,\n",
    "            maxResults=100\n",
    "        )\n",
    "        response = request.execute()\n",
    "        nextPageToken, authors, a_idx, authors_to_insert, authors = parse_one(\n",
    "            response, vidx, a_idx, authors_to_insert, authors)\n",
    "    db.commit()\n",
    "    cur.executemany(\"\"\"\n",
    "        INSERT INTO authors \n",
    "        (id, youtube_id, name)\n",
    "        VALUES (?, ?, ?)\"\"\", authors_to_insert)\n",
    "    db.commit()\n",
    "    print(vid)"
   ]
  },
  {
   "cell_type": "code",
   "execution_count": null,
   "metadata": {},
   "outputs": [],
   "source": []
  },
  {
   "cell_type": "code",
   "execution_count": null,
   "metadata": {},
   "outputs": [],
   "source": []
  }
 ],
 "metadata": {
  "kernelspec": {
   "display_name": "Python 3",
   "language": "python",
   "name": "python3"
  },
  "language_info": {
   "codemirror_mode": {
    "name": "ipython",
    "version": 3
   },
   "file_extension": ".py",
   "mimetype": "text/x-python",
   "name": "python",
   "nbconvert_exporter": "python",
   "pygments_lexer": "ipython3",
   "version": "3.8.2"
  }
 },
 "nbformat": 4,
 "nbformat_minor": 4
}
