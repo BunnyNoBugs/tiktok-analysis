{
  "nbformat": 4,
  "nbformat_minor": 0,
  "metadata": {
    "colab": {
      "name": "tiktok_prediction.ipynb",
      "provenance": [],
      "mount_file_id": "1NbYRMJdudqiKg5CiFjg9Iw53GqkoDhVd",
      "authorship_tag": "ABX9TyNw0hy4i+wC/rOyGXPc//yn",
      "include_colab_link": true
    },
    "kernelspec": {
      "name": "python3",
      "display_name": "Python 3"
    },
    "language_info": {
      "name": "python"
    }
  },
  "cells": [
    {
      "cell_type": "markdown",
      "metadata": {
        "id": "view-in-github",
        "colab_type": "text"
      },
      "source": [
        "<a href=\"https://colab.research.google.com/github/BunnyNoBugs/tiktok-analysis/blob/main/notebooks/tiktok_prediction.ipynb\" target=\"_parent\"><img src=\"https://colab.research.google.com/assets/colab-badge.svg\" alt=\"Open In Colab\"/></a>"
      ]
    },
    {
      "cell_type": "code",
      "metadata": {
        "colab": {
          "base_uri": "https://localhost:8080/"
        },
        "id": "8lUnICZDiqPo",
        "outputId": "c445ae09-5244-434e-fd79-d963b8919d74"
      },
      "source": [
        "!pip install sktime[all_extras]\n",
        "!pip install prophet\n",
        "!pip install orbit-ml\n",
        "!pip install TikTokApi\n",
        "!python -m playwright install\n",
        "\n",
        "!sudo apt-get install libbrotli1\\\n",
        "    libnotify4\\\n",
        "    libwoff1\\\n",
        "    gstreamer1.0-plugins-base\\\n",
        "    libgstreamer1.0-0\\\n",
        "    libgstreamer-gl1.0-0\\\n",
        "    gstreamer1.0-plugins-bad\\\n",
        "    libenchant1c2a\\\n",
        "    libsecret-1-0\\\n",
        "    libhyphen0"
      ],
      "execution_count": null,
      "outputs": [
        {
          "output_type": "stream",
          "text": [
            "Requirement already satisfied: sktime[all_extras] in /usr/local/lib/python3.7/dist-packages (0.6.1)\n",
            "Requirement already satisfied: scikit-learn>=0.24.0 in /usr/local/lib/python3.7/dist-packages (from sktime[all_extras]) (0.24.2)\n",
            "Requirement already satisfied: numba>=0.50 in /usr/local/lib/python3.7/dist-packages (from sktime[all_extras]) (0.51.2)\n",
            "Requirement already satisfied: wheel in /usr/local/lib/python3.7/dist-packages (from sktime[all_extras]) (0.36.2)\n",
            "Requirement already satisfied: statsmodels>=0.12.1 in /usr/local/lib/python3.7/dist-packages (from sktime[all_extras]) (0.12.2)\n",
            "Requirement already satisfied: numpy>=1.19.0 in /usr/local/lib/python3.7/dist-packages (from sktime[all_extras]) (1.19.5)\n",
            "Requirement already satisfied: pandas>=1.1.0 in /usr/local/lib/python3.7/dist-packages (from sktime[all_extras]) (1.1.5)\n",
            "Requirement already satisfied: pmdarima!=1.8.1,>=1.8.0; extra == \"all_extras\" in /usr/local/lib/python3.7/dist-packages (from sktime[all_extras]) (1.8.2)\n",
            "Requirement already satisfied: matplotlib>=3.3.2; extra == \"all_extras\" in /usr/local/lib/python3.7/dist-packages (from sktime[all_extras]) (3.3.4)\n",
            "Requirement already satisfied: seaborn>=0.11.0; extra == \"all_extras\" in /usr/local/lib/python3.7/dist-packages (from sktime[all_extras]) (0.11.1)\n",
            "Requirement already satisfied: tbats>=1.1.0; extra == \"all_extras\" in /usr/local/lib/python3.7/dist-packages (from sktime[all_extras]) (1.1.0)\n",
            "Requirement already satisfied: scikit-posthocs>=0.6.5; extra == \"all_extras\" in /usr/local/lib/python3.7/dist-packages (from sktime[all_extras]) (0.6.7)\n",
            "Requirement already satisfied: hcrystalball>=0.1.9; extra == \"all_extras\" in /usr/local/lib/python3.7/dist-packages (from sktime[all_extras]) (0.1.10)\n",
            "Requirement already satisfied: fbprophet>=0.7.1; extra == \"all_extras\" in /usr/local/lib/python3.7/dist-packages (from sktime[all_extras]) (0.7.1)\n",
            "Requirement already satisfied: cython>=0.29.0; extra == \"all_extras\" in /usr/local/lib/python3.7/dist-packages (from sktime[all_extras]) (0.29.23)\n",
            "Requirement already satisfied: catch22>=0.2.0; extra == \"all_extras\" in /usr/local/lib/python3.7/dist-packages (from sktime[all_extras]) (0.2.0)\n",
            "Requirement already satisfied: stumpy>=1.5.1; extra == \"all_extras\" in /usr/local/lib/python3.7/dist-packages (from sktime[all_extras]) (1.8.0)\n",
            "Requirement already satisfied: tsfresh>=0.17.0; extra == \"all_extras\" in /usr/local/lib/python3.7/dist-packages (from sktime[all_extras]) (0.18.0)\n",
            "Requirement already satisfied: joblib>=0.11 in /usr/local/lib/python3.7/dist-packages (from scikit-learn>=0.24.0->sktime[all_extras]) (1.0.1)\n",
            "Requirement already satisfied: threadpoolctl>=2.0.0 in /usr/local/lib/python3.7/dist-packages (from scikit-learn>=0.24.0->sktime[all_extras]) (2.1.0)\n",
            "Requirement already satisfied: scipy>=0.19.1 in /usr/local/lib/python3.7/dist-packages (from scikit-learn>=0.24.0->sktime[all_extras]) (1.4.1)\n",
            "Requirement already satisfied: setuptools in /usr/local/lib/python3.7/dist-packages (from numba>=0.50->sktime[all_extras]) (57.0.0)\n",
            "Requirement already satisfied: llvmlite<0.35,>=0.34.0.dev0 in /usr/local/lib/python3.7/dist-packages (from numba>=0.50->sktime[all_extras]) (0.34.0)\n",
            "Requirement already satisfied: patsy>=0.5 in /usr/local/lib/python3.7/dist-packages (from statsmodels>=0.12.1->sktime[all_extras]) (0.5.1)\n",
            "Requirement already satisfied: pytz>=2017.2 in /usr/local/lib/python3.7/dist-packages (from pandas>=1.1.0->sktime[all_extras]) (2018.9)\n",
            "Requirement already satisfied: python-dateutil>=2.7.3 in /usr/local/lib/python3.7/dist-packages (from pandas>=1.1.0->sktime[all_extras]) (2.8.1)\n",
            "Requirement already satisfied: urllib3 in /usr/local/lib/python3.7/dist-packages (from pmdarima!=1.8.1,>=1.8.0; extra == \"all_extras\"->sktime[all_extras]) (1.24.3)\n",
            "Requirement already satisfied: pillow>=6.2.0 in /usr/local/lib/python3.7/dist-packages (from matplotlib>=3.3.2; extra == \"all_extras\"->sktime[all_extras]) (7.1.2)\n",
            "Requirement already satisfied: pyparsing!=2.0.4,!=2.1.2,!=2.1.6,>=2.0.3 in /usr/local/lib/python3.7/dist-packages (from matplotlib>=3.3.2; extra == \"all_extras\"->sktime[all_extras]) (2.4.7)\n",
            "Requirement already satisfied: kiwisolver>=1.0.1 in /usr/local/lib/python3.7/dist-packages (from matplotlib>=3.3.2; extra == \"all_extras\"->sktime[all_extras]) (1.3.1)\n",
            "Requirement already satisfied: cycler>=0.10 in /usr/local/lib/python3.7/dist-packages (from matplotlib>=3.3.2; extra == \"all_extras\"->sktime[all_extras]) (0.10.0)\n",
            "Requirement already satisfied: workalendar>=10.1 in /usr/local/lib/python3.7/dist-packages (from hcrystalball>=0.1.9; extra == \"all_extras\"->sktime[all_extras]) (15.3.0)\n",
            "Collecting cmdstanpy==0.9.5\n",
            "  Downloading https://files.pythonhosted.org/packages/e3/e2/204c9c6beaf9e05ad28bd589c154afff35dffa6166d76841d3c0dec6c1e3/cmdstanpy-0.9.5-py3-none-any.whl\n",
            "Requirement already satisfied: pystan>=2.14 in /usr/local/lib/python3.7/dist-packages (from fbprophet>=0.7.1; extra == \"all_extras\"->sktime[all_extras]) (2.19.1.1)\n",
            "Requirement already satisfied: LunarCalendar>=0.0.9 in /usr/local/lib/python3.7/dist-packages (from fbprophet>=0.7.1; extra == \"all_extras\"->sktime[all_extras]) (0.0.9)\n",
            "Requirement already satisfied: convertdate>=2.1.2 in /usr/local/lib/python3.7/dist-packages (from fbprophet>=0.7.1; extra == \"all_extras\"->sktime[all_extras]) (2.3.2)\n",
            "Requirement already satisfied: holidays>=0.10.2 in /usr/local/lib/python3.7/dist-packages (from fbprophet>=0.7.1; extra == \"all_extras\"->sktime[all_extras]) (0.10.5.2)\n",
            "Requirement already satisfied: setuptools-git>=1.2 in /usr/local/lib/python3.7/dist-packages (from fbprophet>=0.7.1; extra == \"all_extras\"->sktime[all_extras]) (1.2)\n",
            "Requirement already satisfied: tqdm>=4.36.1 in /usr/local/lib/python3.7/dist-packages (from fbprophet>=0.7.1; extra == \"all_extras\"->sktime[all_extras]) (4.41.1)\n",
            "Requirement already satisfied: distributed>=2.11.0 in /usr/local/lib/python3.7/dist-packages (from tsfresh>=0.17.0; extra == \"all_extras\"->sktime[all_extras]) (2021.6.2)\n",
            "Requirement already satisfied: matrixprofile>=1.1.10<2.0.0 in /usr/local/lib/python3.7/dist-packages (from tsfresh>=0.17.0; extra == \"all_extras\"->sktime[all_extras]) (1.1.10)\n",
            "Requirement already satisfied: dask[dataframe]>=2.9.0 in /usr/local/lib/python3.7/dist-packages (from tsfresh>=0.17.0; extra == \"all_extras\"->sktime[all_extras]) (2.12.0)\n",
            "Requirement already satisfied: requests>=2.9.1 in /usr/local/lib/python3.7/dist-packages (from tsfresh>=0.17.0; extra == \"all_extras\"->sktime[all_extras]) (2.23.0)\n",
            "Requirement already satisfied: six in /usr/local/lib/python3.7/dist-packages (from patsy>=0.5->statsmodels>=0.12.1->sktime[all_extras]) (1.15.0)\n",
            "Requirement already satisfied: pyCalverter in /usr/local/lib/python3.7/dist-packages (from workalendar>=10.1->hcrystalball>=0.1.9; extra == \"all_extras\"->sktime[all_extras]) (1.6.1)\n",
            "Requirement already satisfied: lunardate in /usr/local/lib/python3.7/dist-packages (from workalendar>=10.1->hcrystalball>=0.1.9; extra == \"all_extras\"->sktime[all_extras]) (0.2.0)\n",
            "Requirement already satisfied: skyfield in /usr/local/lib/python3.7/dist-packages (from workalendar>=10.1->hcrystalball>=0.1.9; extra == \"all_extras\"->sktime[all_extras]) (1.39)\n",
            "Requirement already satisfied: skyfield-data in /usr/local/lib/python3.7/dist-packages (from workalendar>=10.1->hcrystalball>=0.1.9; extra == \"all_extras\"->sktime[all_extras]) (3.0.0)\n",
            "Requirement already satisfied: pyluach in /usr/local/lib/python3.7/dist-packages (from workalendar>=10.1->hcrystalball>=0.1.9; extra == \"all_extras\"->sktime[all_extras]) (1.3.0)\n",
            "Requirement already satisfied: backports.zoneinfo; python_version < \"3.9\" in /usr/local/lib/python3.7/dist-packages (from workalendar>=10.1->hcrystalball>=0.1.9; extra == \"all_extras\"->sktime[all_extras]) (0.2.1)\n",
            "Requirement already satisfied: ephem>=3.7.5.3 in /usr/local/lib/python3.7/dist-packages (from LunarCalendar>=0.0.9->fbprophet>=0.7.1; extra == \"all_extras\"->sktime[all_extras]) (4.0.0.2)\n",
            "Requirement already satisfied: pymeeus<=1,>=0.3.13 in /usr/local/lib/python3.7/dist-packages (from convertdate>=2.1.2->fbprophet>=0.7.1; extra == \"all_extras\"->sktime[all_extras]) (0.5.11)\n",
            "Requirement already satisfied: korean-lunar-calendar in /usr/local/lib/python3.7/dist-packages (from holidays>=0.10.2->fbprophet>=0.7.1; extra == \"all_extras\"->sktime[all_extras]) (0.2.1)\n",
            "Requirement already satisfied: hijri-converter in /usr/local/lib/python3.7/dist-packages (from holidays>=0.10.2->fbprophet>=0.7.1; extra == \"all_extras\"->sktime[all_extras]) (2.1.2)\n",
            "Requirement already satisfied: tornado>=5; python_version < \"3.8\" in /usr/local/lib/python3.7/dist-packages (from distributed>=2.11.0->tsfresh>=0.17.0; extra == \"all_extras\"->sktime[all_extras]) (5.1.1)\n",
            "Requirement already satisfied: psutil>=5.0 in /usr/local/lib/python3.7/dist-packages (from distributed>=2.11.0->tsfresh>=0.17.0; extra == \"all_extras\"->sktime[all_extras]) (5.4.8)\n",
            "Requirement already satisfied: msgpack>=0.6.0 in /usr/local/lib/python3.7/dist-packages (from distributed>=2.11.0->tsfresh>=0.17.0; extra == \"all_extras\"->sktime[all_extras]) (1.0.2)\n",
            "Requirement already satisfied: cloudpickle>=1.5.0 in /usr/local/lib/python3.7/dist-packages (from distributed>=2.11.0->tsfresh>=0.17.0; extra == \"all_extras\"->sktime[all_extras]) (1.6.0)\n",
            "Requirement already satisfied: pyyaml in /usr/local/lib/python3.7/dist-packages (from distributed>=2.11.0->tsfresh>=0.17.0; extra == \"all_extras\"->sktime[all_extras]) (3.13)\n",
            "Requirement already satisfied: click>=6.6 in /usr/local/lib/python3.7/dist-packages (from distributed>=2.11.0->tsfresh>=0.17.0; extra == \"all_extras\"->sktime[all_extras]) (7.1.2)\n",
            "Requirement already satisfied: sortedcontainers!=2.0.0,!=2.0.1 in /usr/local/lib/python3.7/dist-packages (from distributed>=2.11.0->tsfresh>=0.17.0; extra == \"all_extras\"->sktime[all_extras]) (2.4.0)\n",
            "Requirement already satisfied: zict>=0.1.3 in /usr/local/lib/python3.7/dist-packages (from distributed>=2.11.0->tsfresh>=0.17.0; extra == \"all_extras\"->sktime[all_extras]) (2.0.0)\n",
            "Requirement already satisfied: tblib>=1.6.0 in /usr/local/lib/python3.7/dist-packages (from distributed>=2.11.0->tsfresh>=0.17.0; extra == \"all_extras\"->sktime[all_extras]) (1.7.0)\n",
            "Requirement already satisfied: toolz>=0.8.2 in /usr/local/lib/python3.7/dist-packages (from distributed>=2.11.0->tsfresh>=0.17.0; extra == \"all_extras\"->sktime[all_extras]) (0.11.1)\n",
            "Requirement already satisfied: protobuf==3.11.2 in /usr/local/lib/python3.7/dist-packages (from matrixprofile>=1.1.10<2.0.0->tsfresh>=0.17.0; extra == \"all_extras\"->sktime[all_extras]) (3.11.2)\n",
            "Requirement already satisfied: fsspec>=0.6.0; extra == \"dataframe\" in /usr/local/lib/python3.7/dist-packages (from dask[dataframe]>=2.9.0->tsfresh>=0.17.0; extra == \"all_extras\"->sktime[all_extras]) (2021.6.1)\n",
            "Requirement already satisfied: partd>=0.3.10; extra == \"dataframe\" in /usr/local/lib/python3.7/dist-packages (from dask[dataframe]>=2.9.0->tsfresh>=0.17.0; extra == \"all_extras\"->sktime[all_extras]) (1.2.0)\n",
            "Requirement already satisfied: certifi>=2017.4.17 in /usr/local/lib/python3.7/dist-packages (from requests>=2.9.1->tsfresh>=0.17.0; extra == \"all_extras\"->sktime[all_extras]) (2021.5.30)\n",
            "Requirement already satisfied: idna<3,>=2.5 in /usr/local/lib/python3.7/dist-packages (from requests>=2.9.1->tsfresh>=0.17.0; extra == \"all_extras\"->sktime[all_extras]) (2.10)\n",
            "Requirement already satisfied: chardet<4,>=3.0.2 in /usr/local/lib/python3.7/dist-packages (from requests>=2.9.1->tsfresh>=0.17.0; extra == \"all_extras\"->sktime[all_extras]) (3.0.4)\n",
            "Requirement already satisfied: sgp4>=2.2 in /usr/local/lib/python3.7/dist-packages (from skyfield->workalendar>=10.1->hcrystalball>=0.1.9; extra == \"all_extras\"->sktime[all_extras]) (2.19)\n",
            "Requirement already satisfied: jplephem>=2.13 in /usr/local/lib/python3.7/dist-packages (from skyfield->workalendar>=10.1->hcrystalball>=0.1.9; extra == \"all_extras\"->sktime[all_extras]) (2.15)\n",
            "Requirement already satisfied: heapdict in /usr/local/lib/python3.7/dist-packages (from zict>=0.1.3->distributed>=2.11.0->tsfresh>=0.17.0; extra == \"all_extras\"->sktime[all_extras]) (1.0.1)\n",
            "Requirement already satisfied: locket in /usr/local/lib/python3.7/dist-packages (from partd>=0.3.10; extra == \"dataframe\"->dask[dataframe]>=2.9.0->tsfresh>=0.17.0; extra == \"all_extras\"->sktime[all_extras]) (0.2.1)\n",
            "\u001b[31mERROR: prophet 1.0.1 has requirement cmdstanpy==0.9.68, but you'll have cmdstanpy 0.9.5 which is incompatible.\u001b[0m\n",
            "Installing collected packages: cmdstanpy\n",
            "  Found existing installation: cmdstanpy 0.9.68\n",
            "    Uninstalling cmdstanpy-0.9.68:\n",
            "      Successfully uninstalled cmdstanpy-0.9.68\n",
            "Successfully installed cmdstanpy-0.9.5\n",
            "Requirement already satisfied: prophet in /usr/local/lib/python3.7/dist-packages (1.0.1)\n",
            "Requirement already satisfied: pystan~=2.19.1.1 in /usr/local/lib/python3.7/dist-packages (from prophet) (2.19.1.1)\n",
            "Requirement already satisfied: LunarCalendar>=0.0.9 in /usr/local/lib/python3.7/dist-packages (from prophet) (0.0.9)\n",
            "Requirement already satisfied: pandas>=1.0.4 in /usr/local/lib/python3.7/dist-packages (from prophet) (1.1.5)\n",
            "Requirement already satisfied: setuptools-git>=1.2 in /usr/local/lib/python3.7/dist-packages (from prophet) (1.2)\n",
            "Requirement already satisfied: tqdm>=4.36.1 in /usr/local/lib/python3.7/dist-packages (from prophet) (4.41.1)\n",
            "Requirement already satisfied: holidays>=0.10.2 in /usr/local/lib/python3.7/dist-packages (from prophet) (0.10.5.2)\n",
            "Requirement already satisfied: numpy>=1.15.4 in /usr/local/lib/python3.7/dist-packages (from prophet) (1.19.5)\n",
            "Collecting cmdstanpy==0.9.68\n",
            "  Using cached https://files.pythonhosted.org/packages/08/b9/b4f0938b38dbe775c4def707f525ab816b9d0215ecd8ab2d76780f4514f8/cmdstanpy-0.9.68-py3-none-any.whl\n",
            "Requirement already satisfied: convertdate>=2.1.2 in /usr/local/lib/python3.7/dist-packages (from prophet) (2.3.2)\n",
            "Requirement already satisfied: python-dateutil>=2.8.0 in /usr/local/lib/python3.7/dist-packages (from prophet) (2.8.1)\n",
            "Requirement already satisfied: Cython>=0.22 in /usr/local/lib/python3.7/dist-packages (from prophet) (0.29.23)\n",
            "Requirement already satisfied: matplotlib>=2.0.0 in /usr/local/lib/python3.7/dist-packages (from prophet) (3.3.4)\n",
            "Requirement already satisfied: pytz in /usr/local/lib/python3.7/dist-packages (from LunarCalendar>=0.0.9->prophet) (2018.9)\n",
            "Requirement already satisfied: ephem>=3.7.5.3 in /usr/local/lib/python3.7/dist-packages (from LunarCalendar>=0.0.9->prophet) (4.0.0.2)\n",
            "Requirement already satisfied: korean-lunar-calendar in /usr/local/lib/python3.7/dist-packages (from holidays>=0.10.2->prophet) (0.2.1)\n",
            "Requirement already satisfied: six in /usr/local/lib/python3.7/dist-packages (from holidays>=0.10.2->prophet) (1.15.0)\n",
            "Requirement already satisfied: hijri-converter in /usr/local/lib/python3.7/dist-packages (from holidays>=0.10.2->prophet) (2.1.2)\n",
            "Requirement already satisfied: ujson in /usr/local/lib/python3.7/dist-packages (from cmdstanpy==0.9.68->prophet) (4.0.2)\n",
            "Requirement already satisfied: pymeeus<=1,>=0.3.13 in /usr/local/lib/python3.7/dist-packages (from convertdate>=2.1.2->prophet) (0.5.11)\n",
            "Requirement already satisfied: pillow>=6.2.0 in /usr/local/lib/python3.7/dist-packages (from matplotlib>=2.0.0->prophet) (7.1.2)\n",
            "Requirement already satisfied: kiwisolver>=1.0.1 in /usr/local/lib/python3.7/dist-packages (from matplotlib>=2.0.0->prophet) (1.3.1)\n",
            "Requirement already satisfied: cycler>=0.10 in /usr/local/lib/python3.7/dist-packages (from matplotlib>=2.0.0->prophet) (0.10.0)\n",
            "Requirement already satisfied: pyparsing!=2.0.4,!=2.1.2,!=2.1.6,>=2.0.3 in /usr/local/lib/python3.7/dist-packages (from matplotlib>=2.0.0->prophet) (2.4.7)\n",
            "\u001b[31mERROR: fbprophet 0.7.1 has requirement cmdstanpy==0.9.5, but you'll have cmdstanpy 0.9.68 which is incompatible.\u001b[0m\n",
            "Installing collected packages: cmdstanpy\n",
            "  Found existing installation: cmdstanpy 0.9.5\n",
            "    Uninstalling cmdstanpy-0.9.5:\n",
            "      Successfully uninstalled cmdstanpy-0.9.5\n",
            "Successfully installed cmdstanpy-0.9.68\n",
            "Requirement already satisfied: orbit-ml in /usr/local/lib/python3.7/dist-packages (1.0.13)\n",
            "Requirement already satisfied: pystan==2.19.1.1 in /usr/local/lib/python3.7/dist-packages (from orbit-ml) (2.19.1.1)\n",
            "Requirement already satisfied: seaborn>=0.10.0 in /usr/local/lib/python3.7/dist-packages (from orbit-ml) (0.11.1)\n",
            "Requirement already satisfied: pyro-ppl>=1.4.0 in /usr/local/lib/python3.7/dist-packages (from orbit-ml) (1.6.0)\n",
            "Requirement already satisfied: torch in /usr/local/lib/python3.7/dist-packages (from orbit-ml) (1.9.0+cu102)\n",
            "Requirement already satisfied: custom-inherit==2.3.1 in /usr/local/lib/python3.7/dist-packages (from orbit-ml) (2.3.1)\n",
            "Requirement already satisfied: tqdm in /usr/local/lib/python3.7/dist-packages (from orbit-ml) (4.41.1)\n",
            "Requirement already satisfied: scipy>=1.4.1 in /usr/local/lib/python3.7/dist-packages (from orbit-ml) (1.4.1)\n",
            "Requirement already satisfied: numpy>=1.18.2 in /usr/local/lib/python3.7/dist-packages (from orbit-ml) (1.19.5)\n",
            "Requirement already satisfied: matplotlib==3.3.4 in /usr/local/lib/python3.7/dist-packages (from orbit-ml) (3.3.4)\n",
            "Requirement already satisfied: pandas>=1.0.3 in /usr/local/lib/python3.7/dist-packages (from orbit-ml) (1.1.5)\n",
            "Requirement already satisfied: statsmodels>=0.11.1 in /usr/local/lib/python3.7/dist-packages (from orbit-ml) (0.12.2)\n",
            "Requirement already satisfied: Cython!=0.25.1,>=0.22 in /usr/local/lib/python3.7/dist-packages (from pystan==2.19.1.1->orbit-ml) (0.29.23)\n",
            "Requirement already satisfied: opt-einsum>=2.3.2 in /usr/local/lib/python3.7/dist-packages (from pyro-ppl>=1.4.0->orbit-ml) (3.3.0)\n",
            "Requirement already satisfied: pyro-api>=0.1.1 in /usr/local/lib/python3.7/dist-packages (from pyro-ppl>=1.4.0->orbit-ml) (0.1.2)\n",
            "Requirement already satisfied: typing-extensions in /usr/local/lib/python3.7/dist-packages (from torch->orbit-ml) (3.7.4.3)\n",
            "Requirement already satisfied: cycler>=0.10 in /usr/local/lib/python3.7/dist-packages (from matplotlib==3.3.4->orbit-ml) (0.10.0)\n",
            "Requirement already satisfied: pillow>=6.2.0 in /usr/local/lib/python3.7/dist-packages (from matplotlib==3.3.4->orbit-ml) (7.1.2)\n",
            "Requirement already satisfied: pyparsing!=2.0.4,!=2.1.2,!=2.1.6,>=2.0.3 in /usr/local/lib/python3.7/dist-packages (from matplotlib==3.3.4->orbit-ml) (2.4.7)\n",
            "Requirement already satisfied: kiwisolver>=1.0.1 in /usr/local/lib/python3.7/dist-packages (from matplotlib==3.3.4->orbit-ml) (1.3.1)\n",
            "Requirement already satisfied: python-dateutil>=2.1 in /usr/local/lib/python3.7/dist-packages (from matplotlib==3.3.4->orbit-ml) (2.8.1)\n",
            "Requirement already satisfied: pytz>=2017.2 in /usr/local/lib/python3.7/dist-packages (from pandas>=1.0.3->orbit-ml) (2018.9)\n",
            "Requirement already satisfied: patsy>=0.5 in /usr/local/lib/python3.7/dist-packages (from statsmodels>=0.11.1->orbit-ml) (0.5.1)\n",
            "Requirement already satisfied: six in /usr/local/lib/python3.7/dist-packages (from cycler>=0.10->matplotlib==3.3.4->orbit-ml) (1.15.0)\n",
            "Requirement already satisfied: TikTokApi in /usr/local/lib/python3.7/dist-packages (3.9.9)\n",
            "Requirement already satisfied: requests in /usr/local/lib/python3.7/dist-packages (from TikTokApi) (2.23.0)\n",
            "Requirement already satisfied: selenium in /usr/local/lib/python3.7/dist-packages (from TikTokApi) (3.141.0)\n",
            "Requirement already satisfied: selenium-stealth in /usr/local/lib/python3.7/dist-packages (from TikTokApi) (1.0.6)\n",
            "Requirement already satisfied: playwright in /usr/local/lib/python3.7/dist-packages (from TikTokApi) (1.12.1)\n",
            "Requirement already satisfied: urllib3!=1.25.0,!=1.25.1,<1.26,>=1.21.1 in /usr/local/lib/python3.7/dist-packages (from requests->TikTokApi) (1.24.3)\n",
            "Requirement already satisfied: chardet<4,>=3.0.2 in /usr/local/lib/python3.7/dist-packages (from requests->TikTokApi) (3.0.4)\n",
            "Requirement already satisfied: certifi>=2017.4.17 in /usr/local/lib/python3.7/dist-packages (from requests->TikTokApi) (2021.5.30)\n",
            "Requirement already satisfied: idna<3,>=2.5 in /usr/local/lib/python3.7/dist-packages (from requests->TikTokApi) (2.10)\n",
            "Requirement already satisfied: pyee>=8.0.1 in /usr/local/lib/python3.7/dist-packages (from playwright->TikTokApi) (8.1.0)\n",
            "Requirement already satisfied: typing-extensions; python_version <= \"3.8\" in /usr/local/lib/python3.7/dist-packages (from playwright->TikTokApi) (3.7.4.3)\n",
            "Requirement already satisfied: websockets>=8.1 in /usr/local/lib/python3.7/dist-packages (from playwright->TikTokApi) (9.1)\n",
            "Requirement already satisfied: greenlet>=1.0.0 in /usr/local/lib/python3.7/dist-packages (from playwright->TikTokApi) (1.1.0)\n",
            "Reading package lists... Done\n",
            "Building dependency tree       \n",
            "Reading state information... Done\n",
            "libenchant1c2a is already the newest version (1.6.0-11.1).\n",
            "libhyphen0 is already the newest version (2.8.8-5).\n",
            "libnotify4 is already the newest version (0.7.7-3).\n",
            "libsecret-1-0 is already the newest version (0.18.6-1).\n",
            "gstreamer1.0-plugins-base is already the newest version (1.14.5-0ubuntu1~18.04.3).\n",
            "libbrotli1 is already the newest version (1.0.3-1ubuntu1.3).\n",
            "libgstreamer-gl1.0-0 is already the newest version (1.14.5-0ubuntu1~18.04.3).\n",
            "libgstreamer1.0-0 is already the newest version (1.14.5-0ubuntu1~18.04.2).\n",
            "libwoff1 is already the newest version (1.0.2-1build0.1).\n",
            "gstreamer1.0-plugins-bad is already the newest version (1.14.5-0ubuntu1~18.04.1).\n",
            "0 upgraded, 0 newly installed, 0 to remove and 39 not upgraded.\n"
          ],
          "name": "stdout"
        }
      ]
    },
    {
      "cell_type": "code",
      "metadata": {
        "id": "tCTL_Odqiu_8"
      },
      "source": [
        "import pandas as pd\n",
        "from prophet import Prophet\n",
        "from sktime.forecasting.model_selection import temporal_train_test_split\n",
        "from sktime.utils.plotting import plot_series\n",
        "from sktime.performance_metrics.forecasting import mean_absolute_error\n",
        "from orbit.diagnostics.plot import plot_predicted_data\n",
        "from TikTokApi import TikTokApi"
      ],
      "execution_count": null,
      "outputs": []
    },
    {
      "cell_type": "code",
      "metadata": {
        "id": "pZcMmletASb6",
        "colab": {
          "base_uri": "https://localhost:8080/",
          "height": 69
        },
        "outputId": "185b1d13-7fec-44e3-f080-9b451bf67598"
      },
      "source": [
        "'''\n",
        "from TikTokApi import TikTokApi\n",
        "import json\n",
        "import os\n",
        "\n",
        "api = TikTokApi.get_instance()\n",
        "\n",
        "hashtag = 'popit'\n",
        "count = 1800\n",
        "\n",
        "print(f'hashtag: #{hashtag}')\n",
        "tiktoks = api.by_hashtag(hashtag, count=count)\n",
        "\n",
        "print('download successful!')\n",
        "\n",
        "if not os.path.exists('data'):\n",
        "    os.mkdir('data')\n",
        "\n",
        "with open('data/tiktoks_hashtag.json', 'w') as f:\n",
        "    json.dump(tiktoks, f)\n",
        "\n",
        "print('tiktoks saved!')\n",
        "'''"
      ],
      "execution_count": null,
      "outputs": [
        {
          "output_type": "execute_result",
          "data": {
            "application/vnd.google.colaboratory.intrinsic+json": {
              "type": "string"
            },
            "text/plain": [
              "\"\\nfrom TikTokApi import TikTokApi\\nimport json\\nimport os\\n\\napi = TikTokApi.get_instance()\\n\\nhashtag = 'popit'\\ncount = 1800\\n\\nprint(f'hashtag: #{hashtag}')\\ntiktoks = api.by_hashtag(hashtag, count=count)\\n\\nprint('download successful!')\\n\\nif not os.path.exists('data'):\\n    os.mkdir('data')\\n\\nwith open('data/tiktoks_hashtag.json', 'w') as f:\\n    json.dump(tiktoks, f)\\n\\nprint('tiktoks saved!')\\n\""
            ]
          },
          "metadata": {
            "tags": []
          },
          "execution_count": 6
        }
      ]
    },
    {
      "cell_type": "code",
      "metadata": {
        "colab": {
          "base_uri": "https://localhost:8080/"
        },
        "id": "UHrlQZtDwcY8",
        "outputId": "5531ecc7-83f4-41ab-e943-23524463cbb2"
      },
      "source": [
        "!python '/content/drive/MyDrive/Colab Notebooks/tiktok_analysis/tiktoks_download.py'"
      ],
      "execution_count": null,
      "outputs": [
        {
          "output_type": "stream",
          "text": [
            "hashtag: #ghosthoney\n",
            "download successful!\n",
            "tiktoks saved!\n"
          ],
          "name": "stdout"
        }
      ]
    },
    {
      "cell_type": "code",
      "metadata": {
        "id": "6BHaQLsNi652"
      },
      "source": [
        "tt_df = pd.read_json('/content/data/tiktoks_hashtag.json')\n",
        "tt_df['createTime'] = pd.to_datetime(tt_df['createTime'], unit='s').dt.date\n",
        "# tt_df = tt_df[tt_df['createTime'] >= pd.to_datetime('2021')]\n",
        "tt_df['likes'] = tt_df['stats'].apply(lambda x: x['diggCount'])\n",
        "tt_df['shares'] = tt_df['stats'].apply(lambda x: x['shareCount'])\n",
        "tt_df['comments'] = tt_df['stats'].apply(lambda x: x['commentCount'])\n",
        "tt_df['plays'] = tt_df['stats'].apply(lambda x: x['playCount'])"
      ],
      "execution_count": null,
      "outputs": []
    },
    {
      "cell_type": "code",
      "metadata": {
        "colab": {
          "base_uri": "https://localhost:8080/",
          "height": 1000
        },
        "id": "EOxPlWtcE3Sh",
        "outputId": "3bfb8dcd-b24a-4d4d-d227-3868dbd9578a"
      },
      "source": [
        "tt_df"
      ],
      "execution_count": null,
      "outputs": [
        {
          "output_type": "execute_result",
          "data": {
            "text/html": [
              "<div>\n",
              "<style scoped>\n",
              "    .dataframe tbody tr th:only-of-type {\n",
              "        vertical-align: middle;\n",
              "    }\n",
              "\n",
              "    .dataframe tbody tr th {\n",
              "        vertical-align: top;\n",
              "    }\n",
              "\n",
              "    .dataframe thead th {\n",
              "        text-align: right;\n",
              "    }\n",
              "</style>\n",
              "<table border=\"1\" class=\"dataframe\">\n",
              "  <thead>\n",
              "    <tr style=\"text-align: right;\">\n",
              "      <th></th>\n",
              "      <th>id</th>\n",
              "      <th>desc</th>\n",
              "      <th>createTime</th>\n",
              "      <th>video</th>\n",
              "      <th>author</th>\n",
              "      <th>music</th>\n",
              "      <th>challenges</th>\n",
              "      <th>stats</th>\n",
              "      <th>duetInfo</th>\n",
              "      <th>originalItem</th>\n",
              "      <th>officalItem</th>\n",
              "      <th>textExtra</th>\n",
              "      <th>secret</th>\n",
              "      <th>forFriend</th>\n",
              "      <th>digged</th>\n",
              "      <th>itemCommentStatus</th>\n",
              "      <th>showNotPass</th>\n",
              "      <th>vl1</th>\n",
              "      <th>itemMute</th>\n",
              "      <th>authorStats</th>\n",
              "      <th>privateItem</th>\n",
              "      <th>duetEnabled</th>\n",
              "      <th>stitchEnabled</th>\n",
              "      <th>shareEnabled</th>\n",
              "      <th>isAd</th>\n",
              "      <th>stickersOnItem</th>\n",
              "      <th>effectStickers</th>\n",
              "      <th>warnInfo</th>\n",
              "      <th>likes</th>\n",
              "      <th>shares</th>\n",
              "      <th>comments</th>\n",
              "      <th>plays</th>\n",
              "    </tr>\n",
              "  </thead>\n",
              "  <tbody>\n",
              "    <tr>\n",
              "      <th>0</th>\n",
              "      <td>6977519571653774336</td>\n",
              "      <td>#ad excited to make this painting for Jiahao &amp;...</td>\n",
              "      <td>2021-06-25</td>\n",
              "      <td>{'id': '6977519571653774597', 'height': 1024, ...</td>\n",
              "      <td>{'id': '6674310597444600837', 'uniqueId': 'gho...</td>\n",
              "      <td>{'id': '6850111632043935745', 'title': 'Lofi n...</td>\n",
              "      <td>[{'id': '20898', 'title': 'ad', 'desc': '', 'p...</td>\n",
              "      <td>{'diggCount': 50800, 'shareCount': 473, 'comme...</td>\n",
              "      <td>{'duetFromId': '0'}</td>\n",
              "      <td>False</td>\n",
              "      <td>False</td>\n",
              "      <td>[{'awemeId': '', 'start': 77, 'end': 95, 'hash...</td>\n",
              "      <td>False</td>\n",
              "      <td>False</td>\n",
              "      <td>False</td>\n",
              "      <td>0</td>\n",
              "      <td>False</td>\n",
              "      <td>False</td>\n",
              "      <td>False</td>\n",
              "      <td>{'followingCount': 317, 'followerCount': 25000...</td>\n",
              "      <td>False</td>\n",
              "      <td>False</td>\n",
              "      <td>False</td>\n",
              "      <td>True</td>\n",
              "      <td>False</td>\n",
              "      <td>NaN</td>\n",
              "      <td>NaN</td>\n",
              "      <td>NaN</td>\n",
              "      <td>50800</td>\n",
              "      <td>473</td>\n",
              "      <td>642</td>\n",
              "      <td>161800</td>\n",
              "    </tr>\n",
              "    <tr>\n",
              "      <th>1</th>\n",
              "      <td>6977123858335714304</td>\n",
              "      <td>Answer to @brennabeanlf existential dread✨</td>\n",
              "      <td>2021-06-23</td>\n",
              "      <td>{'id': '6977123858335714565', 'height': 1024, ...</td>\n",
              "      <td>{'id': '6674310597444600837', 'uniqueId': 'gho...</td>\n",
              "      <td>{'id': '6817665487665629186', 'title': 'Chopin...</td>\n",
              "      <td>NaN</td>\n",
              "      <td>{'diggCount': 150500, 'shareCount': 14600, 'co...</td>\n",
              "      <td>{'duetFromId': '0'}</td>\n",
              "      <td>False</td>\n",
              "      <td>False</td>\n",
              "      <td>[{'awemeId': '', 'start': 10, 'end': 23, 'hash...</td>\n",
              "      <td>False</td>\n",
              "      <td>False</td>\n",
              "      <td>False</td>\n",
              "      <td>0</td>\n",
              "      <td>False</td>\n",
              "      <td>False</td>\n",
              "      <td>False</td>\n",
              "      <td>{'followingCount': 317, 'followerCount': 25000...</td>\n",
              "      <td>False</td>\n",
              "      <td>False</td>\n",
              "      <td>False</td>\n",
              "      <td>True</td>\n",
              "      <td>False</td>\n",
              "      <td>NaN</td>\n",
              "      <td>NaN</td>\n",
              "      <td>NaN</td>\n",
              "      <td>150500</td>\n",
              "      <td>14600</td>\n",
              "      <td>4185</td>\n",
              "      <td>581600</td>\n",
              "    </tr>\n",
              "    <tr>\n",
              "      <th>2</th>\n",
              "      <td>6975316622785432576</td>\n",
              "      <td>Answer to @ereauele  libras love to play</td>\n",
              "      <td>2021-06-19</td>\n",
              "      <td>{'id': '6975316622785432838', 'height': 1024, ...</td>\n",
              "      <td>{'id': '6674310597444600837', 'uniqueId': 'gho...</td>\n",
              "      <td>{'id': '6777279827805390850', 'title': 'Storie...</td>\n",
              "      <td>NaN</td>\n",
              "      <td>{'diggCount': 115000, 'shareCount': 3769, 'com...</td>\n",
              "      <td>{'duetFromId': '0'}</td>\n",
              "      <td>False</td>\n",
              "      <td>False</td>\n",
              "      <td>[{'awemeId': '', 'start': 10, 'end': 19, 'hash...</td>\n",
              "      <td>False</td>\n",
              "      <td>False</td>\n",
              "      <td>False</td>\n",
              "      <td>0</td>\n",
              "      <td>False</td>\n",
              "      <td>False</td>\n",
              "      <td>False</td>\n",
              "      <td>{'followingCount': 317, 'followerCount': 25000...</td>\n",
              "      <td>False</td>\n",
              "      <td>False</td>\n",
              "      <td>False</td>\n",
              "      <td>True</td>\n",
              "      <td>False</td>\n",
              "      <td>NaN</td>\n",
              "      <td>NaN</td>\n",
              "      <td>NaN</td>\n",
              "      <td>115000</td>\n",
              "      <td>3769</td>\n",
              "      <td>3601</td>\n",
              "      <td>423800</td>\n",
              "    </tr>\n",
              "    <tr>\n",
              "      <th>3</th>\n",
              "      <td>6974907371772480512</td>\n",
              "      <td>the ghosthoney sandwich</td>\n",
              "      <td>2021-06-17</td>\n",
              "      <td>{'id': '6974907371772480773', 'height': 1024, ...</td>\n",
              "      <td>{'id': '6674310597444600837', 'uniqueId': 'gho...</td>\n",
              "      <td>{'id': '6974907259268713221', 'title': 'origin...</td>\n",
              "      <td>NaN</td>\n",
              "      <td>{'diggCount': 185600, 'shareCount': 4235, 'com...</td>\n",
              "      <td>{'duetFromId': '0'}</td>\n",
              "      <td>False</td>\n",
              "      <td>False</td>\n",
              "      <td>NaN</td>\n",
              "      <td>False</td>\n",
              "      <td>False</td>\n",
              "      <td>False</td>\n",
              "      <td>0</td>\n",
              "      <td>False</td>\n",
              "      <td>False</td>\n",
              "      <td>False</td>\n",
              "      <td>{'followingCount': 317, 'followerCount': 25000...</td>\n",
              "      <td>False</td>\n",
              "      <td>False</td>\n",
              "      <td>False</td>\n",
              "      <td>True</td>\n",
              "      <td>False</td>\n",
              "      <td>NaN</td>\n",
              "      <td>NaN</td>\n",
              "      <td>NaN</td>\n",
              "      <td>185600</td>\n",
              "      <td>4235</td>\n",
              "      <td>1805</td>\n",
              "      <td>676600</td>\n",
              "    </tr>\n",
              "    <tr>\n",
              "      <th>4</th>\n",
              "      <td>6972693902243449856</td>\n",
              "      <td>I’m honored to be able to partner with @itgets...</td>\n",
              "      <td>2021-06-12</td>\n",
              "      <td>{'id': '6972693902243450117', 'height': 1024, ...</td>\n",
              "      <td>{'id': '6674310597444600837', 'uniqueId': 'gho...</td>\n",
              "      <td>{'id': '6773844337747822594', 'title': 'LE BAL...</td>\n",
              "      <td>[{'id': '1668529204085765', 'title': 'creativi...</td>\n",
              "      <td>{'diggCount': 54000, 'shareCount': 439, 'comme...</td>\n",
              "      <td>{'duetFromId': '0'}</td>\n",
              "      <td>False</td>\n",
              "      <td>False</td>\n",
              "      <td>[{'awemeId': '', 'start': 39, 'end': 52, 'hash...</td>\n",
              "      <td>False</td>\n",
              "      <td>False</td>\n",
              "      <td>False</td>\n",
              "      <td>0</td>\n",
              "      <td>False</td>\n",
              "      <td>False</td>\n",
              "      <td>False</td>\n",
              "      <td>{'followingCount': 317, 'followerCount': 25000...</td>\n",
              "      <td>False</td>\n",
              "      <td>False</td>\n",
              "      <td>False</td>\n",
              "      <td>True</td>\n",
              "      <td>False</td>\n",
              "      <td>NaN</td>\n",
              "      <td>NaN</td>\n",
              "      <td>NaN</td>\n",
              "      <td>54000</td>\n",
              "      <td>439</td>\n",
              "      <td>965</td>\n",
              "      <td>328200</td>\n",
              "    </tr>\n",
              "    <tr>\n",
              "      <th>...</th>\n",
              "      <td>...</td>\n",
              "      <td>...</td>\n",
              "      <td>...</td>\n",
              "      <td>...</td>\n",
              "      <td>...</td>\n",
              "      <td>...</td>\n",
              "      <td>...</td>\n",
              "      <td>...</td>\n",
              "      <td>...</td>\n",
              "      <td>...</td>\n",
              "      <td>...</td>\n",
              "      <td>...</td>\n",
              "      <td>...</td>\n",
              "      <td>...</td>\n",
              "      <td>...</td>\n",
              "      <td>...</td>\n",
              "      <td>...</td>\n",
              "      <td>...</td>\n",
              "      <td>...</td>\n",
              "      <td>...</td>\n",
              "      <td>...</td>\n",
              "      <td>...</td>\n",
              "      <td>...</td>\n",
              "      <td>...</td>\n",
              "      <td>...</td>\n",
              "      <td>...</td>\n",
              "      <td>...</td>\n",
              "      <td>...</td>\n",
              "      <td>...</td>\n",
              "      <td>...</td>\n",
              "      <td>...</td>\n",
              "      <td>...</td>\n",
              "    </tr>\n",
              "    <tr>\n",
              "      <th>465</th>\n",
              "      <td>6684028773500718080</td>\n",
              "      <td>important delivery #foryou #wholesometiktok #f...</td>\n",
              "      <td>2019-04-26</td>\n",
              "      <td>{'id': '6684028773500718341', 'height': 1280, ...</td>\n",
              "      <td>{'id': '6674310597444600837', 'uniqueId': 'gho...</td>\n",
              "      <td>{'id': '6683368159635852038', 'title': 'origin...</td>\n",
              "      <td>[{'id': '42164', 'title': 'foryou', 'desc': ''...</td>\n",
              "      <td>{'diggCount': 2423, 'shareCount': 26, 'comment...</td>\n",
              "      <td>{'duetFromId': '0'}</td>\n",
              "      <td>False</td>\n",
              "      <td>False</td>\n",
              "      <td>[{'awemeId': '', 'start': 19, 'end': 26, 'hash...</td>\n",
              "      <td>False</td>\n",
              "      <td>False</td>\n",
              "      <td>False</td>\n",
              "      <td>0</td>\n",
              "      <td>False</td>\n",
              "      <td>False</td>\n",
              "      <td>False</td>\n",
              "      <td>{'followingCount': 317, 'followerCount': 25000...</td>\n",
              "      <td>False</td>\n",
              "      <td>True</td>\n",
              "      <td>True</td>\n",
              "      <td>True</td>\n",
              "      <td>False</td>\n",
              "      <td>NaN</td>\n",
              "      <td>NaN</td>\n",
              "      <td>NaN</td>\n",
              "      <td>2423</td>\n",
              "      <td>26</td>\n",
              "      <td>13</td>\n",
              "      <td>37400</td>\n",
              "    </tr>\n",
              "    <tr>\n",
              "      <th>466</th>\n",
              "      <td>6681783516226653184</td>\n",
              "      <td>#jkrowling has been sitting on this for 20 yea...</td>\n",
              "      <td>2019-04-20</td>\n",
              "      <td>{'id': '6681783516226653446', 'height': 1280, ...</td>\n",
              "      <td>{'id': '6674310597444600837', 'uniqueId': 'gho...</td>\n",
              "      <td>{'id': '222450083194306560', 'title': 'Harry P...</td>\n",
              "      <td>[{'id': '289985', 'title': 'jkrowling', 'desc'...</td>\n",
              "      <td>{'diggCount': 5772, 'shareCount': 387, 'commen...</td>\n",
              "      <td>{'duetFromId': '0'}</td>\n",
              "      <td>False</td>\n",
              "      <td>False</td>\n",
              "      <td>[{'awemeId': '', 'start': 0, 'end': 10, 'hasht...</td>\n",
              "      <td>False</td>\n",
              "      <td>False</td>\n",
              "      <td>False</td>\n",
              "      <td>0</td>\n",
              "      <td>False</td>\n",
              "      <td>False</td>\n",
              "      <td>False</td>\n",
              "      <td>{'followingCount': 317, 'followerCount': 25000...</td>\n",
              "      <td>False</td>\n",
              "      <td>True</td>\n",
              "      <td>True</td>\n",
              "      <td>True</td>\n",
              "      <td>False</td>\n",
              "      <td>NaN</td>\n",
              "      <td>NaN</td>\n",
              "      <td>NaN</td>\n",
              "      <td>5772</td>\n",
              "      <td>387</td>\n",
              "      <td>22</td>\n",
              "      <td>56300</td>\n",
              "    </tr>\n",
              "    <tr>\n",
              "      <th>467</th>\n",
              "      <td>6675284356027649024</td>\n",
              "      <td>Like this to make my heart go on 💙 #foryou #tr...</td>\n",
              "      <td>2019-04-02</td>\n",
              "      <td>{'id': '6675284356027649285', 'height': 1280, ...</td>\n",
              "      <td>{'id': '6674310597444600837', 'uniqueId': 'gho...</td>\n",
              "      <td>{'id': '6674937224368229125', 'title': 'origin...</td>\n",
              "      <td>[{'id': '42164', 'title': 'foryou', 'desc': ''...</td>\n",
              "      <td>{'diggCount': 1797, 'shareCount': 31, 'comment...</td>\n",
              "      <td>{'duetFromId': '0'}</td>\n",
              "      <td>False</td>\n",
              "      <td>False</td>\n",
              "      <td>[{'awemeId': '', 'start': 36, 'end': 43, 'hash...</td>\n",
              "      <td>False</td>\n",
              "      <td>False</td>\n",
              "      <td>False</td>\n",
              "      <td>0</td>\n",
              "      <td>False</td>\n",
              "      <td>False</td>\n",
              "      <td>False</td>\n",
              "      <td>{'followingCount': 317, 'followerCount': 25000...</td>\n",
              "      <td>False</td>\n",
              "      <td>False</td>\n",
              "      <td>True</td>\n",
              "      <td>True</td>\n",
              "      <td>False</td>\n",
              "      <td>NaN</td>\n",
              "      <td>NaN</td>\n",
              "      <td>NaN</td>\n",
              "      <td>1797</td>\n",
              "      <td>31</td>\n",
              "      <td>14</td>\n",
              "      <td>33400</td>\n",
              "    </tr>\n",
              "    <tr>\n",
              "      <th>468</th>\n",
              "      <td>6674956438307081216</td>\n",
              "      <td>New #art #challenge #drawing with a big stick ...</td>\n",
              "      <td>2019-04-01</td>\n",
              "      <td>{'id': '6674956438307081478', 'height': 1280, ...</td>\n",
              "      <td>{'id': '6674310597444600837', 'uniqueId': 'gho...</td>\n",
              "      <td>{'id': '242508348531822592', 'title': 'Bright ...</td>\n",
              "      <td>[{'id': '5261', 'title': 'art', 'desc': '', 'p...</td>\n",
              "      <td>{'diggCount': 3012, 'shareCount': 56, 'comment...</td>\n",
              "      <td>{'duetFromId': '0'}</td>\n",
              "      <td>False</td>\n",
              "      <td>False</td>\n",
              "      <td>[{'awemeId': '', 'start': 4, 'end': 8, 'hashta...</td>\n",
              "      <td>False</td>\n",
              "      <td>False</td>\n",
              "      <td>False</td>\n",
              "      <td>0</td>\n",
              "      <td>False</td>\n",
              "      <td>False</td>\n",
              "      <td>False</td>\n",
              "      <td>{'followingCount': 317, 'followerCount': 25000...</td>\n",
              "      <td>False</td>\n",
              "      <td>False</td>\n",
              "      <td>True</td>\n",
              "      <td>True</td>\n",
              "      <td>False</td>\n",
              "      <td>NaN</td>\n",
              "      <td>NaN</td>\n",
              "      <td>NaN</td>\n",
              "      <td>3012</td>\n",
              "      <td>56</td>\n",
              "      <td>28</td>\n",
              "      <td>41300</td>\n",
              "    </tr>\n",
              "    <tr>\n",
              "      <th>469</th>\n",
              "      <td>6674642238976297984</td>\n",
              "      <td>when u want people to notice ur new clothes #f...</td>\n",
              "      <td>2019-03-31</td>\n",
              "      <td>{'id': '6674642238976298246', 'height': 1280, ...</td>\n",
              "      <td>{'id': '6674310597444600837', 'uniqueId': 'gho...</td>\n",
              "      <td>{'id': '6674554320815508230', 'title': 'origin...</td>\n",
              "      <td>[{'id': '42164', 'title': 'foryou', 'desc': ''...</td>\n",
              "      <td>{'diggCount': 3449, 'shareCount': 100, 'commen...</td>\n",
              "      <td>{'duetFromId': '0'}</td>\n",
              "      <td>False</td>\n",
              "      <td>False</td>\n",
              "      <td>[{'awemeId': '', 'start': 44, 'end': 51, 'hash...</td>\n",
              "      <td>False</td>\n",
              "      <td>False</td>\n",
              "      <td>False</td>\n",
              "      <td>0</td>\n",
              "      <td>False</td>\n",
              "      <td>False</td>\n",
              "      <td>False</td>\n",
              "      <td>{'followingCount': 317, 'followerCount': 25000...</td>\n",
              "      <td>False</td>\n",
              "      <td>False</td>\n",
              "      <td>True</td>\n",
              "      <td>True</td>\n",
              "      <td>False</td>\n",
              "      <td>NaN</td>\n",
              "      <td>NaN</td>\n",
              "      <td>NaN</td>\n",
              "      <td>3449</td>\n",
              "      <td>100</td>\n",
              "      <td>75</td>\n",
              "      <td>46900</td>\n",
              "    </tr>\n",
              "  </tbody>\n",
              "</table>\n",
              "<p>470 rows × 32 columns</p>\n",
              "</div>"
            ],
            "text/plain": [
              "                      id  ...   plays\n",
              "0    6977519571653774336  ...  161800\n",
              "1    6977123858335714304  ...  581600\n",
              "2    6975316622785432576  ...  423800\n",
              "3    6974907371772480512  ...  676600\n",
              "4    6972693902243449856  ...  328200\n",
              "..                   ...  ...     ...\n",
              "465  6684028773500718080  ...   37400\n",
              "466  6681783516226653184  ...   56300\n",
              "467  6675284356027649024  ...   33400\n",
              "468  6674956438307081216  ...   41300\n",
              "469  6674642238976297984  ...   46900\n",
              "\n",
              "[470 rows x 32 columns]"
            ]
          },
          "metadata": {
            "tags": []
          },
          "execution_count": 4
        }
      ]
    },
    {
      "cell_type": "code",
      "metadata": {
        "id": "806TnkSR28Pb"
      },
      "source": [
        "likes_df = pd.DataFrame(tt_df.groupby('createTime')['likes'].mean())\n",
        "likes_df['count'] = tt_df.groupby('createTime').size().to_numpy()\n",
        "likes_df['shares'] = tt_df.groupby('createTime')['shares'].mean()\n",
        "likes_df['comments'] = tt_df.groupby('createTime')['comments'].mean()\n",
        "likes_df['plays'] = tt_df.groupby('createTime')['plays'].mean()\n",
        "likes_df = likes_df.reset_index()\n",
        "likes_df = likes_df.rename(columns={'createTime': 'ds', 'likes': 'y'})\n",
        "\n",
        "train_df, test_df = temporal_train_test_split(likes_df)"
      ],
      "execution_count": null,
      "outputs": []
    },
    {
      "cell_type": "code",
      "metadata": {
        "colab": {
          "base_uri": "https://localhost:8080/",
          "height": 417
        },
        "id": "je8b8c1tRhT0",
        "outputId": "08bd5292-90e7-4c13-e445-43c40d260765"
      },
      "source": [
        "test_df"
      ],
      "execution_count": null,
      "outputs": [
        {
          "output_type": "execute_result",
          "data": {
            "text/html": [
              "<div>\n",
              "<style scoped>\n",
              "    .dataframe tbody tr th:only-of-type {\n",
              "        vertical-align: middle;\n",
              "    }\n",
              "\n",
              "    .dataframe tbody tr th {\n",
              "        vertical-align: top;\n",
              "    }\n",
              "\n",
              "    .dataframe thead th {\n",
              "        text-align: right;\n",
              "    }\n",
              "</style>\n",
              "<table border=\"1\" class=\"dataframe\">\n",
              "  <thead>\n",
              "    <tr style=\"text-align: right;\">\n",
              "      <th></th>\n",
              "      <th>ds</th>\n",
              "      <th>y</th>\n",
              "      <th>count</th>\n",
              "      <th>shares</th>\n",
              "      <th>comments</th>\n",
              "      <th>plays</th>\n",
              "    </tr>\n",
              "  </thead>\n",
              "  <tbody>\n",
              "    <tr>\n",
              "      <th>315</th>\n",
              "      <td>2020-10-29</td>\n",
              "      <td>91800.0</td>\n",
              "      <td>1</td>\n",
              "      <td>1421.0</td>\n",
              "      <td>1673.0</td>\n",
              "      <td>445200.0</td>\n",
              "    </tr>\n",
              "    <tr>\n",
              "      <th>316</th>\n",
              "      <td>2020-10-31</td>\n",
              "      <td>463500.0</td>\n",
              "      <td>1</td>\n",
              "      <td>10200.0</td>\n",
              "      <td>2049.0</td>\n",
              "      <td>1500000.0</td>\n",
              "    </tr>\n",
              "    <tr>\n",
              "      <th>317</th>\n",
              "      <td>2020-11-01</td>\n",
              "      <td>232400.0</td>\n",
              "      <td>1</td>\n",
              "      <td>2514.0</td>\n",
              "      <td>1096.0</td>\n",
              "      <td>1100000.0</td>\n",
              "    </tr>\n",
              "    <tr>\n",
              "      <th>318</th>\n",
              "      <td>2020-11-03</td>\n",
              "      <td>107800.0</td>\n",
              "      <td>1</td>\n",
              "      <td>5520.0</td>\n",
              "      <td>723.0</td>\n",
              "      <td>526000.0</td>\n",
              "    </tr>\n",
              "    <tr>\n",
              "      <th>319</th>\n",
              "      <td>2020-11-04</td>\n",
              "      <td>99200.0</td>\n",
              "      <td>1</td>\n",
              "      <td>3702.0</td>\n",
              "      <td>1150.0</td>\n",
              "      <td>507500.0</td>\n",
              "    </tr>\n",
              "    <tr>\n",
              "      <th>...</th>\n",
              "      <td>...</td>\n",
              "      <td>...</td>\n",
              "      <td>...</td>\n",
              "      <td>...</td>\n",
              "      <td>...</td>\n",
              "      <td>...</td>\n",
              "    </tr>\n",
              "    <tr>\n",
              "      <th>415</th>\n",
              "      <td>2021-06-12</td>\n",
              "      <td>54100.0</td>\n",
              "      <td>1</td>\n",
              "      <td>439.0</td>\n",
              "      <td>965.0</td>\n",
              "      <td>328600.0</td>\n",
              "    </tr>\n",
              "    <tr>\n",
              "      <th>416</th>\n",
              "      <td>2021-06-17</td>\n",
              "      <td>185800.0</td>\n",
              "      <td>1</td>\n",
              "      <td>4236.0</td>\n",
              "      <td>1806.0</td>\n",
              "      <td>677200.0</td>\n",
              "    </tr>\n",
              "    <tr>\n",
              "      <th>417</th>\n",
              "      <td>2021-06-19</td>\n",
              "      <td>115200.0</td>\n",
              "      <td>1</td>\n",
              "      <td>3780.0</td>\n",
              "      <td>3605.0</td>\n",
              "      <td>424600.0</td>\n",
              "    </tr>\n",
              "    <tr>\n",
              "      <th>418</th>\n",
              "      <td>2021-06-23</td>\n",
              "      <td>152600.0</td>\n",
              "      <td>1</td>\n",
              "      <td>14900.0</td>\n",
              "      <td>4252.0</td>\n",
              "      <td>589800.0</td>\n",
              "    </tr>\n",
              "    <tr>\n",
              "      <th>419</th>\n",
              "      <td>2021-06-25</td>\n",
              "      <td>54400.0</td>\n",
              "      <td>1</td>\n",
              "      <td>517.0</td>\n",
              "      <td>679.0</td>\n",
              "      <td>172800.0</td>\n",
              "    </tr>\n",
              "  </tbody>\n",
              "</table>\n",
              "<p>105 rows × 6 columns</p>\n",
              "</div>"
            ],
            "text/plain": [
              "             ds         y  count   shares  comments      plays\n",
              "315  2020-10-29   91800.0      1   1421.0    1673.0   445200.0\n",
              "316  2020-10-31  463500.0      1  10200.0    2049.0  1500000.0\n",
              "317  2020-11-01  232400.0      1   2514.0    1096.0  1100000.0\n",
              "318  2020-11-03  107800.0      1   5520.0     723.0   526000.0\n",
              "319  2020-11-04   99200.0      1   3702.0    1150.0   507500.0\n",
              "..          ...       ...    ...      ...       ...        ...\n",
              "415  2021-06-12   54100.0      1    439.0     965.0   328600.0\n",
              "416  2021-06-17  185800.0      1   4236.0    1806.0   677200.0\n",
              "417  2021-06-19  115200.0      1   3780.0    3605.0   424600.0\n",
              "418  2021-06-23  152600.0      1  14900.0    4252.0   589800.0\n",
              "419  2021-06-25   54400.0      1    517.0     679.0   172800.0\n",
              "\n",
              "[105 rows x 6 columns]"
            ]
          },
          "metadata": {
            "tags": []
          },
          "execution_count": 5
        }
      ]
    },
    {
      "cell_type": "code",
      "metadata": {
        "colab": {
          "base_uri": "https://localhost:8080/"
        },
        "id": "HS3YjzpvSSk7",
        "outputId": "6383b6dd-a47e-4f8a-8fd0-baac3a8c385b"
      },
      "source": [
        "pd.Series(pd.date_range(start='2021-06-25', periods=100))"
      ],
      "execution_count": null,
      "outputs": [
        {
          "output_type": "execute_result",
          "data": {
            "text/plain": [
              "0    2021-06-25\n",
              "1    2021-06-26\n",
              "2    2021-06-27\n",
              "3    2021-06-28\n",
              "4    2021-06-29\n",
              "        ...    \n",
              "95   2021-09-28\n",
              "96   2021-09-29\n",
              "97   2021-09-30\n",
              "98   2021-10-01\n",
              "99   2021-10-02\n",
              "Length: 100, dtype: datetime64[ns]"
            ]
          },
          "metadata": {
            "tags": []
          },
          "execution_count": 11
        }
      ]
    },
    {
      "cell_type": "code",
      "metadata": {
        "id": "WS-qt8P8ofs-"
      },
      "source": [
        "comments_df = likes_df.copy()\n",
        "comments_df = comments_df.rename(columns={'y': 'likes', 'comments': 'y'})\n",
        "train_df, test_df = temporal_train_test_split(comments_df)"
      ],
      "execution_count": null,
      "outputs": []
    },
    {
      "cell_type": "code",
      "metadata": {
        "id": "FZ9iVoaEyrUV"
      },
      "source": [
        "shares_df = likes_df.copy()\n",
        "shares_df = shares_df.rename(columns={'y': 'likes', 'shares': 'y'})\n",
        "train_df, test_df = temporal_train_test_split(shares_df)"
      ],
      "execution_count": null,
      "outputs": []
    },
    {
      "cell_type": "code",
      "metadata": {
        "id": "cJmab7xFzg7h"
      },
      "source": [
        "plays_df = likes_df.copy()\n",
        "plays_df = plays_df.rename(columns={'y': 'likes', 'plays': 'y'})\n",
        "train_df, test_df = temporal_train_test_split(plays_df)"
      ],
      "execution_count": null,
      "outputs": []
    },
    {
      "cell_type": "code",
      "metadata": {
        "colab": {
          "base_uri": "https://localhost:8080/",
          "height": 282
        },
        "id": "B1oWid4Q3eZp",
        "outputId": "9a526d1a-fee6-408c-edab-bc421aa7f03d"
      },
      "source": [
        "# разница между тиктоками в днях\n",
        "delta = likes_df['ds'] - likes_df.shift()['ds']\n",
        "delta.dt.days.plot()"
      ],
      "execution_count": null,
      "outputs": [
        {
          "output_type": "execute_result",
          "data": {
            "text/plain": [
              "<AxesSubplot:>"
            ]
          },
          "metadata": {
            "tags": []
          },
          "execution_count": 154
        },
        {
          "output_type": "display_data",
          "data": {
            "image/png": "[encoded data removed]",
            "text/plain": [
              "<Figure size 432x288 with 1 Axes>"
            ]
          },
          "metadata": {
            "tags": [],
            "needs_background": "light"
          }
        }
      ]
    },
    {
      "cell_type": "code",
      "metadata": {
        "colab": {
          "base_uri": "https://localhost:8080/"
        },
        "id": "RNPROiollOhV",
        "outputId": "f251c05c-f0be-4648-e405-b7d51e405dbb"
      },
      "source": [
        "%%time\n",
        "\n",
        "model = Prophet()\n",
        "# model.add_regressor('count')\n",
        "# model.add_regressor('comments')\n",
        "# model.add_regressor('plays')\n",
        "# model.add_regressor('shares')\n",
        "model.fit(train_df)\n",
        "pred = model.predict(test_df)"
      ],
      "execution_count": null,
      "outputs": [
        {
          "output_type": "stream",
          "text": [
            "INFO:prophet:Disabling yearly seasonality. Run prophet with yearly_seasonality=True to override this.\n",
            "INFO:prophet:Disabling daily seasonality. Run prophet with daily_seasonality=True to override this.\n"
          ],
          "name": "stderr"
        },
        {
          "output_type": "stream",
          "text": [
            "CPU times: user 2.3 s, sys: 69.8 ms, total: 2.37 s\n",
            "Wall time: 2.38 s\n"
          ],
          "name": "stdout"
        }
      ]
    },
    {
      "cell_type": "code",
      "metadata": {
        "colab": {
          "base_uri": "https://localhost:8080/",
          "height": 441
        },
        "id": "12qrmiiBq4hm",
        "outputId": "4deca114-5d38-4de8-ce3d-6e93eac89f85"
      },
      "source": [
        "model.plot_components(pred);"
      ],
      "execution_count": null,
      "outputs": [
        {
          "output_type": "display_data",
          "data": {
            "image/png": "[encoded data removed]",
            "text/plain": [
              "<Figure size 648x432 with 2 Axes>"
            ]
          },
          "metadata": {
            "tags": []
          }
        }
      ]
    },
    {
      "cell_type": "code",
      "metadata": {
        "id": "79MBZALwmcm1"
      },
      "source": [
        "pred = pred[['ds', 'yhat', 'yhat_lower', 'yhat_upper']]\n",
        "pred = pred.rename(columns={'yhat': 'prediction', 'yhat_lower': 'prediction_5', 'yhat_upper': 'prediction_95'})"
      ],
      "execution_count": null,
      "outputs": []
    },
    {
      "cell_type": "code",
      "metadata": {
        "colab": {
          "base_uri": "https://localhost:8080/",
          "height": 605
        },
        "id": "d_Za6xQxVvCm",
        "outputId": "6a1760f8-d9dc-4891-b3a4-3549fd6090e5"
      },
      "source": [
        "pred"
      ],
      "execution_count": null,
      "outputs": [
        {
          "output_type": "execute_result",
          "data": {
            "text/html": [
              "<div>\n",
              "<style scoped>\n",
              "    .dataframe tbody tr th:only-of-type {\n",
              "        vertical-align: middle;\n",
              "    }\n",
              "\n",
              "    .dataframe tbody tr th {\n",
              "        vertical-align: top;\n",
              "    }\n",
              "\n",
              "    .dataframe thead th {\n",
              "        text-align: right;\n",
              "    }\n",
              "</style>\n",
              "<table border=\"1\" class=\"dataframe\">\n",
              "  <thead>\n",
              "    <tr style=\"text-align: right;\">\n",
              "      <th></th>\n",
              "      <th>ds</th>\n",
              "      <th>trend</th>\n",
              "      <th>yhat_lower</th>\n",
              "      <th>yhat_upper</th>\n",
              "      <th>trend_lower</th>\n",
              "      <th>trend_upper</th>\n",
              "      <th>additive_terms</th>\n",
              "      <th>additive_terms_lower</th>\n",
              "      <th>additive_terms_upper</th>\n",
              "      <th>weekly</th>\n",
              "      <th>weekly_lower</th>\n",
              "      <th>weekly_upper</th>\n",
              "      <th>multiplicative_terms</th>\n",
              "      <th>multiplicative_terms_lower</th>\n",
              "      <th>multiplicative_terms_upper</th>\n",
              "      <th>yhat</th>\n",
              "    </tr>\n",
              "  </thead>\n",
              "  <tbody>\n",
              "    <tr>\n",
              "      <th>0</th>\n",
              "      <td>2020-10-29</td>\n",
              "      <td>280471.992221</td>\n",
              "      <td>27693.482710</td>\n",
              "      <td>501383.791540</td>\n",
              "      <td>280471.992221</td>\n",
              "      <td>280471.992221</td>\n",
              "      <td>-21259.619586</td>\n",
              "      <td>-21259.619586</td>\n",
              "      <td>-21259.619586</td>\n",
              "      <td>-21259.619586</td>\n",
              "      <td>-21259.619586</td>\n",
              "      <td>-21259.619586</td>\n",
              "      <td>0.0</td>\n",
              "      <td>0.0</td>\n",
              "      <td>0.0</td>\n",
              "      <td>259212.372635</td>\n",
              "    </tr>\n",
              "    <tr>\n",
              "      <th>1</th>\n",
              "      <td>2020-10-31</td>\n",
              "      <td>282082.659970</td>\n",
              "      <td>87650.543966</td>\n",
              "      <td>563508.152815</td>\n",
              "      <td>282082.659970</td>\n",
              "      <td>282082.659970</td>\n",
              "      <td>45778.225789</td>\n",
              "      <td>45778.225789</td>\n",
              "      <td>45778.225789</td>\n",
              "      <td>45778.225789</td>\n",
              "      <td>45778.225789</td>\n",
              "      <td>45778.225789</td>\n",
              "      <td>0.0</td>\n",
              "      <td>0.0</td>\n",
              "      <td>0.0</td>\n",
              "      <td>327860.885759</td>\n",
              "    </tr>\n",
              "    <tr>\n",
              "      <th>2</th>\n",
              "      <td>2020-11-01</td>\n",
              "      <td>282887.993845</td>\n",
              "      <td>55188.531150</td>\n",
              "      <td>521118.277637</td>\n",
              "      <td>282887.993845</td>\n",
              "      <td>282887.993845</td>\n",
              "      <td>-7243.502690</td>\n",
              "      <td>-7243.502690</td>\n",
              "      <td>-7243.502690</td>\n",
              "      <td>-7243.502690</td>\n",
              "      <td>-7243.502690</td>\n",
              "      <td>-7243.502690</td>\n",
              "      <td>0.0</td>\n",
              "      <td>0.0</td>\n",
              "      <td>0.0</td>\n",
              "      <td>275644.491154</td>\n",
              "    </tr>\n",
              "    <tr>\n",
              "      <th>3</th>\n",
              "      <td>2020-11-03</td>\n",
              "      <td>284498.661594</td>\n",
              "      <td>41185.584467</td>\n",
              "      <td>512685.754037</td>\n",
              "      <td>284495.489803</td>\n",
              "      <td>284499.177226</td>\n",
              "      <td>-1306.193473</td>\n",
              "      <td>-1306.193473</td>\n",
              "      <td>-1306.193473</td>\n",
              "      <td>-1306.193473</td>\n",
              "      <td>-1306.193473</td>\n",
              "      <td>-1306.193473</td>\n",
              "      <td>0.0</td>\n",
              "      <td>0.0</td>\n",
              "      <td>0.0</td>\n",
              "      <td>283192.468121</td>\n",
              "    </tr>\n",
              "    <tr>\n",
              "      <th>4</th>\n",
              "      <td>2020-11-04</td>\n",
              "      <td>285303.995469</td>\n",
              "      <td>30134.112313</td>\n",
              "      <td>478894.022739</td>\n",
              "      <td>285294.696792</td>\n",
              "      <td>285307.243789</td>\n",
              "      <td>-33499.007913</td>\n",
              "      <td>-33499.007913</td>\n",
              "      <td>-33499.007913</td>\n",
              "      <td>-33499.007913</td>\n",
              "      <td>-33499.007913</td>\n",
              "      <td>-33499.007913</td>\n",
              "      <td>0.0</td>\n",
              "      <td>0.0</td>\n",
              "      <td>0.0</td>\n",
              "      <td>251804.987556</td>\n",
              "    </tr>\n",
              "    <tr>\n",
              "      <th>...</th>\n",
              "      <td>...</td>\n",
              "      <td>...</td>\n",
              "      <td>...</td>\n",
              "      <td>...</td>\n",
              "      <td>...</td>\n",
              "      <td>...</td>\n",
              "      <td>...</td>\n",
              "      <td>...</td>\n",
              "      <td>...</td>\n",
              "      <td>...</td>\n",
              "      <td>...</td>\n",
              "      <td>...</td>\n",
              "      <td>...</td>\n",
              "      <td>...</td>\n",
              "      <td>...</td>\n",
              "      <td>...</td>\n",
              "    </tr>\n",
              "    <tr>\n",
              "      <th>100</th>\n",
              "      <td>2021-06-12</td>\n",
              "      <td>462477.447903</td>\n",
              "      <td>282507.402140</td>\n",
              "      <td>734363.331815</td>\n",
              "      <td>451041.454692</td>\n",
              "      <td>473306.670942</td>\n",
              "      <td>45778.225789</td>\n",
              "      <td>45778.225789</td>\n",
              "      <td>45778.225789</td>\n",
              "      <td>45778.225789</td>\n",
              "      <td>45778.225789</td>\n",
              "      <td>45778.225789</td>\n",
              "      <td>0.0</td>\n",
              "      <td>0.0</td>\n",
              "      <td>0.0</td>\n",
              "      <td>508255.673692</td>\n",
              "    </tr>\n",
              "    <tr>\n",
              "      <th>101</th>\n",
              "      <td>2021-06-17</td>\n",
              "      <td>466504.117276</td>\n",
              "      <td>203001.821745</td>\n",
              "      <td>676845.107996</td>\n",
              "      <td>454647.754878</td>\n",
              "      <td>477794.884047</td>\n",
              "      <td>-21259.619586</td>\n",
              "      <td>-21259.619586</td>\n",
              "      <td>-21259.619586</td>\n",
              "      <td>-21259.619586</td>\n",
              "      <td>-21259.619586</td>\n",
              "      <td>-21259.619586</td>\n",
              "      <td>0.0</td>\n",
              "      <td>0.0</td>\n",
              "      <td>0.0</td>\n",
              "      <td>445244.497690</td>\n",
              "    </tr>\n",
              "    <tr>\n",
              "      <th>102</th>\n",
              "      <td>2021-06-19</td>\n",
              "      <td>468114.785026</td>\n",
              "      <td>279120.796969</td>\n",
              "      <td>733768.618808</td>\n",
              "      <td>456051.409766</td>\n",
              "      <td>479624.107554</td>\n",
              "      <td>45778.225789</td>\n",
              "      <td>45778.225789</td>\n",
              "      <td>45778.225789</td>\n",
              "      <td>45778.225789</td>\n",
              "      <td>45778.225789</td>\n",
              "      <td>45778.225789</td>\n",
              "      <td>0.0</td>\n",
              "      <td>0.0</td>\n",
              "      <td>0.0</td>\n",
              "      <td>513893.010815</td>\n",
              "    </tr>\n",
              "    <tr>\n",
              "      <th>103</th>\n",
              "      <td>2021-06-23</td>\n",
              "      <td>471336.120525</td>\n",
              "      <td>223497.184864</td>\n",
              "      <td>691686.792625</td>\n",
              "      <td>458851.167506</td>\n",
              "      <td>483103.618859</td>\n",
              "      <td>-33499.007913</td>\n",
              "      <td>-33499.007913</td>\n",
              "      <td>-33499.007913</td>\n",
              "      <td>-33499.007913</td>\n",
              "      <td>-33499.007913</td>\n",
              "      <td>-33499.007913</td>\n",
              "      <td>0.0</td>\n",
              "      <td>0.0</td>\n",
              "      <td>0.0</td>\n",
              "      <td>437837.112612</td>\n",
              "    </tr>\n",
              "    <tr>\n",
              "      <th>104</th>\n",
              "      <td>2021-06-25</td>\n",
              "      <td>472946.788274</td>\n",
              "      <td>247900.495184</td>\n",
              "      <td>686412.078931</td>\n",
              "      <td>460254.512783</td>\n",
              "      <td>484848.120477</td>\n",
              "      <td>4495.950037</td>\n",
              "      <td>4495.950037</td>\n",
              "      <td>4495.950037</td>\n",
              "      <td>4495.950037</td>\n",
              "      <td>4495.950037</td>\n",
              "      <td>4495.950037</td>\n",
              "      <td>0.0</td>\n",
              "      <td>0.0</td>\n",
              "      <td>0.0</td>\n",
              "      <td>477442.738311</td>\n",
              "    </tr>\n",
              "  </tbody>\n",
              "</table>\n",
              "<p>105 rows × 16 columns</p>\n",
              "</div>"
            ],
            "text/plain": [
              "            ds          trend  ...  multiplicative_terms_upper           yhat\n",
              "0   2020-10-29  280471.992221  ...                         0.0  259212.372635\n",
              "1   2020-10-31  282082.659970  ...                         0.0  327860.885759\n",
              "2   2020-11-01  282887.993845  ...                         0.0  275644.491154\n",
              "3   2020-11-03  284498.661594  ...                         0.0  283192.468121\n",
              "4   2020-11-04  285303.995469  ...                         0.0  251804.987556\n",
              "..         ...            ...  ...                         ...            ...\n",
              "100 2021-06-12  462477.447903  ...                         0.0  508255.673692\n",
              "101 2021-06-17  466504.117276  ...                         0.0  445244.497690\n",
              "102 2021-06-19  468114.785026  ...                         0.0  513893.010815\n",
              "103 2021-06-23  471336.120525  ...                         0.0  437837.112612\n",
              "104 2021-06-25  472946.788274  ...                         0.0  477442.738311\n",
              "\n",
              "[105 rows x 16 columns]"
            ]
          },
          "metadata": {
            "tags": []
          },
          "execution_count": 44
        }
      ]
    },
    {
      "cell_type": "code",
      "metadata": {
        "id": "_GEUAkUh0unX"
      },
      "source": [
        "pred.index += len(train_df)\n",
        "comments_pred = pred['prediction']"
      ],
      "execution_count": null,
      "outputs": []
    },
    {
      "cell_type": "code",
      "metadata": {
        "colab": {
          "base_uri": "https://localhost:8080/"
        },
        "id": "R3c1vqiA0Zjm",
        "outputId": "edf94d31-7064-4a2d-99ca-e8f966e83a8f"
      },
      "source": [
        "test_df['shares'] = comments_pred"
      ],
      "execution_count": null,
      "outputs": [
        {
          "output_type": "stream",
          "text": [
            "/usr/local/lib/python3.7/dist-packages/ipykernel_launcher.py:1: SettingWithCopyWarning:\n",
            "\n",
            "\n",
            "A value is trying to be set on a copy of a slice from a DataFrame.\n",
            "Try using .loc[row_indexer,col_indexer] = value instead\n",
            "\n",
            "See the caveats in the documentation: https://pandas.pydata.org/pandas-docs/stable/user_guide/indexing.html#returning-a-view-versus-a-copy\n",
            "\n"
          ],
          "name": "stderr"
        }
      ]
    },
    {
      "cell_type": "code",
      "metadata": {
        "colab": {
          "base_uri": "https://localhost:8080/",
          "height": 511
        },
        "id": "m8zM1vHElrGd",
        "outputId": "d330bc41-b994-44df-a1a2-4b942d0cf154"
      },
      "source": [
        "plot_predicted_data(\n",
        "    training_actual_df=train_df, predicted_df=pred,\n",
        "    date_col='ds', actual_col='y',\n",
        "    test_actual_df=test_df,\n",
        "    insample_line=True\n",
        ")\n",
        "print(mean_absolute_error(pred['prediction'], test_df['y']))"
      ],
      "execution_count": null,
      "outputs": [
        {
          "output_type": "display_data",
          "data": {
            "image/png": "[encoded data removed]",
            "text/plain": [
              "<Figure size 1152x576 with 1 Axes>"
            ]
          },
          "metadata": {
            "tags": []
          }
        },
        {
          "output_type": "stream",
          "text": [
            "266010.301140382\n"
          ],
          "name": "stdout"
        }
      ]
    },
    {
      "cell_type": "code",
      "metadata": {
        "colab": {
          "base_uri": "https://localhost:8080/",
          "height": 417
        },
        "id": "vvqbWcjkUYqt",
        "outputId": "d95e8bfa-ae93-4020-d136-ec33e55366ce"
      },
      "source": [
        "train_df"
      ],
      "execution_count": null,
      "outputs": [
        {
          "output_type": "execute_result",
          "data": {
            "text/html": [
              "<div>\n",
              "<style scoped>\n",
              "    .dataframe tbody tr th:only-of-type {\n",
              "        vertical-align: middle;\n",
              "    }\n",
              "\n",
              "    .dataframe tbody tr th {\n",
              "        vertical-align: top;\n",
              "    }\n",
              "\n",
              "    .dataframe thead th {\n",
              "        text-align: right;\n",
              "    }\n",
              "</style>\n",
              "<table border=\"1\" class=\"dataframe\">\n",
              "  <thead>\n",
              "    <tr style=\"text-align: right;\">\n",
              "      <th></th>\n",
              "      <th>ds</th>\n",
              "      <th>y</th>\n",
              "      <th>count</th>\n",
              "      <th>shares</th>\n",
              "      <th>comments</th>\n",
              "      <th>plays</th>\n",
              "    </tr>\n",
              "  </thead>\n",
              "  <tbody>\n",
              "    <tr>\n",
              "      <th>0</th>\n",
              "      <td>2019-03-31</td>\n",
              "      <td>3449.0</td>\n",
              "      <td>1</td>\n",
              "      <td>100.0</td>\n",
              "      <td>75.0</td>\n",
              "      <td>46900.0</td>\n",
              "    </tr>\n",
              "    <tr>\n",
              "      <th>1</th>\n",
              "      <td>2019-04-01</td>\n",
              "      <td>3012.0</td>\n",
              "      <td>1</td>\n",
              "      <td>56.0</td>\n",
              "      <td>28.0</td>\n",
              "      <td>41300.0</td>\n",
              "    </tr>\n",
              "    <tr>\n",
              "      <th>2</th>\n",
              "      <td>2019-04-02</td>\n",
              "      <td>1797.0</td>\n",
              "      <td>1</td>\n",
              "      <td>31.0</td>\n",
              "      <td>14.0</td>\n",
              "      <td>33400.0</td>\n",
              "    </tr>\n",
              "    <tr>\n",
              "      <th>3</th>\n",
              "      <td>2019-04-20</td>\n",
              "      <td>5772.0</td>\n",
              "      <td>1</td>\n",
              "      <td>387.0</td>\n",
              "      <td>22.0</td>\n",
              "      <td>56300.0</td>\n",
              "    </tr>\n",
              "    <tr>\n",
              "      <th>4</th>\n",
              "      <td>2019-04-26</td>\n",
              "      <td>2423.0</td>\n",
              "      <td>1</td>\n",
              "      <td>26.0</td>\n",
              "      <td>13.0</td>\n",
              "      <td>37400.0</td>\n",
              "    </tr>\n",
              "    <tr>\n",
              "      <th>...</th>\n",
              "      <td>...</td>\n",
              "      <td>...</td>\n",
              "      <td>...</td>\n",
              "      <td>...</td>\n",
              "      <td>...</td>\n",
              "      <td>...</td>\n",
              "    </tr>\n",
              "    <tr>\n",
              "      <th>310</th>\n",
              "      <td>2020-10-22</td>\n",
              "      <td>276800.0</td>\n",
              "      <td>1</td>\n",
              "      <td>4326.0</td>\n",
              "      <td>1706.0</td>\n",
              "      <td>1000000.0</td>\n",
              "    </tr>\n",
              "    <tr>\n",
              "      <th>311</th>\n",
              "      <td>2020-10-24</td>\n",
              "      <td>115600.0</td>\n",
              "      <td>1</td>\n",
              "      <td>1525.0</td>\n",
              "      <td>650.0</td>\n",
              "      <td>562200.0</td>\n",
              "    </tr>\n",
              "    <tr>\n",
              "      <th>312</th>\n",
              "      <td>2020-10-25</td>\n",
              "      <td>70800.0</td>\n",
              "      <td>1</td>\n",
              "      <td>911.0</td>\n",
              "      <td>354.0</td>\n",
              "      <td>390200.0</td>\n",
              "    </tr>\n",
              "    <tr>\n",
              "      <th>313</th>\n",
              "      <td>2020-10-27</td>\n",
              "      <td>159200.0</td>\n",
              "      <td>1</td>\n",
              "      <td>6892.0</td>\n",
              "      <td>3844.0</td>\n",
              "      <td>662500.0</td>\n",
              "    </tr>\n",
              "    <tr>\n",
              "      <th>314</th>\n",
              "      <td>2020-10-28</td>\n",
              "      <td>448500.0</td>\n",
              "      <td>1</td>\n",
              "      <td>36200.0</td>\n",
              "      <td>4690.0</td>\n",
              "      <td>1900000.0</td>\n",
              "    </tr>\n",
              "  </tbody>\n",
              "</table>\n",
              "<p>315 rows × 6 columns</p>\n",
              "</div>"
            ],
            "text/plain": [
              "             ds         y  count   shares  comments      plays\n",
              "0    2019-03-31    3449.0      1    100.0      75.0    46900.0\n",
              "1    2019-04-01    3012.0      1     56.0      28.0    41300.0\n",
              "2    2019-04-02    1797.0      1     31.0      14.0    33400.0\n",
              "3    2019-04-20    5772.0      1    387.0      22.0    56300.0\n",
              "4    2019-04-26    2423.0      1     26.0      13.0    37400.0\n",
              "..          ...       ...    ...      ...       ...        ...\n",
              "310  2020-10-22  276800.0      1   4326.0    1706.0  1000000.0\n",
              "311  2020-10-24  115600.0      1   1525.0     650.0   562200.0\n",
              "312  2020-10-25   70800.0      1    911.0     354.0   390200.0\n",
              "313  2020-10-27  159200.0      1   6892.0    3844.0   662500.0\n",
              "314  2020-10-28  448500.0      1  36200.0    4690.0  1900000.0\n",
              "\n",
              "[315 rows x 6 columns]"
            ]
          },
          "metadata": {
            "tags": []
          },
          "execution_count": 37
        }
      ]
    },
    {
      "cell_type": "code",
      "metadata": {
        "colab": {
          "base_uri": "https://localhost:8080/"
        },
        "id": "KElTru1wUkKP",
        "outputId": "9d496f23-14e9-481c-f3bf-07dc56282d88"
      },
      "source": [
        "pd.Timedelta(days=1)"
      ],
      "execution_count": null,
      "outputs": [
        {
          "output_type": "execute_result",
          "data": {
            "text/plain": [
              "Timedelta('1 days 00:00:00')"
            ]
          },
          "metadata": {
            "tags": []
          },
          "execution_count": 40
        }
      ]
    },
    {
      "cell_type": "code",
      "metadata": {
        "colab": {
          "base_uri": "https://localhost:8080/"
        },
        "id": "qFgUCGBdTOJq",
        "outputId": "f955ca4b-bc36-44e7-fe76-4de7722870ab"
      },
      "source": [
        "train_df.iloc[-1]['ds'] + datetime.timedelta(days=1)"
      ],
      "execution_count": null,
      "outputs": [
        {
          "output_type": "execute_result",
          "data": {
            "text/plain": [
              "datetime.date(2020, 10, 29)"
            ]
          },
          "metadata": {
            "tags": []
          },
          "execution_count": 36
        }
      ]
    },
    {
      "cell_type": "code",
      "metadata": {
        "colab": {
          "base_uri": "https://localhost:8080/",
          "height": 511
        },
        "id": "LzgBWdxMS7vZ",
        "outputId": "e99e33ee-0899-41c3-bae9-8ae1cd4af525"
      },
      "source": [
        "plot_predicted_data(\n",
        "    training_actual_df=train_df, predicted_df=pred,\n",
        "    date_col='ds', actual_col='y',\n",
        "    insample_line=True\n",
        ")"
      ],
      "execution_count": null,
      "outputs": [
        {
          "output_type": "display_data",
          "data": {
            "image/png": "[encoded data removed]",
            "text/plain": [
              "<Figure size 1152x576 with 1 Axes>"
            ]
          },
          "metadata": {
            "tags": []
          }
        },
        {
          "output_type": "execute_result",
          "data": {
            "text/plain": [
              "<AxesSubplot:>"
            ]
          },
          "metadata": {
            "tags": []
          },
          "execution_count": 21
        }
      ]
    },
    {
      "cell_type": "code",
      "metadata": {
        "id": "EkJP8-prs_SY"
      },
      "source": [
        "pred_values = pred['prediction']"
      ],
      "execution_count": null,
      "outputs": []
    },
    {
      "cell_type": "code",
      "metadata": {
        "id": "8MQUby9jtSWR"
      },
      "source": [
        "pred_values.index = pd.Int64Index(pred_values.index)\n",
        "pred_values.index += len(train_df)"
      ],
      "execution_count": null,
      "outputs": []
    },
    {
      "cell_type": "code",
      "metadata": {
        "colab": {
          "base_uri": "https://localhost:8080/",
          "height": 293
        },
        "id": "qHYW3rnqoZ1O",
        "outputId": "3b3918ea-5d69-4ded-ce21-c358ea3508f3"
      },
      "source": [
        "plot_series(train_df['y'], test_df['y'], pred_values)"
      ],
      "execution_count": null,
      "outputs": [
        {
          "output_type": "execute_result",
          "data": {
            "text/plain": [
              "(<Figure size 1152x288 with 1 Axes>, <AxesSubplot:ylabel='y'>)"
            ]
          },
          "metadata": {
            "tags": []
          },
          "execution_count": 30
        },
        {
          "output_type": "display_data",
          "data": {
            "image/png": "[encoded data removed]",
            "text/plain": [
              "<Figure size 1152x288 with 1 Axes>"
            ]
          },
          "metadata": {
            "tags": [],
            "needs_background": "light"
          }
        }
      ]
    },
    {
      "cell_type": "code",
      "metadata": {
        "id": "SOL9WVIBt78O"
      },
      "source": [
        ""
      ],
      "execution_count": null,
      "outputs": []
    }
  ]
}