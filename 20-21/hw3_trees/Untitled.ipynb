{
 "cells": [
  {
   "cell_type": "markdown",
   "metadata": {},
   "source": [
    "Арцишевский Антон, БКЛ 181"
   ]
  },
  {
   "cell_type": "markdown",
   "metadata": {},
   "source": [
    "### Сразу сделаю функции сортировки"
   ]
  },
  {
   "cell_type": "code",
   "execution_count": 1,
   "metadata": {},
   "outputs": [],
   "source": [
    "def bubble_sort(nums):\n",
    "    swapped = True\n",
    "    while swapped:\n",
    "        swapped = False\n",
    "        for i in range(len(nums) - 1):\n",
    "            if nums[i] > nums[i + 1]:\n",
    "                nums[i], nums[i + 1] = nums[i + 1], nums[i]\n",
    "                swapped = True\n"
   ]
  },
  {
   "cell_type": "code",
   "execution_count": 2,
   "metadata": {},
   "outputs": [],
   "source": [
    "def partition(nums, low, high):\n",
    "    pivot = nums[(low + high) // 2]\n",
    "    i = low - 1\n",
    "    j = high + 1\n",
    "    while True:\n",
    "        i += 1\n",
    "        while nums[i] < pivot:\n",
    "            i += 1\n",
    "\n",
    "        j -= 1\n",
    "        while nums[j] > pivot:\n",
    "            j -= 1\n",
    "\n",
    "        if i >= j:\n",
    "            return j\n",
    "\n",
    "        nums[i], nums[j] = nums[j], nums[i]\n",
    "\n",
    "\n",
    "def quick_sort(nums):\n",
    "    def _quick_sort(items, low, high):\n",
    "        if low < high:\n",
    "            split_index = partition(items, low, high)\n",
    "            _quick_sort(items, low, split_index)\n",
    "            _quick_sort(items, split_index + 1, high)\n",
    "\n",
    "    _quick_sort(nums, 0, len(nums) - 1)\n"
   ]
  },
  {
   "cell_type": "markdown",
   "metadata": {},
   "source": [
    "### Перегружу операторы"
   ]
  },
  {
   "cell_type": "code",
   "execution_count": 249,
   "metadata": {},
   "outputs": [],
   "source": [
    "import random\n",
    "from pprint import pprint\n",
    "from dataclasses import dataclass\n",
    "import itertools\n",
    "from collections import Counter\n",
    "logs = []\n",
    "\n",
    "\n",
    "@dataclass(eq=False, repr=False, order=False)\n",
    "class ChangedNum(int):\n",
    "    num: int  # пеп дурак, не знает что иначе нельзя\n",
    "    num_id = None\n",
    "\n",
    "    def __lt__(self, other):\n",
    "        comp = self.num < other.num\n",
    "        log = (self.num_id, '<', other.num_id, comp)\n",
    "        logs.append(log)\n",
    "        return comp\n",
    "\n",
    "    def __gt__(self, other):\n",
    "        comp = self.num > other.num\n",
    "        log = (self.num_id, '>', other.num_id, comp)\n",
    "        logs.append(log)\n",
    "        return comp\n",
    "\n",
    "    def __eq__(self, other):\n",
    "        comp = self.num == other.num\n",
    "        log = (self.num_id, '=', other.num_id, comp)\n",
    "        logs.append(log)\n",
    "        return comp\n"
   ]
  },
  {
   "cell_type": "markdown",
   "metadata": {},
   "source": [
    "### Функция составления логов <br>\n",
    "Я перевожу чиселки в новый класс"
   ]
  },
  {
   "cell_type": "code",
   "execution_count": 250,
   "metadata": {},
   "outputs": [],
   "source": [
    "def print_logs(func, seq):\n",
    "    global logs\n",
    "    all_logs = []\n",
    "    if seq == 3:\n",
    "        seqs = itertools.permutations([1, 2, 3])\n",
    "    if seq == 4:\n",
    "        seqs = itertools.permutations([1, 2, 3, 4])\n",
    "    if seq == 5:\n",
    "        seqs = itertools.permutations([1, 2, 3, 4, 5])\n",
    "\n",
    "    st_list = []  # на случай, если нам понадобится отсоритрованный список\n",
    "    mod_list = []  # потому что sorted не оч работает с мод. числами\n",
    "    for seq in seqs:\n",
    "        sl = []\n",
    "        ml = []\n",
    "        for number in range(len(seq)):\n",
    "            sl.append(seq[number])\n",
    "            n = ChangedNum(seq[number])\n",
    "            # может можно и в одну стр очку\n",
    "            n.num_id = number\n",
    "            ml.append(n)\n",
    "        st_list.append(sl)\n",
    "        mod_list.append(ml)\n",
    "\n",
    "    for l in mod_list:\n",
    "        func(l)\n",
    "        all_logs.append(logs)\n",
    "        logs = []\n",
    "\n",
    "    # for l in st_list: это чтобы печатать отсорт. список\n",
    "    #    if func == sorted: но это в условии не просят\n",
    "    #        print(func(l))\n",
    "    #    else:\n",
    "    #        func(l)\n",
    "    #        print(l)\n",
    "    return all_logs\n"
   ]
  },
  {
   "cell_type": "markdown",
   "metadata": {},
   "source": [
    "### Пример работы функции"
   ]
  },
  {
   "cell_type": "code",
   "execution_count": 345,
   "metadata": {},
   "outputs": [],
   "source": [
    "result = print_logs(sorted, 3)\n",
    "# pprint(result)\n"
   ]
  },
  {
   "cell_type": "code",
   "execution_count": 360,
   "metadata": {},
   "outputs": [],
   "source": [
    "gr = []\n",
    "for i in result:\n",
    "    x = 0\n",
    "    if i[0][3] == False:\n",
    "        color = 'red2'\n",
    "        gr.append('d%s -> d%s [label=\"%s\", color=\"%s\"] ;'\n",
    "                   % (x, x + 10, len(result)//2, color))\n",
    "        gr.append('d%s [label=<el<SUB>%s</SUB> &lt; el<SUB>%s</SUB> ?>]'\n",
    "                   % (x, i[0][0]+1, i[0][2]+1))\n",
    "        \n",
    "        if i[1][3] == False:\n",
    "            x = 10\n",
    "            gr.append('d%s -> done%s [label=\"1\", color=\"black\", arrowhead=none]' % (x, x))\n",
    "            gr.append('done%s [label=done]' % x)\n",
    "        \n",
    "        else:\n",
    "            x = 10\n",
    "            color = 'green4'\n",
    "            gr.append('d%s -> d%s [label=\"%s\", color=\"%s\"] ;'\n",
    "                       % (x, x + 12, len(result)//2, color))\n",
    "            gr.append('d%s [label=<el<SUB>%s</SUB> &lt; el<SUB>%s</SUB> ?>]'\n",
    "                       % (x, i[1][0]+1, i[1][2]+1)) \n",
    "        \n",
    "#    else:\n",
    "#        color = 'green4'\n",
    "#        gr.append('d%s -> d%s [label=\"%s\", color=\"%s\"] ;'\n",
    "#                   % (x, x + 11, len(result)//2, color))\n",
    "#        gr.append('d%s [label=<el<SUB>%s</SUB> &lt; el<SUB>%s</SUB> ?>]'\n",
    "#                   % (x, i[0][0]+1, i[0][2]+1))\n",
    "    \n",
    "\n",
    "\n",
    "#    else:\n",
    "#        x = 10\n",
    "#        color = 'green4'\n",
    "#        gr.append('d%s -> d%s [label=\"%s\", color=\"%s\"] ;'\n",
    "#                   % (x, x + 11, len(result)//2, color))\n",
    "#        gr.append('d%s [label=<el<SUB>%s</SUB> &lt; el<SUB>%s</SUB> ?>]'\n",
    "#                   % (x, i[1][0]+1, i[1][2]+1))\n",
    "    \n",
    "#    try:\n",
    "#       if i[2][3] == False:\n",
    "#            x = 20\n",
    "#            color = 'red2'\n",
    "#            gr.append('d%s -> d%s [label=\"%s\", color=\"%s\"] ;'\n",
    "#                       % (x, x + 10, len(result)//2, color))\n",
    "#            gr.append('d%s [label=<el<SUB>%s</SUB> &lt; el<SUB>%s</SUB> ?>]'\n",
    "#                       % (x, i[2][0]+1, i[2][2]+1))\n",
    "#        else:\n",
    "#            x = 20\n",
    "#            color = 'green4'\n",
    "#            gr.append('d%s -> d%s [label=\"%s\", color=\"%s\"] ;'\n",
    "#                       % (x, x + 11, len(result)//2, color))\n",
    "#            gr.append('d%s [label=<el<SUB>%s</SUB> &lt; el<SUB>%s</SUB> ?>]'\n",
    "#                       % (x, i[2][0]+1, i[2][2]+1))\n",
    "#    except:    \n",
    "#        pass"
   ]
  },
  {
   "cell_type": "code",
   "execution_count": 361,
   "metadata": {},
   "outputs": [
    {
     "name": "stdout",
     "output_type": "stream",
     "text": [
      "d0 -> d10 [label=\"3\", color=\"red2\"] ;\n",
      "d0 [label=<el<SUB>2</SUB> &lt; el<SUB>1</SUB> ?>]\n",
      "d10 -> done10 [label=\"1\", color=\"black\", arrowhead=none]\n",
      "done10 [label=done]\n",
      "d0 -> d10 [label=\"3\", color=\"red2\"] ;\n",
      "d0 [label=<el<SUB>2</SUB> &lt; el<SUB>1</SUB> ?>]\n",
      "d10 -> d22 [label=\"3\", color=\"green4\"] ;\n",
      "d10 [label=<el<SUB>3</SUB> &lt; el<SUB>2</SUB> ?>]\n",
      "d0 -> d10 [label=\"3\", color=\"red2\"] ;\n",
      "d0 [label=<el<SUB>2</SUB> &lt; el<SUB>1</SUB> ?>]\n",
      "d10 -> d22 [label=\"3\", color=\"green4\"] ;\n",
      "d10 [label=<el<SUB>3</SUB> &lt; el<SUB>2</SUB> ?>]\n"
     ]
    }
   ],
   "source": [
    "print('\\n'.join(gr))"
   ]
  },
  {
   "cell_type": "code",
   "execution_count": 313,
   "metadata": {},
   "outputs": [
    {
     "name": "stdout",
     "output_type": "stream",
     "text": [
      "[(1, '<', 0, False), (2, '<', 1, False)]\n",
      "[(1, '<', 0, False), (2, '<', 1, True), (2, '<', 1, True), (2, '<', 0, False)]\n",
      "[(1, '<', 0, True), (2, '<', 1, False), (2, '<', 0, False)]\n",
      "[(1, '<', 0, False), (2, '<', 1, True), (2, '<', 1, True), (2, '<', 0, True)]\n",
      "[(1, '<', 0, True), (2, '<', 1, False), (2, '<', 0, True), (2, '<', 1, False)]\n",
      "[(1, '<', 0, True), (2, '<', 1, True)]\n"
     ]
    }
   ],
   "source": [
    "    if i[1][3] == False:\n",
    "        x = 10\n",
    "        color = 'red2'\n",
    "        gr.append('d%s -> d%s [label=\"%s\", color=\"%s\"] ;'\n",
    "                   % (x, x + 10, len(result)//3, color))\n",
    "        gr.append('d%s [label=<el<SUB>%s</SUB> &lt; el<SUB>%s</SUB> ?>]'\n",
    "                   % (x, i[1][0], i[1][2]))\n",
    "\n",
    "    else:\n",
    "        x = 10\n",
    "        color = 'green4'\n",
    "        gr.append('d%s -> d%s [label=\"%s\", color=\"%s\"] ;'\n",
    "                   % (x, x + 11, len(result)//2, color))\n",
    "        gr.append('d%s [label=<el<SUB>%s</SUB> &lt; el<SUB>%s</SUB> ?>]'\n",
    "                   % (x, i[1][0], i[1][2]))\n",
    "    "
   ]
  },
  {
   "cell_type": "code",
   "execution_count": null,
   "metadata": {},
   "outputs": [],
   "source": []
  },
  {
   "cell_type": "markdown",
   "metadata": {},
   "source": [
    "### Строим дерево"
   ]
  },
  {
   "cell_type": "markdown",
   "metadata": {},
   "source": [
    "Я попытался зарандомить некоторые элементы построения дерева.<p>\n",
    "Можно было бы ещё, но кмк хватит)"
   ]
  },
  {
   "cell_type": "code",
   "execution_count": 278,
   "metadata": {},
   "outputs": [],
   "source": [
    "def random_graph():\n",
    "    graphic = \"\"\"\"\"\"\n",
    "    lines_1 = ['d0 -> d11 [label=\"%s\", color=\"%s\"] ; \\n'\n",
    "               % (random.randint(0, 6), random.choice(('red2', 'green4'))),\n",
    "               'd0 -> d12 [label=\"%s\", color=\"%s\"] ; \\n'\n",
    "               % (random.randint(0, 6), random.choice(('red2', 'green4'))),\n",
    "               'd0 -> d13 [label=\"%s\", color=\"%s\"] ; \\n'\n",
    "               % (random.randint(0, 6), random.choice(('red2', 'green4')))]\n",
    "\n",
    "    lines_2 = ['d11 -> d21 [label=\"%s\", color=\"red2\"] ; \\n'\n",
    "               % random.randint(0, 6),\n",
    "               'd11 -> d22 [label=\"%s\", color=\"red2\"] ; \\n'\n",
    "               % random.randint(0, 6),\n",
    "               'd12 -> d23 [label=\"%s\", color=\"red2\"] ; \\n'\n",
    "               % random.randint(0, 6),\n",
    "               'd12 -> d24 [label=\"%s\", color=\"red2\"] ; \\n'\n",
    "               % random.randint(0, 6),\n",
    "               'd13 -> d25 [label=\"%s\", color=\"red2\"] ; \\n'\n",
    "               % random.randint(0, 6),\n",
    "               'd13 -> d26 [label=\"%s\", color=\"red2\"] ; \\n'\n",
    "               % random.randint(0, 6)]\n",
    "\n",
    "    lines_3 = ['d21 -> done1 [label=\"1\", color=\"%s\"] ; \\n'\n",
    "               % random.choice(('red2', 'green4')),\n",
    "               'd22 -> done2 [label=\"1\", color=\"%s\"] ; \\n'\n",
    "               % random.choice(('red2', 'green4')),\n",
    "               'd23 -> done3 [label=\"1\", color=\"%s\"] ; \\n'\n",
    "               % random.choice(('red2', 'green4')),\n",
    "               'd24 -> done4 [label=\"1\", color=\"%s\"] ; \\n'\n",
    "               % random.choice(('red2', 'green4')),\n",
    "               'd25 -> done5 [label=\"1\", color=\"%s\"] ; \\n'\n",
    "               % random.choice(('red2', 'green4')),\n",
    "               'd26 -> done6 [label=\"1\", color=\"%s\"] ; \\n'\n",
    "               % random.choice(('red2', 'green4'))]\n",
    "\n",
    "    names = ['d0 [label=<el<SUB>%s</SUB> &lt; el<SUB>%s</SUB> ?>] \\n'\n",
    "             % (random.randint(0, 3), random.randint(0, 3)),\n",
    "             'd11 [label=<el<SUB>%s</SUB> &lt; el<SUB>%s</SUB> ?>] \\n'\n",
    "             % (random.randint(0, 3), random.randint(0, 3)),\n",
    "             'd12 [label=<el<SUB>%s</SUB> &lt; el<SUB>%s</SUB> ?>] \\n'\n",
    "             % (random.randint(0, 3), random.randint(0, 3)),\n",
    "             'd13 [label=<el<SUB>%s</SUB> &lt; el<SUB>%s</SUB> ?>] \\n'\n",
    "             % (random.randint(0, 3), random.randint(0, 3)),\n",
    "             'd21 [label=<el<SUB>%s</SUB> &lt; el<SUB>%s</SUB> ?>] \\n'\n",
    "             % (random.randint(0, 3), random.randint(0, 3)),\n",
    "             'd22 [label=<el<SUB>%s</SUB> &lt; el<SUB>%s</SUB> ?>] \\n'\n",
    "             % (random.randint(0, 3), random.randint(0, 3)),\n",
    "             'd23 [label=<el<SUB>%s</SUB> &lt; el<SUB>%s</SUB> ?>] \\n'\n",
    "             % (random.randint(0, 3), random.randint(0, 3)),\n",
    "             'd24 [label=<el<SUB>%s</SUB> &lt; el<SUB>%s</SUB> ?>] \\n'\n",
    "             % (random.randint(0, 3), random.randint(0, 3)),\n",
    "             'd25 [label=<el<SUB>%s</SUB> &lt; el<SUB>%s</SUB> ?>] \\n'\n",
    "             % (random.randint(0, 3), random.randint(0, 3)),\n",
    "             'd26 [label=<el<SUB>%s</SUB> &lt; el<SUB>%s</SUB> ?>] \\n'\n",
    "             % (random.randint(0, 3), random.randint(0, 3)),\n",
    "             'done1 [label=done] \\n',\n",
    "             'done2 [label=done] \\n',\n",
    "             'done3 [label=done] \\n',\n",
    "             'done4 [label=done] \\n',\n",
    "             'done5 [label=done] \\n',\n",
    "             'done6 [label=done] \\n',\n",
    "             ]\n",
    "\n",
    "    r = random.randint(0, 1)\n",
    "\n",
    "    if r == 1:\n",
    "        rgraph = '{' + graphic + lines_1[1] + lines_1[2] + \\\n",
    "                 lines_2[2] + lines_2[3] + lines_2[4] + \\\n",
    "                 lines_2[5] + lines_3[2] + \\\n",
    "                 lines_3[3] + lines_3[4] + lines_3[5] + \\\n",
    "                 names[0] + names[2] + names[3] + \\\n",
    "                 names[6] + names[7] + names[8] + names[9] + \\\n",
    "                 names[12] + names[13] + names[14] + names[15] + \"}\"\n",
    "        \n",
    "        with open('random_tree1.dot', 'w', encoding='utf-8') as f:\n",
    "            f.write(rgraph)\n",
    "\n",
    "    else:\n",
    "        rgraph = '{' + graphic + lines_1[0] + lines_1[1] + lines_1[2] + \\\n",
    "                 lines_2[0] + lines_2[1] + lines_2[2] + lines_2[3] + \\\n",
    "                 lines_2[4] + lines_2[5] + lines_3[0] + lines_3[1] + \\\n",
    "                 lines_3[2] + lines_3[3] + lines_3[4] + lines_3[5] + \\\n",
    "                 names[0] + names[1] + names[2] + names[3] + names[4] + \\\n",
    "                 names[5] + names[6] + names[7] + names[7] + names[8] + \\\n",
    "                 names[9] + names[10] + names[11] + names[12] + names[13] \\\n",
    "                 + names[14] + names[15] + \"}\"\n",
    "        \n",
    "        with open('random_tree2.dot', 'w', encoding='utf-8') as f:\n",
    "            f.write(rgraph)\n"
   ]
  },
  {
   "cell_type": "code",
   "execution_count": 279,
   "metadata": {},
   "outputs": [
    {
     "data": {
      "text/plain": [
       "'{d0 -> d12 [label=\"1\", color=\"green4\"] ; \\nd0 -> d13 [label=\"6\", color=\"red2\"] ; \\nd12 -> d23 [label=\"3\", color=\"red2\"] ; \\nd12 -> d24 [label=\"4\", color=\"red2\"] ; \\nd13 -> d25 [label=\"4\", color=\"red2\"] ; \\nd13 -> d26 [label=\"2\", color=\"red2\"] ; \\nd23 -> done3 [label=\"1\", color=\"green4\"] ; \\nd24 -> done4 [label=\"1\", color=\"green4\"] ; \\nd25 -> done5 [label=\"1\", color=\"red2\"] ; \\nd26 -> done6 [label=\"1\", color=\"red2\"] ; \\nd0 [label=<el<SUB>1</SUB> &lt; el<SUB>0</SUB> ?>] \\nd12 [label=<el<SUB>2</SUB> &lt; el<SUB>3</SUB> ?>] \\nd13 [label=<el<SUB>1</SUB> &lt; el<SUB>1</SUB> ?>] \\nd23 [label=<el<SUB>0</SUB> &lt; el<SUB>3</SUB> ?>] \\nd24 [label=<el<SUB>1</SUB> &lt; el<SUB>2</SUB> ?>] \\nd25 [label=<el<SUB>0</SUB> &lt; el<SUB>3</SUB> ?>] \\nd26 [label=<el<SUB>2</SUB> &lt; el<SUB>1</SUB> ?>] \\ndone3 [label=done] \\ndone4 [label=done] \\ndone5 [label=done] \\ndone6 [label=done] \\n}'"
      ]
     },
     "execution_count": 279,
     "metadata": {},
     "output_type": "execute_result"
    }
   ],
   "source": [
    "random_graph()"
   ]
  },
  {
   "cell_type": "code",
   "execution_count": null,
   "metadata": {},
   "outputs": [],
   "source": []
  },
  {
   "cell_type": "code",
   "execution_count": 205,
   "metadata": {},
   "outputs": [],
   "source": []
  },
  {
   "cell_type": "code",
   "execution_count": null,
   "metadata": {},
   "outputs": [],
   "source": []
  },
  {
   "cell_type": "code",
   "execution_count": null,
   "metadata": {},
   "outputs": [],
   "source": []
  },
  {
   "cell_type": "code",
   "execution_count": null,
   "metadata": {},
   "outputs": [],
   "source": []
  },
  {
   "cell_type": "markdown",
   "metadata": {},
   "source": [
    "### Сортировки"
   ]
  },
  {
   "cell_type": "markdown",
   "metadata": {},
   "source": [
    "Ну давайте подумаем, сколько стоят сортиовки. <p>\n",
    "Я бы посчитал кол-во элементов в логах.<p>\n",
    "Для sorted это:"
   ]
  },
  {
   "cell_type": "code",
   "execution_count": 11,
   "metadata": {},
   "outputs": [],
   "source": [
    "result = print_logs(sorted, 3)\n",
    "s3 = 0\n",
    "for l in result:\n",
    "    for el in l:\n",
    "        s3 += 1\n"
   ]
  },
  {
   "cell_type": "code",
   "execution_count": 12,
   "metadata": {},
   "outputs": [],
   "source": [
    "result = print_logs(sorted, 4)\n",
    "s4 = 0\n",
    "for l in result:\n",
    "    for el in l:\n",
    "        s4 += 1\n"
   ]
  },
  {
   "cell_type": "code",
   "execution_count": 13,
   "metadata": {},
   "outputs": [],
   "source": [
    "result = print_logs(sorted, 5)\n",
    "s5 = 0\n",
    "for l in result:\n",
    "    for el in l:\n",
    "        s5 += 1\n"
   ]
  },
  {
   "cell_type": "code",
   "execution_count": 261,
   "metadata": {},
   "outputs": [
    {
     "name": "stdout",
     "output_type": "stream",
     "text": [
      "Кол-во сравнений у sorted - 19, 128, 933\n"
     ]
    }
   ],
   "source": [
    "print('Кол-во сравнений у sorted - %s, %s, %s' % (s3, s4, s5))\n"
   ]
  },
  {
   "cell_type": "markdown",
   "metadata": {},
   "source": [
    "Для bubblesort:"
   ]
  },
  {
   "cell_type": "code",
   "execution_count": 262,
   "metadata": {},
   "outputs": [],
   "source": [
    "result = print_logs(bubble_sort, 3)\n",
    "b3 = 0\n",
    "for l in result:\n",
    "    for el in l:\n",
    "        b3 += 1\n"
   ]
  },
  {
   "cell_type": "code",
   "execution_count": 16,
   "metadata": {},
   "outputs": [],
   "source": [
    "result = print_logs(bubble_sort, 4)\n",
    "b4 = 0\n",
    "for l in result:\n",
    "    for el in l:\n",
    "        b4 += 1\n"
   ]
  },
  {
   "cell_type": "code",
   "execution_count": 264,
   "metadata": {},
   "outputs": [],
   "source": [
    "result = print_logs(bubble_sort, 5)\n",
    "b5 = 0\n",
    "for l in result:\n",
    "    for el in l:\n",
    "        b5 += 1\n"
   ]
  },
  {
   "cell_type": "code",
   "execution_count": 18,
   "metadata": {},
   "outputs": [
    {
     "name": "stdout",
     "output_type": "stream",
     "text": [
      "26 207 1732\n"
     ]
    }
   ],
   "source": [
    "print('Кол-во сравнений у bubblesort - %s, %s, %s' % (b3, b4, b5))\n"
   ]
  },
  {
   "cell_type": "markdown",
   "metadata": {},
   "source": [
    "Для quicksort:"
   ]
  },
  {
   "cell_type": "code",
   "execution_count": 267,
   "metadata": {},
   "outputs": [],
   "source": [
    "result = print_logs(quick_sort, 3)\n",
    "q3 = 0\n",
    "for l in result:\n",
    "    for el in l:\n",
    "        q3 += 1\n"
   ]
  },
  {
   "cell_type": "code",
   "execution_count": 266,
   "metadata": {},
   "outputs": [],
   "source": [
    "result = print_logs(quick_sort, 4)\n",
    "q4 = 0\n",
    "for l in result:\n",
    "    for el in l:\n",
    "        q4 += 1\n"
   ]
  },
  {
   "cell_type": "code",
   "execution_count": 265,
   "metadata": {},
   "outputs": [],
   "source": [
    "result = print_logs(quick_sort, 5)\n",
    "q5 = 0\n",
    "for l in result:\n",
    "    for el in l:\n",
    "        q5 += 1\n"
   ]
  },
  {
   "cell_type": "code",
   "execution_count": 268,
   "metadata": {},
   "outputs": [
    {
     "name": "stdout",
     "output_type": "stream",
     "text": [
      "Кол-во сравнений у quicksort - 48, 314, 2248\n"
     ]
    }
   ],
   "source": [
    "print('Кол-во сравнений у quicksort - %s, %s, %s' % (q3, q4, q5))\n"
   ]
  }
 ],
 "metadata": {
  "kernelspec": {
   "display_name": "Python 3",
   "language": "python",
   "name": "python3"
  },
  "language_info": {
   "codemirror_mode": {
    "name": "ipython",
    "version": 3
   },
   "file_extension": ".py",
   "mimetype": "text/x-python",
   "name": "python",
   "nbconvert_exporter": "python",
   "pygments_lexer": "ipython3",
   "version": "3.8.3"
  }
 },
 "nbformat": 4,
 "nbformat_minor": 4
}
