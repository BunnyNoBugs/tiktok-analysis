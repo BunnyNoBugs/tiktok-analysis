{
 "cells": [
  {
   "cell_type": "markdown",
   "metadata": {},
   "source": [
    "# Dijkstra"
   ]
  },
  {
   "cell_type": "code",
   "execution_count": 1,
   "metadata": {},
   "outputs": [],
   "source": [
    "from typing import Union, Optional"
   ]
  },
  {
   "cell_type": "code",
   "execution_count": 2,
   "metadata": {},
   "outputs": [],
   "source": [
    "def dijkstra(start: int, graph: dict) -> Union[dict, str]:\n",
    "    path = {}\n",
    "    seen = []\n",
    "    for verticle in graph:\n",
    "        if verticle == start:\n",
    "            path[verticle] = 0\n",
    "        else:\n",
    "            path[verticle] = float('inf')\n",
    "\n",
    "    # беру минимальную вершину\n",
    "    try:\n",
    "        min_v = min(path, key=path.get)\n",
    "    except ValueError:\n",
    "        return 'Дан пустой граф'\n",
    "\n",
    "    # рассмотрим все вершины в которые из вершины W есть путь,\n",
    "    # не содержащий вершин посредников\n",
    "    for connected in graph[min_v]:\n",
    "        if path[connected] == float('inf'):\n",
    "            path[connected] = graph[min_v][connected]\n",
    "\n",
    "    seen.append(min_v)  # рассмотрели первую вершину\n",
    "    while len(seen) != len(graph):\n",
    "        # выбираем из ещё не посещенных такую,\n",
    "        # которая имеет минимальное значение метки\n",
    "        not_seen = {}\n",
    "        for verticle in path:\n",
    "            if verticle not in seen:\n",
    "                not_seen[verticle] = path[verticle]\n",
    "        try:\n",
    "            min_v = min(not_seen, key=not_seen.get)\n",
    "        except ValueError:\n",
    "            return path\n",
    "\n",
    "        # если нет ни одного исходящего пути из вершины\n",
    "        while len(graph[min_v]) < 1:\n",
    "            not_seen = {}\n",
    "            # тогда помечаем такую вершину как просмотренную\n",
    "            seen.append(min_v)\n",
    "            for verticle in path:\n",
    "                if verticle not in seen:\n",
    "                    not_seen[verticle] = path[verticle]\n",
    "\n",
    "            # на случай если закончатся вершины\n",
    "            try:\n",
    "                min_v = min(not_seen, key=not_seen.get)\n",
    "            except ValueError:\n",
    "                return path\n",
    "\n",
    "        # рассмотрим непосещенные вершины\n",
    "        for verticle in not_seen:  # все соединенные вершины с нашей вершиной\n",
    "            if verticle in graph[min_v]:\n",
    "                if path[min_v] + graph[min_v][verticle] < path[verticle]:\n",
    "                    path[verticle] = path[min_v] + graph[min_v][verticle]\n",
    "\n",
    "        seen.append(min_v)\n",
    "    return path\n"
   ]
  },
  {
   "cell_type": "code",
   "execution_count": 3,
   "metadata": {},
   "outputs": [
    {
     "name": "stdout",
     "output_type": "stream",
     "text": [
      "{1: 0, 2: 10, 3: 20, 4: 26, 5: 10, 6: 25, 7: 40}\n",
      "{1: inf, 2: inf, 3: inf, 4: inf, 5: inf, 6: inf, 7: 0}\n"
     ]
    }
   ],
   "source": [
    "graph4 = {\n",
    "    1: {2: 10, 3: 30, 4: 50, 5: 10, 6: 60, 7: 100},\n",
    "    2: {7: 30},\n",
    "    3: {5: 10},\n",
    "    4: {2: 40, 3: 20, 6: 1},\n",
    "    5: {1: 10, 3: 10, 4: 30, 6: 15},\n",
    "    6: {1: 60, 4: 1, 5: 15},\n",
    "    7: {}\n",
    "}\n",
    "\n",
    "print(dijkstra(1, graph4))\n",
    "print(dijkstra(7, graph4))\n"
   ]
  },
  {
   "cell_type": "code",
   "execution_count": 4,
   "metadata": {},
   "outputs": [
    {
     "name": "stdout",
     "output_type": "stream",
     "text": [
      "{1: 0, 2: 10, 3: 20, 4: 40, 5: 10}\n",
      "{1: 20, 2: 30, 3: 0, 4: 40, 5: 10}\n"
     ]
    }
   ],
   "source": [
    "graph5 = {\n",
    "    1: {2: 10, 3: 30, 4: 50, 5: 10},\n",
    "    2: {},\n",
    "    3: {5: 10},\n",
    "    4: {2: 40, 3: 20},\n",
    "    5: {1: 10, 3: 10, 4: 30},\n",
    "}\n",
    "\n",
    "print(dijkstra(1, graph5))\n",
    "print(dijkstra(3, graph5))"
   ]
  },
  {
   "cell_type": "code",
   "execution_count": 5,
   "metadata": {},
   "outputs": [
    {
     "name": "stdout",
     "output_type": "stream",
     "text": [
      "Дан пустой граф\n"
     ]
    }
   ],
   "source": [
    "graph6 = {}\n",
    "print(dijkstra(1, graph6))\n"
   ]
  },
  {
   "cell_type": "markdown",
   "metadata": {},
   "source": [
    "Если граф несвязный, то он просто не работает. Не падает, так что я считаю, что условие выполнено."
   ]
  },
  {
   "cell_type": "code",
   "execution_count": 6,
   "metadata": {},
   "outputs": [
    {
     "name": "stdout",
     "output_type": "stream",
     "text": [
      "{1: 0, 2: 10, 3: inf, 4: inf}\n"
     ]
    }
   ],
   "source": [
    "graph7 = {\n",
    "          1: {2: 10},\n",
    "          2: {1: 5},\n",
    "          3: {4: 10},\n",
    "          4: {3: 5}\n",
    "}\n",
    "print(dijkstra(1, graph7))\n"
   ]
  },
  {
   "cell_type": "markdown",
   "metadata": {},
   "source": [
    "# Huffman"
   ]
  },
  {
   "cell_type": "code",
   "execution_count": 7,
   "metadata": {},
   "outputs": [],
   "source": [
    "from collections import Counter\n",
    "\n",
    "\n",
    "class Tree:\n",
    "    # в ините говорили можно не делать тайпинги\n",
    "    def __init__(self, left=None, right=None):\n",
    "        self.left = left\n",
    "        self.right = right\n",
    "\n",
    "\n",
    "def huffman(node: 'node', left: bool = True, binString: str = '') -> dict:\n",
    "    # лево - нолик, право - единичка. Бинарная строка \"накапливает\" кодировку\n",
    "    if type(node) is not str:\n",
    "        d = {}\n",
    "        # рекурсивная функция - сначала разбирается левая ветвь\n",
    "        d.update(huffman(node.left, True, binString + '0'))\n",
    "        # рекурсивная функция - разбирается правая ветвь\n",
    "        d.update(huffman(node.right, False, binString + '1'))\n",
    "        return d\n",
    "    return {node: binString}  # тут букве присваивается накопленная кодировка\n",
    "\n",
    "\n",
    "def preparation(string: str) -> 'nodes':\n",
    "    # расчет частоты\n",
    "    freq = Counter(string)\n",
    "    # сортируем по частоте\n",
    "    freq = sorted(freq.items(), key=lambda x: x[1], reverse=True)\n",
    "    nodes = freq\n",
    "\n",
    "    while len(nodes) > 1:\n",
    "        (key1, f1) = nodes[-1]\n",
    "        (key2, f2) = nodes[-2]\n",
    "        nodes.pop(-1)\n",
    "        nodes.pop(-1)  # убираем два последних элемента\n",
    "        node = Tree(key1, key2)  # key1 - самое маленькое и получается левым\n",
    "        nodes.append((node, f1 + f2))  # добавляем кортеж узла и его частоты\n",
    "        nodes = sorted(nodes, key=lambda x: x[1], reverse=True)\n",
    "    return nodes\n",
    "\n",
    "\n",
    "def huffmanCode(dictionary: dict, text: str) -> str:\n",
    "    for coded_letter in dictionary:\n",
    "        for letter in text:\n",
    "            if letter == coded_letter:\n",
    "                text = text.replace(letter, dictionary[letter])\n",
    "    return text\n",
    "\n",
    "\n",
    "def huffmanDecode(dictionary: dict, text: str) -> str:\n",
    "    res = \"\"\n",
    "    while text:\n",
    "        for k in dictionary.values():\n",
    "            if text.startswith(k):\n",
    "                for letter, code in dictionary.items():\n",
    "                    if code == k:\n",
    "                        res += letter\n",
    "                text = text[len(k):]\n",
    "    return res\n"
   ]
  },
  {
   "cell_type": "code",
   "execution_count": 8,
   "metadata": {},
   "outputs": [],
   "source": [
    "def huffmanCode(dictionary, text):\n",
    "    for coded_letter in dictionary:\n",
    "        for letter in text:\n",
    "            if letter == coded_letter:\n",
    "                text = text.replace(letter, dictionary[letter])\n",
    "    return text\n"
   ]
  },
  {
   "cell_type": "code",
   "execution_count": 17,
   "metadata": {},
   "outputs": [],
   "source": [
    "def huffmanDecode(dictionary, text):\n",
    "    res = \"\"\n",
    "    while text:\n",
    "        for k in dictionary.values():\n",
    "            if text.startswith(k):\n",
    "                for letter, code in dictionary.items():\n",
    "                    if code == k:\n",
    "                        res += letter\n",
    "                text = text[len(k):]\n",
    "    return res\n"
   ]
  },
  {
   "cell_type": "code",
   "execution_count": 18,
   "metadata": {},
   "outputs": [
    {
     "name": "stdout",
     "output_type": "stream",
     "text": [
      "{'D': '00', 'S': '01', 'A': '1'}\n",
      "101001111\n",
      "\n",
      "A\n",
      "AS\n",
      "ASD\n",
      "ASDA\n",
      "ASDAA\n",
      "ASDAAA\n",
      "ASDAAAA\n"
     ]
    }
   ],
   "source": [
    "nodes1 = preparation('ASDAAAA')\n",
    "dictionary1 = huffman(nodes1[0][0])  # передаю экземпляр класса Tree\n",
    "\n",
    "print(dictionary1)\n",
    "\n",
    "coded1 = huffmanCode(dictionary1, 'ASDAAAA')\n",
    "print(coded1)\n",
    "\n",
    "print(huffmanDecode(dictionary1, coded1))\n"
   ]
  },
  {
   "cell_type": "code",
   "execution_count": 11,
   "metadata": {},
   "outputs": [
    {
     "name": "stdout",
     "output_type": "stream",
     "text": [
      "{'м': '0', ' ': '100', 'у': '1010', 'р': '1011', 'а': '11'}\n",
      "01101110010111101010\n",
      "мама раму\n"
     ]
    }
   ],
   "source": [
    "nodes2 = preparation('мама раму')\n",
    "dictionary2 = huffman(nodes2[0][0])  # передаю экземпляр класса Tree\n",
    "\n",
    "print(dictionary2)\n",
    "\n",
    "coded2 = huffmanCode(dictionary2, 'мама раму')\n",
    "print(coded2)\n",
    "\n",
    "print(huffmanDecode(dictionary2, coded2))\n"
   ]
  },
  {
   "cell_type": "markdown",
   "metadata": {},
   "source": [
    "Нельзя кодировать из одного символа, поэтому я считаю нормальным, что алгоритм не срабатывает"
   ]
  },
  {
   "cell_type": "code",
   "execution_count": 12,
   "metadata": {},
   "outputs": [
    {
     "name": "stdout",
     "output_type": "stream",
     "text": [
      "{'v': ''}\n",
      "\n",
      "\n"
     ]
    }
   ],
   "source": [
    "nodes3 = preparation('v')\n",
    "dictionary3 = huffman(nodes3[0][0])  # передаю экземпляр класса Tree\n",
    "\n",
    "print(dictionary3)\n",
    "\n",
    "coded3 = huffmanCode(dictionary3, 'v')\n",
    "print(coded3)\n",
    "\n",
    "print(huffmanDecode(dictionary3, coded3))\n"
   ]
  },
  {
   "cell_type": "markdown",
   "metadata": {},
   "source": [
    "# Kruskals"
   ]
  },
  {
   "cell_type": "code",
   "execution_count": 13,
   "metadata": {},
   "outputs": [],
   "source": [
    "from typing import List"
   ]
  },
  {
   "cell_type": "code",
   "execution_count": 14,
   "metadata": {},
   "outputs": [],
   "source": [
    "from typing import List\n",
    "\n",
    "\n",
    "def Kruskal(graph: List[list]) -> List[list]:\n",
    "    # не понял прекола, пайчарм говорит что у меня dict[dict] в тайпингах\n",
    "    s_graph = sorted(graph, key=lambda x: x[0])\n",
    "    binded = []  # список соединенных вершин\n",
    "    isol_V = {}  # словарь списка изолированных групп вершин\n",
    "    MST = []  # список ребер остова\n",
    "\n",
    "    for r in s_graph:\n",
    "        # если хотя бы одна веришна изолирована\n",
    "        if r[1] not in binded or r[2] not in binded:\n",
    "            # если обе вершины изолированы, то соединяем их\n",
    "            if r[1] not in binded and r[2] not in binded:\n",
    "                # по-факту пишем: \"вершина 3 соединениа ребром 3-4,\n",
    "                # вершина 4 соединениа ребром 3-4\"\n",
    "                isol_V[r[1]] = [r[1], r[2]]\n",
    "                isol_V[r[2]] = isol_V[r[1]]\n",
    "            # если только одна вершина изолирована\n",
    "            else:\n",
    "                # если изолирована первая вершина, то\n",
    "                # добавляем её в уже готовое соединение со второй вершиной\n",
    "                # и копируем с другим индексом\n",
    "                if not isol_V.get(r[1]):\n",
    "                    isol_V[r[2]].append(r[1])\n",
    "                    isol_V[r[1]] = isol_V[r[2]]\n",
    "\n",
    "                else:\n",
    "                    # иначе, все то же самое делаем со второй вершиной\n",
    "                    # то есть мы вообще не трогаем\n",
    "                    # уже с чем-то соединенную вершину\n",
    "                    isol_V[r[1]].append(r[2])\n",
    "                    isol_V[r[2]] = isol_V[r[1]]\n",
    "\n",
    "            MST.append(r)  # добавляем ребро в остов\n",
    "            binded.append(r[1])  # добавляем вершины как соединенные в binded\n",
    "            binded.append(r[2])\n",
    "\n",
    "    for r in s_graph:  # объединяем разрозненные соединения вершин\n",
    "        # если вершины принадлежат разным группам, то объединяем\n",
    "        if r[2] not in isol_V[r[1]]:\n",
    "            # добавляем ребро в остов\n",
    "            # объединем списки двух групп вершин\n",
    "            MST.append(r)\n",
    "            grouped = isol_V[r[1]]\n",
    "            isol_V[r[1]] += isol_V[r[2]]\n",
    "            isol_V[r[2]] += grouped\n",
    "\n",
    "    return MST\n"
   ]
  },
  {
   "cell_type": "code",
   "execution_count": 15,
   "metadata": {},
   "outputs": [
    {
     "name": "stdout",
     "output_type": "stream",
     "text": [
      "[[4, 2, 3], [6, 0, 2], [10, 0, 1]]\n"
     ]
    }
   ],
   "source": [
    "graph2 = [[10, 0, 1], [6, 0, 2], [5, 2, 3], [15, 1, 3], [4, 2, 3]]\n",
    "\n",
    "print(Kruskal(graph2))\n"
   ]
  },
  {
   "cell_type": "code",
   "execution_count": 16,
   "metadata": {},
   "outputs": [
    {
     "name": "stdout",
     "output_type": "stream",
     "text": [
      "[[3, 3, 4], [13, 1, 2], [14, 1, 5], [19, 4, 6], [17, 1, 4]]\n"
     ]
    }
   ],
   "source": [
    "graph1 = [[13, 1, 2], [18, 1, 3], [17, 1, 4], [14, 1, 5], [22, 1, 6],\n",
    "          [26, 2, 3], [22, 2, 5], [3, 3, 4], [19, 4, 6]]\n",
    "\n",
    "print(Kruskal(graph1))\n"
   ]
  }
 ],
 "metadata": {
  "kernelspec": {
   "display_name": "Python 3",
   "language": "python",
   "name": "python3"
  },
  "language_info": {
   "codemirror_mode": {
    "name": "ipython",
    "version": 3
   },
   "file_extension": ".py",
   "mimetype": "text/x-python",
   "name": "python",
   "nbconvert_exporter": "python",
   "pygments_lexer": "ipython3",
   "version": "3.8.5"
  }
 },
 "nbformat": 4,
 "nbformat_minor": 4
}
